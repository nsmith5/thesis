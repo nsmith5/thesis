{
 "cells": [
  {
   "cell_type": "markdown",
   "metadata": {},
   "source": [
    "# Computing $\\tilde{C}(k)$ for the PY Closure\n"
   ]
  },
  {
   "cell_type": "code",
   "execution_count": 1,
   "metadata": {
    "collapsed": false
   },
   "outputs": [
    {
     "name": "stdout",
     "output_type": "stream",
     "text": [
      "Connecting Maxima to server on port 8080\n"
     ]
    }
   ],
   "source": [
    "using Maxima"
   ]
  },
  {
   "cell_type": "code",
   "execution_count": 5,
   "metadata": {
    "collapsed": false
   },
   "outputs": [
    {
     "data": {
      "text/latex": [
       " \n",
       "$$r^3\\,δ+r\\,β+α$$\n"
      ],
      "text/plain": [
       " \n",
       "                                 3\n",
       "                                r  δ + r β + α"
      ]
     },
     "execution_count": 5,
     "metadata": {},
     "output_type": "execute_result"
    }
   ],
   "source": [
    "η = m\"%pi*ρ*R/6\"\n",
    "α = m\"-(1+2*η)^2/(1-η)^4\"\n",
    "β = m\"6*η*(1 + η/2)^2/(1-η)^4\"\n",
    "δ = m\"-η*(1 + 2*η)^2/(2*(1-η)^4)\"\n",
    "\n",
    "C₂ = m\"α + β*r + δ*r^3\""
   ]
  },
  {
   "cell_type": "code",
   "execution_count": 11,
   "metadata": {
    "collapsed": false
   },
   "outputs": [
    {
     "data": {
      "text/latex": [
       " \n",
       "$${{-\\left(12\\,\\pi^3\\,R^3\\,r^3-9\\,\\pi^3\\,R^3\\,r\\right)\\,ρ^3-\\left(72\n",
       " \\,\\pi^2\\,R^2\\,r^3-216\\,\\pi^2\\,R^2\\,r+144\\,\\pi^2\\,R^2\\right)\\,ρ^2-\n",
       " \\left(108\\,\\pi\\,R\\,r^3-1296\\,\\pi\\,R\\,r+864\\,\\pi\\,R\\right)\\,ρ-1296\n",
       " }\\over{\\pi^4\\,R^4\\,ρ^4-24\\,\\pi^3\\,R^3\\,ρ^3+216\\,\\pi^2\\,R^2\\,ρ^2-864\n",
       " \\,\\pi\\,R\\,ρ+1296}}$$\n"
      ],
      "text/plain": [
       " \n",
       "            3  3  3        3  3     3           2  2  3          2  2\n",
       " ((- (12 %pi  R  r  - 9 %pi  R  r) ρ ) - (72 %pi  R  r  - 216 %pi  R  r\n",
       "          2  2   2               3\n",
       " + 144 %pi  R ) ρ  - (108 %pi R r  - 1296 %pi R r + 864 %pi R) ρ - 1296)\n",
       "     4  4  4         3  3  3          2  2  2\n",
       "/(%pi  R  ρ  - 24 %pi  R  ρ  + 216 %pi  R  ρ  - 864 %pi R ρ + 1296)"
      ]
     },
     "execution_count": 11,
     "metadata": {},
     "output_type": "execute_result"
    }
   ],
   "source": [
    "C₂ = subst(α, \"α\", C₂)\n",
    "C₂ = subst(β, \"β\", C₂)\n",
    "C₂ = subst(δ, \"δ\", C₂)\n",
    "C₂ = subst(η, \"η\", C₂)\n",
    "C₂ = ratsimp(C₂)"
   ]
  },
  {
   "cell_type": "code",
   "execution_count": null,
   "metadata": {
    "collapsed": true
   },
   "outputs": [],
   "source": [
    "integrate(MExpr(\"$C₂*sin(k*r)/(k*r)*r^2\"), :r, 0, \"R\")"
   ]
  },
  {
   "cell_type": "code",
   "execution_count": null,
   "metadata": {
    "collapsed": true
   },
   "outputs": [],
   "source": []
  }
 ],
 "metadata": {
  "kernelspec": {
   "display_name": "Julia 0.4.6",
   "language": "julia",
   "name": "julia-0.4"
  },
  "language_info": {
   "file_extension": ".jl",
   "mimetype": "application/julia",
   "name": "julia",
   "version": "0.4.6"
  }
 },
 "nbformat": 4,
 "nbformat_minor": 0
}
