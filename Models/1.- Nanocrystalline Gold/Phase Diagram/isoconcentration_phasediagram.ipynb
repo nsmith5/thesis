{
 "cells": [
  {
   "cell_type": "markdown",
   "metadata": {},
   "source": [
    "# Constant Concentration Phase Diagram"
   ]
  },
  {
   "cell_type": "code",
   "execution_count": 1,
   "metadata": {
    "collapsed": false
   },
   "outputs": [
    {
     "name": "stderr",
     "output_type": "stream",
     "text": [
      "\u001b[1m\u001b[34mINFO: Recompiling stale cache file /home/nsmith/.julia/lib/v0.5/DataStructures.ji for module DataStructures.\n",
      "\u001b[0m"
     ]
    },
    {
     "name": "stdout",
     "output_type": "stream",
     "text": [
      "Connecting Maxima to server on port 8080\n"
     ]
    },
    {
     "data": {
      "text/html": [
       "<div id=\"interact-js-shim\">\n",
       "    <script charset=\"utf-8\">\n",
       "(function (IPython, $, _, MathJax) {\n",
       "    $.event.special.destroyed = {\n",
       "\tremove: function(o) {\n",
       "\t    if (o.handler) {\n",
       "\t\to.handler.apply(this, arguments)\n",
       "\t    }\n",
       "\t}\n",
       "    }\n",
       "\n",
       "    var OutputArea = IPython.version >= \"4.0.0\" ? require(\"notebook/js/outputarea\").OutputArea : IPython.OutputArea;\n",
       "\n",
       "    var redrawValue = function (container, type, val) {\n",
       "\tvar selector = $(\"<div/>\");\n",
       "\tvar oa = new OutputArea(_.extend(selector, {\n",
       "\t    selector: selector,\n",
       "\t    prompt_area: true,\n",
       "\t    events: IPython.events,\n",
       "\t    keyboard_manager: IPython.keyboard_manager\n",
       "\t})); // Hack to work with IPython 2.1.0\n",
       "\n",
       "\tswitch (type) {\n",
       "\tcase \"image/png\":\n",
       "            var _src = 'data:' + type + ';base64,' + val;\n",
       "\t    $(container).find(\"img\").attr('src', _src);\n",
       "\t    break;\n",
       "\tcase \"text/latex\":\n",
       "\t\tif (MathJax){\n",
       "\t\t\tvar math = MathJax.Hub.getAllJax(container)[0];\n",
       "\t\t\tMathJax.Hub.Queue([\"Text\", math, val.replace(/^\\${1,2}|\\${1,2}$/g, '')]);\n",
       "\t\t\tbreak;\n",
       "\t\t}\n",
       "\tdefault:\n",
       "\t    var toinsert = OutputArea.append_map[type].apply(\n",
       "\t\toa, [val, {}, selector]\n",
       "\t    );\n",
       "\t    $(container).empty().append(toinsert.contents());\n",
       "\t    selector.remove();\n",
       "\t}\n",
       "    }\n",
       "\n",
       "\n",
       "    $(document).ready(function() {\n",
       "\tfunction initComm(evt, data) {\n",
       "\t    var comm_manager = data.kernel.comm_manager;\n",
       "        //_.extend(comm_manager.targets, require(\"widgets/js/widget\"))\n",
       "\t    comm_manager.register_target(\"Signal\", function (comm) {\n",
       "            comm.on_msg(function (msg) {\n",
       "                var val = msg.content.data.value;\n",
       "                $(\".signal-\" + comm.comm_id).each(function() {\n",
       "                var type = $(this).data(\"type\");\n",
       "                if (typeof(val[type]) !== \"undefined\" && val[type] !== null) {\n",
       "                    redrawValue(this, type, val[type], type);\n",
       "                }\n",
       "                });\n",
       "                delete val;\n",
       "                delete msg.content.data.value;\n",
       "            });\n",
       "\t    });\n",
       "\n",
       "\t    // coordingate with Comm and redraw Signals\n",
       "\t    // XXX: Test using Reactive here to improve performance\n",
       "\t    $([IPython.events]).on(\n",
       "\t\t'output_appended.OutputArea', function (event, type, value, md, toinsert) {\n",
       "\t\t    if (md && md.reactive) {\n",
       "                // console.log(md.comm_id);\n",
       "                toinsert.addClass(\"signal-\" + md.comm_id);\n",
       "                toinsert.data(\"type\", type);\n",
       "                // Signal back indicating the mimetype required\n",
       "                var comm_manager = IPython.notebook.kernel.comm_manager;\n",
       "                var comm = comm_manager.comms[md.comm_id];\n",
       "                comm.then(function (c) {\n",
       "                    c.send({action: \"subscribe_mime\",\n",
       "                       mime: type});\n",
       "                    toinsert.bind(\"destroyed\", function() {\n",
       "                        c.send({action: \"unsubscribe_mime\",\n",
       "                               mime: type});\n",
       "                    });\n",
       "                })\n",
       "\t\t    }\n",
       "\t    });\n",
       "\t}\n",
       "\n",
       "\ttry {\n",
       "\t    // try to initialize right away. otherwise, wait on the status_started event.\n",
       "\t    initComm(undefined, IPython.notebook);\n",
       "\t} catch (e) {\n",
       "\t    $([IPython.events]).on('kernel_created.Kernel kernel_created.Session', initComm);\n",
       "\t}\n",
       "    });\n",
       "})(IPython, jQuery, _, MathJax);\n",
       "</script>\n",
       "    <script>\n",
       "        window.interactLoadedFlag = true\n",
       "       $(\"#interact-js-shim\").bind(\"destroyed\", function () {\n",
       "           if (window.interactLoadedFlag) {\n",
       "               console.warn(\"JavaScript required by Interact will be removed if you remove this cell or run using Interact more than once.\")\n",
       "           }\n",
       "       })\n",
       "       $([IPython.events]).on(\"kernel_starting.Kernel kernel_restarting.Kernel\", function () { window.interactLoadedFlag = false })\n",
       "   </script>\n",
       "</div>"
      ]
     },
     "metadata": {},
     "output_type": "display_data"
    },
    {
     "name": "stderr",
     "output_type": "stream",
     "text": [
      "\u001b[1m\u001b[34mINFO: Recompiling stale cache file /home/nsmith/.julia/lib/v0.5/Optim.ji for module Optim.\n",
      "\u001b[0m"
     ]
    }
   ],
   "source": [
    "using Maxima\n",
    "using PyPlot\n",
    "using Interact\n",
    "using PhaseDiagrams\n",
    "using Optim"
   ]
  },
  {
   "cell_type": "markdown",
   "metadata": {},
   "source": [
    "## Ideal Free Energy\n",
    "\n",
    "Below we use symbolic computations and metaprogramming to construct methods for ideal free energy of the liquid, triangle and stripe phases of the model"
   ]
  },
  {
   "cell_type": "code",
   "execution_count": 2,
   "metadata": {
    "collapsed": false
   },
   "outputs": [
    {
     "data": {
      "text/latex": [
       " \n",
       "$${{n^4\\,χ}\\over{12}}-{{n^3\\,η}\\over{6}}+{{n^2}\\over{2}}$$\n"
      ],
      "text/plain": [
       " \n",
       "                                4      3      2\n",
       "                               n  χ   n  η   n\n",
       "                               ---- - ---- + --\n",
       "                                12     6     2"
      ]
     },
     "execution_count": 2,
     "metadata": {},
     "output_type": "execute_result"
    }
   ],
   "source": [
    "f_ideal = m\"n^2/2 - η*n^3/6 + χ*n^4/12\""
   ]
  },
  {
   "cell_type": "code",
   "execution_count": 3,
   "metadata": {
    "collapsed": false
   },
   "outputs": [
    {
     "data": {
      "text/latex": [
       " \n",
       "$${{\\left(2\\,A\\,{\\it n_1}+{\\it n_0}\\right)^4\\,χ}\\over{12}}-{{\\left(2\n",
       " \\,A\\,{\\it n_1}+{\\it n_0}\\right)^3\\,η}\\over{6}}+{{\\left(2\\,A\\,\n",
       " {\\it n_1}+{\\it n_0}\\right)^2}\\over{2}}$$\n"
      ],
      "text/plain": [
       " \n",
       "                          4                  3                  2\n",
       "             (2 A n1 + n0)  χ   (2 A n1 + n0)  η   (2 A n1 + n0)\n",
       "             ---------------- - ---------------- + --------------\n",
       "                    12                 6                 2"
      ]
     },
     "execution_count": 3,
     "metadata": {},
     "output_type": "execute_result"
    }
   ],
   "source": [
    "n = m\"n0 + 2*A*n1\"\n",
    "f_ideal = subst(n, :n, f_ideal)"
   ]
  },
  {
   "cell_type": "code",
   "execution_count": 4,
   "metadata": {
    "collapsed": false
   },
   "outputs": [
    {
     "data": {
      "text/latex": [
       " \n",
       "$${{4\\,A^4\\,{\\it n_1}^4\\,χ}\\over{3}}+{{8\\,A^3\\,{\\it n_0}\\,{\\it n_1}^3\n",
       " \\,χ}\\over{3}}+2\\,A^2\\,{\\it n_0}^2\\,{\\it n_1}^2\\,χ+{{2\\,A\\,{\\it n_0}^\n",
       " 3\\,{\\it n_1}\\,χ}\\over{3}}+{{{\\it n_0}^4\\,χ}\\over{12}}-{{4\\,A^3\\,\n",
       " {\\it n_1}^3\\,η}\\over{3}}-2\\,A^2\\,{\\it n_0}\\,{\\it n_1}^2\\,η-A\\,\n",
       " {\\it n_0}^2\\,{\\it n_1}\\,η-{{{\\it n_0}^3\\,η}\\over{6}}+2\\,A^2\\,\n",
       " {\\it n_1}^2+2\\,A\\,{\\it n_0}\\,{\\it n_1}+{{{\\it n_0}^2}\\over{2}}$$\n"
      ],
      "text/plain": [
       " \n",
       "    4   4        3      3                            3          4\n",
       " 4 A  n1  χ   8 A  n0 n1  χ      2   2   2     2 A n0  n1 χ   n0  χ\n",
       " ---------- + ------------- + 2 A  n0  n1  χ + ------------ + -----\n",
       "     3              3                               3          12\n",
       "      3   3                                    3                              2\n",
       "   4 A  n1  η      2      2         2        n0  η      2   2               n0\n",
       " - ---------- - 2 A  n0 n1  η - A n0  n1 η - ----- + 2 A  n1  + 2 A n0 n1 + ---\n",
       "       3                                       6                             2"
      ]
     },
     "execution_count": 4,
     "metadata": {},
     "output_type": "execute_result"
    }
   ],
   "source": [
    "f_ideal = expand(f_ideal)"
   ]
  },
  {
   "cell_type": "code",
   "execution_count": 5,
   "metadata": {
    "collapsed": false
   },
   "outputs": [],
   "source": [
    "n1_liq = m\"0.0\"\n",
    "n1_triangle = m\"cos(4*%pi/sqrt(3)*(sqrt(3)*x/2 - y/2)) + \n",
    "                cos(4*%pi/sqrt(3)*(sqrt(3)*x/2 + y/2)) + \n",
    "                cos(4*%pi/sqrt(3)*y)\"\n",
    "n1_stripe = m\"cos(4*%pi/sqrt(3)*y)\"\n",
    "f_liq = subst(n1_liq, :n1, f_ideal)\n",
    "f_tri = subst(n1_triangle, :n1, f_ideal)\n",
    "f_str = subst(n1_stripe, :n1, f_ideal);"
   ]
  },
  {
   "cell_type": "code",
   "execution_count": 6,
   "metadata": {
    "collapsed": true
   },
   "outputs": [],
   "source": [
    "f_liq = MExpr(\"integrate(integrate($f_liq, x, 0, 1), y, 0, sqrt(3)/2)\")\n",
    "f_tri = MExpr(\"integrate(integrate($f_tri, x, 0, 1), y, 0, sqrt(3)/2)\")\n",
    "f_str = MExpr(\"integrate(integrate($f_str, x, 0, 1), y, 0, sqrt(3)/2)\");"
   ]
  },
  {
   "cell_type": "code",
   "execution_count": 7,
   "metadata": {
    "collapsed": false
   },
   "outputs": [],
   "source": [
    "f_liq = mcall(f_liq)\n",
    "f_tri = mcall(f_tri)\n",
    "f_str = mcall(f_str);"
   ]
  },
  {
   "cell_type": "code",
   "execution_count": 8,
   "metadata": {
    "collapsed": false
   },
   "outputs": [],
   "source": [
    "f_liq = ratsimp(f_liq)\n",
    "f_liq = \"$f_liq/(sqrt(3)/2)\" |> MExpr |> mcall\n",
    "f_liq = ratsimp(f_liq)\n",
    "f_liq = float(f_liq)\n",
    "f_liq = expand(f_liq);"
   ]
  },
  {
   "cell_type": "code",
   "execution_count": 9,
   "metadata": {
    "collapsed": false
   },
   "outputs": [],
   "source": [
    "f_tri = ratsimp(f_tri)\n",
    "f_tri = \"$f_tri/(sqrt(3)/2)\" |> MExpr |> mcall\n",
    "f_tri = ratsimp(f_tri)\n",
    "f_tri = float(f_tri)\n",
    "f_tri = expand(f_tri);"
   ]
  },
  {
   "cell_type": "code",
   "execution_count": 10,
   "metadata": {
    "collapsed": false
   },
   "outputs": [],
   "source": [
    "f_str = ratsimp(f_str)\n",
    "f_str = \"$f_str/(sqrt(3)/2)\" |> MExpr |> mcall\n",
    "f_str = ratsimp(f_str)\n",
    "f_str = float(f_str)\n",
    "f_str = expand(f_str);"
   ]
  },
  {
   "cell_type": "code",
   "execution_count": 11,
   "metadata": {
    "collapsed": false
   },
   "outputs": [
    {
     "data": {
      "text/plain": [
       "F_ideal_str (generic function with 1 method)"
      ]
     },
     "execution_count": 11,
     "metadata": {},
     "output_type": "execute_result"
    }
   ],
   "source": [
    "F_liq_exp = parse(f_liq)\n",
    "F_tri_exp = parse(f_tri)\n",
    "F_str_exp = parse(f_str)\n",
    "@eval F_ideal_liq(η, χ, n0) = $F_liq_exp\n",
    "@eval F_ideal_tri(η, χ, n0, A) = $F_tri_exp\n",
    "@eval F_ideal_str(η, χ, n0, A) = $F_str_exp"
   ]
  },
  {
   "cell_type": "code",
   "execution_count": 12,
   "metadata": {
    "collapsed": false
   },
   "outputs": [
    {
     "data": {
      "text/html": [],
      "text/plain": [
       "Interact.Options{:SelectionSlider,Float64}(Signal{Float64}(1.4, nactions=1),\"η\",1.4,\"1.4\",Interact.OptionDict(DataStructures.OrderedDict(\"1.0\"=>1.0,\"1.1\"=>1.1,\"1.2\"=>1.2,\"1.3\"=>1.3,\"1.4\"=>1.4,\"1.5\"=>1.5,\"1.6\"=>1.6,\"1.7\"=>1.7,\"1.8\"=>1.8,\"1.9\"=>1.9…),Dict(1.2=>\"1.2\",2.0=>\"2.0\",1.5=>\"1.5\",1.4=>\"1.4\",1.6=>\"1.6\",1.9=>\"1.9\",1.1=>\"1.1\",1.3=>\"1.3\",1.8=>\"1.8\",1.7=>\"1.7\"…)),Any[],Any[],true,\"horizontal\")"
      ]
     },
     "metadata": {},
     "output_type": "display_data"
    },
    {
     "data": {
      "text/html": [],
      "text/plain": [
       "Interact.Options{:SelectionSlider,Float64}(Signal{Float64}(0.09, nactions=1),\"A\",0.09,\"0.09\",Interact.OptionDict(DataStructures.OrderedDict(\"0.0\"=>0.0,\"0.01\"=>0.01,\"0.02\"=>0.02,\"0.03\"=>0.03,\"0.04\"=>0.04,\"0.05\"=>0.05,\"0.06\"=>0.06,\"0.07\"=>0.07,\"0.08\"=>0.08,\"0.09\"=>0.09…),Dict(0.04=>\"0.04\",0.16=>\"0.16\",0.09=>\"0.09\",0.08=>\"0.08\",0.0=>\"0.0\",0.15=>\"0.15\",0.01=>\"0.01\",0.2=>\"0.2\",0.07=>\"0.07\",0.06=>\"0.06\"…)),Any[],Any[],true,\"horizontal\")"
      ]
     },
     "metadata": {},
     "output_type": "display_data"
    },
    {
     "data": {
      "image/png": "[encoded data removed]",
      "text/plain": [
       "PyPlot.Figure(PyObject <matplotlib.figure.Figure object at 0x7f998bc8bfd0>)"
      ]
     },
     "execution_count": 12,
     "metadata": {
      "comm_id": "dcb5168a-9955-49d7-8121-f03b3d70606e",
      "reactive": true
     },
     "output_type": "execute_result"
    }
   ],
   "source": [
    "let\n",
    "    n = linspace(-0.4, 0.4, 1000)\n",
    "    ff = Array(Float64, 1000)\n",
    "    f = figure(figsize=(6, 3))\n",
    "\n",
    "    @manipulate for η in 1.0:0.1:2.0, A in 0.0:0.01:0.2\n",
    "        withfig(f) do\n",
    "            for i in 1:1000\n",
    "                ff[i] = F_ideal_liq(η, 1.0, n[i])\n",
    "            end\n",
    "            plot(n, ff, label=\"liquid\")\n",
    "            for i in 1:1000\n",
    "                ff[i] = F_ideal_str(η, 1.0, n[i], A)\n",
    "            end\n",
    "            plot(n, ff, label=\"stripe\")\n",
    "            for i in 1:1000\n",
    "                ff[i] = F_ideal_tri(η, 1.0, n[i], A)\n",
    "            end\n",
    "            plot(n, ff, label=\"triangle\")\n",
    "            ylim(0, 0.1)\n",
    "            legend()\n",
    "            xlabel(\"Density n0\")\n",
    "            ylabel(L\"F_{ideal}(A)\")\n",
    "        end\n",
    "    end\n",
    "end"
   ]
  },
  {
   "cell_type": "markdown",
   "metadata": {},
   "source": [
    "## Excess Free Energy\n",
    "\n",
    "Below we continue to use these techniques to compute the excess free energy!"
   ]
  },
  {
   "cell_type": "code",
   "execution_count": 13,
   "metadata": {
    "collapsed": false
   },
   "outputs": [
    {
     "data": {
      "text/plain": [
       "C_eff (generic function with 1 method)"
      ]
     },
     "execution_count": 13,
     "metadata": {},
     "output_type": "execute_result"
    }
   ],
   "source": [
    "# Correlation function\n",
    "# Sorry for all those keyword arguments world\n",
    "function C_eff( k, \n",
    "                c, \n",
    "                T;\n",
    "                k′ = 2π,\n",
    "                α = 0.8,\n",
    "                β = 6.0,\n",
    "                ρ = sqrt(3)/2.0,\n",
    "                αc = 0.5,\n",
    "                c₀ = 0.5)\n",
    "    return c^2*exp(-T^2*k′^2/(2*β*ρ))*exp(-(k-k′)^2/(2*α^2))\n",
    "end"
   ]
  },
  {
   "cell_type": "code",
   "execution_count": 14,
   "metadata": {
    "collapsed": false
   },
   "outputs": [
    {
     "data": {
      "text/plain": [
       "F_ex_str (generic function with 1 method)"
      ]
     },
     "execution_count": 14,
     "metadata": {},
     "output_type": "execute_result"
    }
   ],
   "source": [
    "F_ex_tri(c, T, A; k = 2π) = -3.0 * A^2 * C_eff(k, c, T)\n",
    "F_ex_str(c, T, A; k = 2π) = - A^2 * C_eff(k, c, T)"
   ]
  },
  {
   "cell_type": "markdown",
   "metadata": {},
   "source": [
    "## Total Free Energies"
   ]
  },
  {
   "cell_type": "code",
   "execution_count": 15,
   "metadata": {
    "collapsed": false
   },
   "outputs": [
    {
     "data": {
      "text/plain": [
       "F_str (generic function with 1 method)"
      ]
     },
     "execution_count": 15,
     "metadata": {},
     "output_type": "execute_result"
    }
   ],
   "source": [
    "F_liq(η, χ, n0) = F_ideal_liq(η, χ, n0)\n",
    "\n",
    "function F_tri(η, χ, n0, c, T)\n",
    "    sol = optimize(A -> F_ideal_tri(η, χ, n0, A) + F_ex_tri(c, T, A), 0.0, 10.0)\n",
    "    return sol.minimum\n",
    "end\n",
    "\n",
    "function F_str(η, χ, n0, c, T)\n",
    "    sol = optimize(A -> F_ideal_str(η, χ, n0, A) + F_ex_str(c, T, A), 0.0, 10.0)\n",
    "    return sol.minimum\n",
    "end"
   ]
  },
  {
   "cell_type": "code",
   "execution_count": 25,
   "metadata": {
    "collapsed": false
   },
   "outputs": [
    {
     "data": {
      "text/html": [],
      "text/plain": [
       "Interact.Options{:SelectionSlider,Float64}(Signal{Float64}(0.49, nactions=1),\"c\",0.49,\"0.49\",Interact.OptionDict(DataStructures.OrderedDict(\"0.0\"=>0.0,\"0.01\"=>0.01,\"0.02\"=>0.02,\"0.03\"=>0.03,\"0.04\"=>0.04,\"0.05\"=>0.05,\"0.06\"=>0.06,\"0.07\"=>0.07,\"0.08\"=>0.08,\"0.09\"=>0.09…),Dict(0.54=>\"0.54\",0.86=>\"0.86\",0.09=>\"0.09\",0.35=>\"0.35\",0.22=>\"0.22\",0.38=>\"0.38\",0.56=>\"0.56\",0.2=>\"0.2\",0.89=>\"0.89\",0.06=>\"0.06\"…)),Any[],Any[],true,\"horizontal\")"
      ]
     },
     "metadata": {},
     "output_type": "display_data"
    },
    {
     "data": {
      "text/html": [],
      "text/plain": [
       "Interact.Options{:SelectionSlider,Float64}(Signal{Float64}(0.14, nactions=1),\"T\",0.14,\"0.14\",Interact.OptionDict(DataStructures.OrderedDict(\"0.0\"=>0.0,\"0.01\"=>0.01,\"0.02\"=>0.02,\"0.03\"=>0.03,\"0.04\"=>0.04,\"0.05\"=>0.05,\"0.06\"=>0.06,\"0.07\"=>0.07,\"0.08\"=>0.08,\"0.09\"=>0.09…),Dict(0.3=>\"0.3\",0.04=>\"0.04\",0.26=>\"0.26\",0.16=>\"0.16\",0.09=>\"0.09\",0.08=>\"0.08\",0.25=>\"0.25\",0.0=>\"0.0\",0.28=>\"0.28\",0.22=>\"0.22\"…)),Any[],Any[],true,\"horizontal\")"
      ]
     },
     "metadata": {},
     "output_type": "display_data"
    },
    {
     "data": {
      "image/png": "[encoded data removed]",
      "text/plain": [
       "PyPlot.Figure(PyObject <matplotlib.figure.Figure object at 0x7f998a3824d0>)"
      ]
     },
     "execution_count": 25,
     "metadata": {
      "comm_id": "54911e88-98b6-4a98-b1b3-a788976d4ed3",
      "reactive": true
     },
     "output_type": "execute_result"
    }
   ],
   "source": [
    "let\n",
    "    N = 1000\n",
    "    n0 = linspace(-0.5, 0.5, N)\n",
    "    ff = Array(Float64, N)\n",
    "    f = figure(figsize=(6, 3))\n",
    "    @manipulate for c in 0.0:0.01:1.0, T in 0.0:0.01:0.3\n",
    "        withfig(f) do\n",
    "            for i in 1:N\n",
    "                ff[i] = F_liq(2.0, 1.0, n0[i])\n",
    "            end\n",
    "            plot(n0, ff, label=\"liquid\")\n",
    "            for i in 1:N\n",
    "                ff[i] = F_tri(2.0, 1.0, n0[i], c, T)\n",
    "            end\n",
    "            plot(n0, ff, label=\"triangle\")\n",
    "            for i in 1:N\n",
    "                ff[i] = F_str(2.0, 1.0, n0[i], c, T)\n",
    "            end\n",
    "            plot(n0, ff, label=\"stripe\")\n",
    "            legend()\n",
    "            xlim(-0.5, 0.5)\n",
    "            xlabel(L\"Density $n_0\")\n",
    "            ylabel(L\"F(A)\")\n",
    "        end\n",
    "    end\n",
    "end"
   ]
  },
  {
   "cell_type": "code",
   "execution_count": 32,
   "metadata": {
    "collapsed": false
   },
   "outputs": [
    {
     "data": {
      "text/html": [],
      "text/plain": [
       "Interact.Options{:SelectionSlider,Float64}(Signal{Float64}(-0.001, nactions=1),\"n0\",-0.001,\"-0.001\",Interact.OptionDict(DataStructures.OrderedDict(\"-0.4\"=>-0.4,\"-0.399\"=>-0.399,\"-0.398\"=>-0.398,\"-0.397\"=>-0.397,\"-0.396\"=>-0.396,\"-0.395\"=>-0.395,\"-0.394\"=>-0.394,\"-0.393\"=>-0.393,\"-0.392\"=>-0.392,\"-0.391\"=>-0.391…),Dict(-0.357=>\"-0.357\",0.259=>\"0.259\",0.117=>\"0.117\",0.221=>\"0.221\",-0.314=>\"-0.314\",-0.271=>\"-0.271\",0.171=>\"0.171\",0.061=>\"0.061\",-0.065=>\"-0.065\",-0.057=>\"-0.057\"…)),Any[],Any[],true,\"horizontal\")"
      ]
     },
     "metadata": {},
     "output_type": "display_data"
    },
    {
     "data": {
      "text/html": [],
      "text/plain": [
       "Interact.Options{:SelectionSlider,Float64}(Signal{Float64}(0.49, nactions=1),\"c\",0.49,\"0.49\",Interact.OptionDict(DataStructures.OrderedDict(\"0.0\"=>0.0,\"0.01\"=>0.01,\"0.02\"=>0.02,\"0.03\"=>0.03,\"0.04\"=>0.04,\"0.05\"=>0.05,\"0.06\"=>0.06,\"0.07\"=>0.07,\"0.08\"=>0.08,\"0.09\"=>0.09…),Dict(0.54=>\"0.54\",0.86=>\"0.86\",0.09=>\"0.09\",0.35=>\"0.35\",0.22=>\"0.22\",0.38=>\"0.38\",0.56=>\"0.56\",0.2=>\"0.2\",0.89=>\"0.89\",0.06=>\"0.06\"…)),Any[],Any[],true,\"horizontal\")"
      ]
     },
     "metadata": {},
     "output_type": "display_data"
    },
    {
     "data": {
      "text/html": [],
      "text/plain": [
       "Interact.Options{:SelectionSlider,Float64}(Signal{Float64}(0.14, nactions=1),\"T\",0.14,\"0.14\",Interact.OptionDict(DataStructures.OrderedDict(\"0.0\"=>0.0,\"0.01\"=>0.01,\"0.02\"=>0.02,\"0.03\"=>0.03,\"0.04\"=>0.04,\"0.05\"=>0.05,\"0.06\"=>0.06,\"0.07\"=>0.07,\"0.08\"=>0.08,\"0.09\"=>0.09…),Dict(0.3=>\"0.3\",0.04=>\"0.04\",0.26=>\"0.26\",0.16=>\"0.16\",0.09=>\"0.09\",0.08=>\"0.08\",0.25=>\"0.25\",0.0=>\"0.0\",0.28=>\"0.28\",0.22=>\"0.22\"…)),Any[],Any[],true,\"horizontal\")"
      ]
     },
     "metadata": {},
     "output_type": "display_data"
    },
    {
     "data": {
      "image/png": "[encoded data removed]",
      "text/plain": [
       "PyPlot.Figure(PyObject <matplotlib.figure.Figure object at 0x7f998ab40090>)"
      ]
     },
     "execution_count": 32,
     "metadata": {
      "comm_id": "52f2b17a-3b88-4af0-bcdf-050e0969bdec",
      "reactive": true
     },
     "output_type": "execute_result"
    }
   ],
   "source": [
    "let\n",
    "    N = 1000\n",
    "    A = linspace(0.0, 10.0, N)\n",
    "    ff = Array(Float64, N)\n",
    "    f = figure(figsize=(6, 3))\n",
    "    @manipulate for n0 in -0.4:0.001:0.4, c in 0.0:0.01:1.0, T in 0.0:0.01:0.3\n",
    "        withfig(f) do\n",
    "            for i in 1:N\n",
    "                ff[i] = F_liq(2.0, 1.0, n0)\n",
    "            end\n",
    "            plot(A, ff, label=\"liquid\")\n",
    "            for i in 1:N\n",
    "                ff[i] = F_ideal_tri(2.0, 1.0, n0, A[i]) + F_ex_tri(c, T, A[i])\n",
    "            end\n",
    "            plot(A, ff, label=\"triangle\")\n",
    "            for i in 1:N\n",
    "                ff[i] = F_ideal_str(2.0, 1.0, n0, A[i]) + F_ex_str(c, T, A[i])\n",
    "            end\n",
    "            plot(A, ff, label=\"stripe\")\n",
    "            legend()\n",
    "            xlim(0.0, 1.5)\n",
    "            ylim(-0.5, 1.0)\n",
    "            xlabel(L\"Amplitude A\")\n",
    "            ylabel(L\"F(A)\")\n",
    "        end\n",
    "    end\n",
    "end"
   ]
  },
  {
   "cell_type": "markdown",
   "metadata": {},
   "source": [
    "## Phase Diagrams"
   ]
  },
  {
   "cell_type": "code",
   "execution_count": 52,
   "metadata": {
    "collapsed": false
   },
   "outputs": [
    {
     "name": "stderr",
     "output_type": "stream",
     "text": [
      "WARNING: Method definition make_phase_diagram(Any, Any) in module Main at In[51]:2 overwritten at In[52]:2.\n",
      "WARNING: Method definition #make_phase_diagram(Array{Any, 1}, Main.#make_phase_diagram, Any, Any) in module Main overwritten.\n"
     ]
    },
    {
     "data": {
      "text/plain": [
       "make_phase_diagram (generic function with 1 method)"
      ]
     },
     "execution_count": 52,
     "metadata": {},
     "output_type": "execute_result"
    }
   ],
   "source": [
    "function make_phase_diagram(nrnge, Trnge; c=0.95, η = 2.0, χ = 1.0)\n",
    "    T_vals = Float64[]\n",
    "    n_vals = Float64[]\n",
    "    n = collect(nrnge)\n",
    "    T = collect(Trnge)\n",
    "    \n",
    "    fliq = [F_liq(η, χ, n[i]) for i in 1:length(n)]\n",
    "    ftri = similar(fliq)\n",
    "    fstr = similar(fliq)\n",
    "    \n",
    "    for t in 1:length(T)\n",
    "        for i in 1:length(n)\n",
    "            ftri[i] = F_tri(η, χ, n[i], c, T[t])\n",
    "            fstr[i] = F_str(η, χ, n[i], c, T[t])\n",
    "        end\n",
    "        arr = commontangent(fliq, ftri, fstr)\n",
    "        for domain in arr\n",
    "            for point in domain\n",
    "                push!(T_vals, T[t])\n",
    "                push!(n_vals, n[point])\n",
    "            end\n",
    "        end\n",
    "    end\n",
    "    return T_vals, n_vals\n",
    "end"
   ]
  },
  {
   "cell_type": "code",
   "execution_count": 74,
   "metadata": {
    "collapsed": false
   },
   "outputs": [
    {
     "data": {
      "text/plain": [
       "([0.0,0.0,0.0,0.0,0.01,0.01,0.01,0.01,0.02,0.02  …  0.28,0.28,0.29,0.29,0.29,0.29,0.3,0.3,0.3,0.3],[-0.077,0.363,0.553,0.835,-0.077,0.363,0.553,0.836,-0.076,0.364  …  0.615,0.858,0.082,0.457,0.619,0.86,0.092,0.463,0.623,0.861])"
      ]
     },
     "execution_count": 74,
     "metadata": {},
     "output_type": "execute_result"
    }
   ],
   "source": [
    "nrange = -1.0:0.001:1.0\n",
    "Trnge = 0.00:0.01:0.30\n",
    "\n",
    "Tvals, nvals = make_phase_diagram(nrange, Trnge, c=0.80, η = 2.0)"
   ]
  },
  {
   "cell_type": "code",
   "execution_count": 75,
   "metadata": {
    "collapsed": false
   },
   "outputs": [
    {
     "data": {
      "image/png": "[encoded data removed]",
      "text/plain": [
       "PyPlot.Figure(PyObject <matplotlib.figure.Figure object at 0x7f99893f2e10>)"
      ]
     },
     "metadata": {},
     "output_type": "display_data"
    },
    {
     "data": {
      "text/plain": [
       "PyObject <matplotlib.collections.PathCollection object at 0x7f99896be910>"
      ]
     },
     "execution_count": 75,
     "metadata": {},
     "output_type": "execute_result"
    }
   ],
   "source": [
    "scatter(nvals, Tvals)\n"
   ]
  },
  {
   "cell_type": "code",
   "execution_count": null,
   "metadata": {
    "collapsed": true
   },
   "outputs": [],
   "source": []
  }
 ],
 "metadata": {
  "kernelspec": {
   "display_name": "Julia 0.5.0",
   "language": "julia",
   "name": "julia-0.5"
  },
  "language_info": {
   "file_extension": ".jl",
   "mimetype": "application/julia",
   "name": "julia",
   "version": "0.5.0"
  }
 },
 "nbformat": 4,
 "nbformat_minor": 1
}
