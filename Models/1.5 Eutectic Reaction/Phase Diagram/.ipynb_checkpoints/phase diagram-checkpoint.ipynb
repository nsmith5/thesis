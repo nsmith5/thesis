{
 "cells": [
  {
   "cell_type": "markdown",
   "metadata": {},
   "source": [
    "# Phase Diagram for the Eutectic System\n",
    "\n",
    "Here we develop a free energy functional and phase diagram for a system with a eutectic reaction $l \\rightarrow \\alpha + \\beta$. The idea here is just to show that eutectic can still be done with this new model."
   ]
  },
  {
   "cell_type": "markdown",
   "metadata": {},
   "source": [
    "## Ideal Free Energy\n",
    "\n",
    "---\n",
    "\n",
    "The ideal free energy per unit area is of the following form\n",
    "\n",
    "$$\n",
    "\\mathcal{F}_{id}[n] = \\frac{1}{V_{cell}}\\int_{cell} \n",
    "\\frac{1}{2}n(x,y)^2 - \\frac{\\eta}{6} n(x,y)^3 + \\frac{\\chi}{12} n(x,y)^4\n",
    "$$\n",
    "\n",
    "To compute the phase diagram we use a variational method where we expand the reduced density, $n$, in the most general fourier series that is consistent with the symmetry of the bravais lattice.\n",
    "\n",
    "$$\n",
    "n(x,y) = n_0 + A_1 n_1(x,y) + A_2 n_2(x,y) + ...\n",
    "$$\n",
    "\n",
    "We then expand out the ansatz and compute each integral over the unit-cell numerically to find the amplitude equation for the ideal free energy"
   ]
  },
  {
   "cell_type": "code",
   "execution_count": 1,
   "metadata": {
    "collapsed": false
   },
   "outputs": [
    {
     "data": {
      "text/html": [
       "<div id=\"interact-js-shim\">\n",
       "    <script charset=\"utf-8\">\n",
       "(function (IPython, $, _, MathJax) {\n",
       "    $.event.special.destroyed = {\n",
       "\tremove: function(o) {\n",
       "\t    if (o.handler) {\n",
       "\t\to.handler.apply(this, arguments)\n",
       "\t    }\n",
       "\t}\n",
       "    }\n",
       "\n",
       "    var OutputArea = IPython.version >= \"4.0.0\" ? require(\"notebook/js/outputarea\").OutputArea : IPython.OutputArea;\n",
       "\n",
       "    var redrawValue = function (container, type, val) {\n",
       "\tvar selector = $(\"<div/>\");\n",
       "\tvar oa = new OutputArea(_.extend(selector, {\n",
       "\t    selector: selector,\n",
       "\t    prompt_area: true,\n",
       "\t    events: IPython.events,\n",
       "\t    keyboard_manager: IPython.keyboard_manager\n",
       "\t})); // Hack to work with IPython 2.1.0\n",
       "\n",
       "\tswitch (type) {\n",
       "\tcase \"image/png\":\n",
       "            var _src = 'data:' + type + ';base64,' + val;\n",
       "\t    $(container).find(\"img\").attr('src', _src);\n",
       "\t    break;\n",
       "\tcase \"text/latex\":\n",
       "\t\tif (MathJax){\n",
       "\t\t\tvar math = MathJax.Hub.getAllJax(container)[0];\n",
       "\t\t\tMathJax.Hub.Queue([\"Text\", math, val.replace(/^\\${1,2}|\\${1,2}$/g, '')]);\n",
       "\t\t\tbreak;\n",
       "\t\t}\n",
       "\tdefault:\n",
       "\t    var toinsert = OutputArea.append_map[type].apply(\n",
       "\t\toa, [val, {}, selector]\n",
       "\t    );\n",
       "\t    $(container).empty().append(toinsert.contents());\n",
       "\t    selector.remove();\n",
       "\t}\n",
       "    }\n",
       "\n",
       "\n",
       "    $(document).ready(function() {\n",
       "\tfunction initComm(evt, data) {\n",
       "\t    var comm_manager = data.kernel.comm_manager;\n",
       "        //_.extend(comm_manager.targets, require(\"widgets/js/widget\"))\n",
       "\t    comm_manager.register_target(\"Signal\", function (comm) {\n",
       "            comm.on_msg(function (msg) {\n",
       "                var val = msg.content.data.value;\n",
       "                $(\".signal-\" + comm.comm_id).each(function() {\n",
       "                var type = $(this).data(\"type\");\n",
       "                if (typeof(val[type]) !== \"undefined\" && val[type] !== null) {\n",
       "                    redrawValue(this, type, val[type], type);\n",
       "                }\n",
       "                });\n",
       "                delete val;\n",
       "                delete msg.content.data.value;\n",
       "            });\n",
       "\t    });\n",
       "\n",
       "\t    // coordingate with Comm and redraw Signals\n",
       "\t    // XXX: Test using Reactive here to improve performance\n",
       "\t    $([IPython.events]).on(\n",
       "\t\t'output_appended.OutputArea', function (event, type, value, md, toinsert) {\n",
       "\t\t    if (md && md.reactive) {\n",
       "                // console.log(md.comm_id);\n",
       "                toinsert.addClass(\"signal-\" + md.comm_id);\n",
       "                toinsert.data(\"type\", type);\n",
       "                // Signal back indicating the mimetype required\n",
       "                var comm_manager = IPython.notebook.kernel.comm_manager;\n",
       "                var comm = comm_manager.comms[md.comm_id];\n",
       "                comm.then(function (c) {\n",
       "                    c.send({action: \"subscribe_mime\",\n",
       "                       mime: type});\n",
       "                    toinsert.bind(\"destroyed\", function() {\n",
       "                        c.send({action: \"unsubscribe_mime\",\n",
       "                               mime: type});\n",
       "                    });\n",
       "                })\n",
       "\t\t    }\n",
       "\t    });\n",
       "\t}\n",
       "\n",
       "\ttry {\n",
       "\t    // try to initialize right away. otherwise, wait on the status_started event.\n",
       "\t    initComm(undefined, IPython.notebook);\n",
       "\t} catch (e) {\n",
       "\t    $([IPython.events]).on('kernel_created.Kernel kernel_created.Session', initComm);\n",
       "\t}\n",
       "    });\n",
       "})(IPython, jQuery, _, MathJax);\n",
       "</script>\n",
       "    <script>\n",
       "        window.interactLoadedFlag = true\n",
       "       $(\"#interact-js-shim\").bind(\"destroyed\", function () {\n",
       "           if (window.interactLoadedFlag) {\n",
       "               console.warn(\"JavaScript required by Interact will be removed if you remove this cell or run using Interact more than once.\")\n",
       "           }\n",
       "       })\n",
       "       $([IPython.events]).on(\"kernel_starting.Kernel kernel_restarting.Kernel\", function () { window.interactLoadedFlag = false })\n",
       "   </script>\n",
       "</div>"
      ]
     },
     "metadata": {},
     "output_type": "display_data"
    }
   ],
   "source": [
    "using PyPlot\n",
    "using Interact\n",
    "using Maxima\n",
    "using Optim\n",
    "using PhaseDiagrams"
   ]
  },
  {
   "cell_type": "code",
   "execution_count": 2,
   "metadata": {
    "collapsed": false
   },
   "outputs": [
    {
     "data": {
      "text/latex": [
       " \n",
       "$${{n^4\\,χ}\\over{12}}-{{n^3\\,η}\\over{6}}+{{n^2}\\over{2}}$$"
      ],
      "text/plain": [
       " \n",
       "                                4      3      2\n",
       "                               n  χ   n  η   n\n",
       "                               ---- - ---- + --\n",
       "                                12     6     2"
      ]
     },
     "execution_count": 2,
     "metadata": {},
     "output_type": "execute_result"
    }
   ],
   "source": [
    "f_ideal = m\"n^2/2 - η*n^3/6 + χ*n^4/12\""
   ]
  },
  {
   "cell_type": "code",
   "execution_count": 3,
   "metadata": {
    "collapsed": false
   },
   "outputs": [
    {
     "data": {
      "text/latex": [
       " \n",
       "$${{\\left(2\\,A\\,{\\it n_1}+{\\it n_0}\\right)^4\\,χ}\\over{12}}-{{\\left(2\n",
       " \\,A\\,{\\it n_1}+{\\it n_0}\\right)^3\\,η}\\over{6}}+{{\\left(2\\,A\\,\n",
       " {\\it n_1}+{\\it n_0}\\right)^2}\\over{2}}$$"
      ],
      "text/plain": [
       " \n",
       "                          4                  3                  2\n",
       "             (2 A n1 + n0)  χ   (2 A n1 + n0)  η   (2 A n1 + n0)\n",
       "             ---------------- - ---------------- + --------------\n",
       "                    12                 6                 2"
      ]
     },
     "execution_count": 3,
     "metadata": {},
     "output_type": "execute_result"
    }
   ],
   "source": [
    "n = m\"n0 + 2*A*n1\"            # + A[2]*n2\"\n",
    "\n",
    "f_ideal = subst(n, :n, f_ideal)"
   ]
  },
  {
   "cell_type": "code",
   "execution_count": 4,
   "metadata": {
    "collapsed": false
   },
   "outputs": [
    {
     "data": {
      "text/latex": [
       " \n",
       "$${{4\\,A^4\\,{\\it n_1}^4\\,χ}\\over{3}}+{{8\\,A^3\\,{\\it n_0}\\,{\\it n_1}^3\n",
       " \\,χ}\\over{3}}+2\\,A^2\\,{\\it n_0}^2\\,{\\it n_1}^2\\,χ+{{2\\,A\\,{\\it n_0}^\n",
       " 3\\,{\\it n_1}\\,χ}\\over{3}}+{{{\\it n_0}^4\\,χ}\\over{12}}-{{4\\,A^3\\,\n",
       " {\\it n_1}^3\\,η}\\over{3}}-2\\,A^2\\,{\\it n_0}\\,{\\it n_1}^2\\,η-A\\,\n",
       " {\\it n_0}^2\\,{\\it n_1}\\,η-{{{\\it n_0}^3\\,η}\\over{6}}+2\\,A^2\\,\n",
       " {\\it n_1}^2+2\\,A\\,{\\it n_0}\\,{\\it n_1}+{{{\\it n_0}^2}\\over{2}}$$"
      ],
      "text/plain": [
       " \n",
       "    4   4        3      3                            3          4\n",
       " 4 A  n1  χ   8 A  n0 n1  χ      2   2   2     2 A n0  n1 χ   n0  χ\n",
       " ---------- + ------------- + 2 A  n0  n1  χ + ------------ + -----\n",
       "     3              3                               3          12\n",
       "      3   3                                    3                              2\n",
       "   4 A  n1  η      2      2         2        n0  η      2   2               n0\n",
       " - ---------- - 2 A  n0 n1  η - A n0  n1 η - ----- + 2 A  n1  + 2 A n0 n1 + ---\n",
       "       3                                       6                             2"
      ]
     },
     "execution_count": 4,
     "metadata": {},
     "output_type": "execute_result"
    }
   ],
   "source": [
    "f_ideal = expand(f_ideal)"
   ]
  },
  {
   "cell_type": "code",
   "execution_count": 5,
   "metadata": {
    "collapsed": true
   },
   "outputs": [],
   "source": [
    "n1 = m\"cos(4*%pi/sqrt(3)*(sqrt(3)*x/2 - y/2)) + \n",
    "       cos(4*%pi/sqrt(3)*(sqrt(3)*x/2 + y/2)) + \n",
    "       cos(4*%pi/sqrt(3)*y)\"\n",
    "\n",
    "n2 = m\"cos(4*%pi*x) +\n",
    "       cos(4*%pi*(x/2 + sqrt(3)*y/2)) + \n",
    "       cos(4*%pi*(-x/2 + sqrt(3)*y/2))\"\n",
    "\n",
    "f_ideal = subst(n1, :n1, f_ideal)\n",
    "#f_ideal = subst(n2, :n2, f_ideal);"
   ]
  },
  {
   "cell_type": "code",
   "execution_count": 6,
   "metadata": {
    "collapsed": true
   },
   "outputs": [],
   "source": [
    "F_ideal = \"integrate(integrate($f_ideal, x, 0, 1), y, 0, sqrt(3)/2)\" |> MExpr;"
   ]
  },
  {
   "cell_type": "code",
   "execution_count": 7,
   "metadata": {
    "collapsed": false
   },
   "outputs": [
    {
     "data": {
      "text/latex": [
       " \n",
       "$${{-\\left(-2\\,3^{{{3}\\over{2}}}\\,\\pi\\,{\\it n_0}^4-8\\,3^{{{7}\\over{2\n",
       " }}}\\,\\pi\\,A^2\\,{\\it n_0}^2-32\\,3^{{{5}\\over{2}}}\\,\\pi\\,A^3\\,\n",
       " {\\it n_0}-20\\,3^{{{7}\\over{2}}}\\,\\pi\\,A^4\\right)\\,χ-\\left(4\\,3^{{{3\n",
       " }\\over{2}}}\\,\\pi\\,{\\it n_0}^3+8\\,3^{{{7}\\over{2}}}\\,\\pi\\,A^2\\,\n",
       " {\\it n_0}+16\\,3^{{{5}\\over{2}}}\\,\\pi\\,A^3\\right)\\,η+4\\,3^{{{5}\\over{\n",
       " 2}}}\\,\\pi\\,{\\it n_0}^2+8\\,3^{{{7}\\over{2}}}\\,\\pi\\,A^2}\\over{144\\,\\pi\n",
       " }}$$"
      ],
      "text/plain": [
       " \n",
       "            3/2       4       7/2      2   2       5/2      3\n",
       " ((- ((- 2 3    %pi n0 ) - 8 3    %pi A  n0  - 32 3    %pi A  n0\n",
       "       7/2      4           3/2       3      7/2      2          5/2      3\n",
       " - 20 3    %pi A ) χ) - (4 3    %pi n0  + 8 3    %pi A  n0 + 16 3    %pi A ) η\n",
       "      5/2       2      7/2      2\n",
       " + 4 3    %pi n0  + 8 3    %pi A )/(144 %pi)"
      ]
     },
     "execution_count": 7,
     "metadata": {},
     "output_type": "execute_result"
    }
   ],
   "source": [
    "F_ideal = mcall(F_ideal)"
   ]
  },
  {
   "cell_type": "code",
   "execution_count": 8,
   "metadata": {
    "collapsed": false
   },
   "outputs": [
    {
     "data": {
      "text/latex": [
       " \n",
       "$$0.08333333333333333\\,{\\it n_0}^4\\,χ+3.0\\,A^2\\,{\\it n_0}^2\\,χ+4.0\\,A\n",
       " ^3\\,{\\it n_0}\\,χ+7.5\\,A^4\\,χ-0.1666666666666667\\,{\\it n_0}^3\\,η-3.0\n",
       " \\,A^2\\,{\\it n_0}\\,η-2.0\\,A^3\\,η+0.5\\,{\\it n_0}^2+3.0\\,A^2$$"
      ],
      "text/plain": [
       " \n",
       "                       4          2   2          3             4\n",
       " 0.08333333333333333 n0  χ + 3.0 A  n0  χ + 4.0 A  n0 χ + 7.5 A  χ\n",
       "                                3          2             3           2        2\n",
       "         - 0.1666666666666667 n0  η - 3.0 A  n0 η - 2.0 A  η + 0.5 n0  + 3.0 A"
      ]
     },
     "execution_count": 8,
     "metadata": {},
     "output_type": "execute_result"
    }
   ],
   "source": [
    "F_ideal = ratsimp(F_ideal)\n",
    "F_ideal = \"$F_ideal/(sqrt(3)/2)\" |> MExpr |> mcall\n",
    "F_ideal = ratsimp(F_ideal)\n",
    "F_ideal = float(F_ideal)\n",
    "F_ideal = expand(F_ideal)"
   ]
  },
  {
   "cell_type": "code",
   "execution_count": 9,
   "metadata": {
    "collapsed": false
   },
   "outputs": [
    {
     "data": {
      "text/plain": [
       "F_id (generic function with 1 method)"
      ]
     },
     "execution_count": 9,
     "metadata": {},
     "output_type": "execute_result"
    }
   ],
   "source": [
    "F_id_exp = parse(F_ideal)                # Make julia expression of the ideal free energy\n",
    "@eval F_id(η, χ, n0, A) = $F_id_exp     # Make julia function from the expression"
   ]
  },
  {
   "cell_type": "markdown",
   "metadata": {},
   "source": [
    "## Free Energy of Mixing\n",
    "\n",
    "The free energy of mixing is of the following form:\n",
    "\n",
    "$$\n",
    "    \\mathcal{F}_{mix}[c] = \\frac{1}{V_{cell}}\\int_{cell} \n",
    "    (1 + n_0)\\left(c \\log\\left(\\frac{c}{c_0}\\right) + \n",
    "    (1-c) \\log\\left(\\frac{1-c}{1-c_0}\\right)\\right) + \\frac{\\epsilon(T)}{2}(c-c_0)^2\n",
    "$$\n",
    "\n",
    "In equilibrium we can assume that the concentration is constant so the integral just cancels the factor of the volume of the unit cell. The term $\\epsilon(T)$ is the enthaply of mixing term which we model as, \n",
    "\n",
    "$$\n",
    "\\epsilon(T) = -4 + \\epsilon_0 (T - T_0),\n",
    "$$\n",
    "\n",
    "where $T_0$ is the spinodal temperature of the liquid"
   ]
  },
  {
   "cell_type": "code",
   "execution_count": 10,
   "metadata": {
    "collapsed": false
   },
   "outputs": [
    {
     "data": {
      "text/plain": [
       "F_mix (generic function with 1 method)"
      ]
     },
     "execution_count": 10,
     "metadata": {},
     "output_type": "execute_result"
    }
   ],
   "source": [
    " F_mix(c, T, n₀, ϵ₀, T₀, ω, c₀) = ω*((1+n₀)*(c*log(c/c₀) + (1-c)*log((1-c)/(1-c₀))) + (-4.0 + ϵ₀*(T-T₀))/2*(c-c₀)^2)"
   ]
  },
  {
   "cell_type": "markdown",
   "metadata": {},
   "source": [
    "## Correlation functions\n",
    "\n",
    "Appropriate choice of $C_{nn}(k)$ for a eutectic model needs to be constructed. Using Nana's paper for the window functions and additions from Ken papers about ordered crystals for the temperature model"
   ]
  },
  {
   "cell_type": "code",
   "execution_count": 11,
   "metadata": {
    "collapsed": false
   },
   "outputs": [
    {
     "data": {
      "text/plain": [
       "find_k (generic function with 1 method)"
      ]
     },
     "execution_count": 11,
     "metadata": {},
     "output_type": "execute_result"
    }
   ],
   "source": [
    "# Temperature \n",
    "T₀ = 1.0\n",
    "\n",
    "kₐ = 2π\n",
    "αₐ = 0.8\n",
    "\n",
    "kᵦ = 4π/√3\n",
    "αᵦ = 0.8\n",
    "\n",
    "CA(k, T) = exp(- T / T₀) * exp(- (k - kₐ)^2 / (2 * αₐ^2))\n",
    "CB(k, T) = exp(- T / T₀) * exp(- (k - kᵦ)^2 / (2 * αᵦ^2))\n",
    "χ(c) = 2c^3 - 3c^2 + 1\n",
    "\n",
    "Cₙₙ(k, c, T) = χ(c) * CA(k, T) + χ(1 - c) * CB(k, T)\n",
    "\n",
    "function find_k(c, T)\n",
    "    sol = optimize(k -> -Cₙₙ(k, c, T), 2π, 4π/√3)\n",
    "    k₀ = float(sol.minimizer)\n",
    "    return k₀\n",
    "end"
   ]
  },
  {
   "cell_type": "markdown",
   "metadata": {},
   "source": [
    "## Excess Free Energy\n",
    "\n",
    "The excess free energy term in the binary phase field crystal model is the form\n",
    "\n",
    "$$\n",
    "\\mathcal{F}_{ex}[n, c] = -\\frac{1}{2 V_{cell}}\\int_{cell} dr \\int dr^\\prime n(r) C_{eff}(r, r^\\prime; c) n(r^\\prime)\n",
    "$$\n",
    "\n",
    "Most of the modes in the amplitude expansion cancel out but we're left with the following at the end of the day:\n",
    "\n",
    "$$\n",
    "\\mathcal{F}_{ex}[n, c] = -\\frac{1}{2}(n_0^2 C_{eff}(k=0, c) + 6 A_1^2 C_{eff}(k=k_1, c) + 6 A_2^2 C_{eff}(k=k_2, c))\n",
    "$$"
   ]
  },
  {
   "cell_type": "code",
   "execution_count": 12,
   "metadata": {
    "collapsed": false
   },
   "outputs": [
    {
     "data": {
      "text/plain": [
       "F_ex (generic function with 1 method)"
      ]
     },
     "execution_count": 12,
     "metadata": {},
     "output_type": "execute_result"
    }
   ],
   "source": [
    "function F_ex(c, T, A)\n",
    "    k = c < 0.5 ? 2π : 4π/√3\n",
    "    return (-3.0*A^2*Cₙₙ(k, c, T))       # + 6.0*A[2]^2*C_eff(k[2], c, T))\n",
    "end"
   ]
  },
  {
   "cell_type": "markdown",
   "metadata": {},
   "source": [
    "## Total free energy\n",
    "\n",
    "The total free energy is sum of all the above terms"
   ]
  },
  {
   "cell_type": "code",
   "execution_count": 13,
   "metadata": {
    "collapsed": false
   },
   "outputs": [
    {
     "data": {
      "text/plain": [
       "F (generic function with 1 method)"
      ]
     },
     "execution_count": 13,
     "metadata": {},
     "output_type": "execute_result"
    }
   ],
   "source": [
    "F(c, T, η, χ, ϵ₀, T₀, ω, n₀, A, c₀) = F_mix(c, T, n₀, ϵ₀, T₀, ω, c₀) + F_ex(c, T, A)+ F_id(η, χ, n₀, A) "
   ]
  },
  {
   "cell_type": "code",
   "execution_count": 14,
   "metadata": {
    "collapsed": false
   },
   "outputs": [
    {
     "data": {
      "text/plain": [
       "F (generic function with 2 methods)"
      ]
     },
     "execution_count": 14,
     "metadata": {},
     "output_type": "execute_result"
    }
   ],
   "source": [
    "function F(c, T, η, χ, ϵ₀, T₀, ω, n₀, c₀)\n",
    "    sol = optimize(A -> F(c, T, η, χ, ϵ₀, T₀, ω, n₀, A, c₀), 0.0, 10.0)\n",
    "    #println(\"Amplitude at concentation $c and temperature $T is $(sol.minimum)\")\n",
    "    return sol.minimum\n",
    "end"
   ]
  },
  {
   "cell_type": "code",
   "execution_count": 15,
   "metadata": {
    "collapsed": false
   },
   "outputs": [
    {
     "data": {
      "text/plain": [
       "false"
      ]
     },
     "execution_count": 15,
     "metadata": {},
     "output_type": "execute_result"
    }
   ],
   "source": [
    "pygui(false)"
   ]
  },
  {
   "cell_type": "code",
   "execution_count": 16,
   "metadata": {
    "collapsed": false
   },
   "outputs": [
    {
     "data": {
      "text/plain": [
       "F (generic function with 3 methods)"
      ]
     },
     "execution_count": 16,
     "metadata": {},
     "output_type": "execute_result"
    }
   ],
   "source": [
    "const η = 2.0\n",
    "const χχ = 1.0\n",
    "const ϵ₀ = 4.0 / 0.15\n",
    "Tc = 0.15\n",
    "const ω = 0.02\n",
    "const n₀ = 0.05\n",
    "const c₀ = 0.50\n",
    "\n",
    "F(c, T) = F(c, T, η, χχ, ϵ₀, Tc, ω, n₀, c₀)"
   ]
  },
  {
   "cell_type": "code",
   "execution_count": 17,
   "metadata": {
    "collapsed": false
   },
   "outputs": [
    {
     "data": {
      "text/plain": [
       "make_phase_diagram (generic function with 1 method)"
      ]
     },
     "execution_count": 17,
     "metadata": {},
     "output_type": "execute_result"
    }
   ],
   "source": [
    "function make_phase_diagram(F, crnge, Trnge)\n",
    "    T_vals = Float64[] \n",
    "    c_vals = Float64[]\n",
    "    \n",
    "    c = collect(crnge)\n",
    "    T = collect(Trnge)\n",
    "    \n",
    "    f = Array(Float64, length(c))\n",
    "    \n",
    "    for t in 1:length(T)\n",
    "        for cc in 1:length(c)\n",
    "            f[cc] = F(c[cc], T[t])\n",
    "        end\n",
    "        arr = commontangent(f)\n",
    "        for domain in arr\n",
    "            for point in domain\n",
    "                push!(T_vals, T[t])\n",
    "                push!(c_vals, c[point])\n",
    "            end\n",
    "        end\n",
    "    end\n",
    "    return T_vals, c_vals\n",
    "end"
   ]
  },
  {
   "cell_type": "code",
   "execution_count": 18,
   "metadata": {
    "collapsed": false
   },
   "outputs": [
    {
     "name": "stderr",
     "output_type": "stream",
     "text": [
      "\u001b[1m\u001b[33mWARNING: \u001b[39m\u001b[22m\u001b[33mArray{T}(::Type{T}, m::Int) is deprecated, use Array{T}(m) instead.\u001b[39m\n",
      "Stacktrace:\n",
      " [1] \u001b[1mdepwarn\u001b[22m\u001b[22m\u001b[1m(\u001b[22m\u001b[22m::String, ::Symbol\u001b[1m)\u001b[22m\u001b[22m at \u001b[1m./deprecated.jl:70\u001b[22m\u001b[22m\n",
      " [2] \u001b[1mArray\u001b[22m\u001b[22m\u001b[1m(\u001b[22m\u001b[22m::Type{Float64}, ::Int64\u001b[1m)\u001b[22m\u001b[22m at \u001b[1m./deprecated.jl:57\u001b[22m\u001b[22m\n",
      " [3] \u001b[1mmake_phase_diagram\u001b[22m\u001b[22m\u001b[1m(\u001b[22m\u001b[22m::#F, ::StepRangeLen{Float64,Base.TwicePrecision{Float64},Base.TwicePrecision{Float64}}, ::StepRangeLen{Float64,Base.TwicePrecision{Float64},Base.TwicePrecision{Float64}}\u001b[1m)\u001b[22m\u001b[22m at \u001b[1m./In[17]:8\u001b[22m\u001b[22m\n",
      " [4] \u001b[1mexecute_request\u001b[22m\u001b[22m\u001b[1m(\u001b[22m\u001b[22m::ZMQ.Socket, ::IJulia.Msg\u001b[1m)\u001b[22m\u001b[22m at \u001b[1m/home/nsmith/.julia/v0.6/IJulia/src/execute_request.jl:160\u001b[22m\u001b[22m\n",
      " [5] \u001b[1meventloop\u001b[22m\u001b[22m\u001b[1m(\u001b[22m\u001b[22m::ZMQ.Socket\u001b[1m)\u001b[22m\u001b[22m at \u001b[1m/home/nsmith/.julia/v0.6/IJulia/src/eventloop.jl:8\u001b[22m\u001b[22m\n",
      " [6] \u001b[1m(::IJulia.##11#14)\u001b[22m\u001b[22m\u001b[1m(\u001b[22m\u001b[22m\u001b[1m)\u001b[22m\u001b[22m at \u001b[1m./task.jl:335\u001b[22m\u001b[22m\n",
      "while loading In[18], in expression starting on line 4\n"
     ]
    },
    {
     "data": {
      "text/plain": [
       "([0.0, 0.0, 0.01, 0.01, 0.02, 0.02, 0.03, 0.03, 0.04, 0.04  …  0.3, 0.3, 0.31, 0.31, 0.31, 0.31, 0.32, 0.32, 0.32, 0.32], [0.0105, 0.9895, 0.0115, 0.9885, 0.012, 0.988, 0.0135, 0.9865, 0.0145, 0.9855  …  0.8665, 0.9665, 0.017, 0.1035, 0.8965, 0.983, 0.003, 0.0615, 0.9385, 0.997])"
      ]
     },
     "execution_count": 18,
     "metadata": {},
     "output_type": "execute_result"
    }
   ],
   "source": [
    "crnge = 0.001:0.0005:0.999\n",
    "Trnge = 0.00:0.010:1.0\n",
    "\n",
    "T_vals, c_vals = make_phase_diagram(F, crnge, Trnge)"
   ]
  },
  {
   "cell_type": "code",
   "execution_count": 19,
   "metadata": {
    "collapsed": false
   },
   "outputs": [
    {
     "name": "stderr",
     "output_type": "stream",
     "text": [
      "\u001b[1m\u001b[33mWARNING: \u001b[39m\u001b[22m\u001b[33mArray{T}(::Type{T}, m::Int) is deprecated, use Array{T}(m) instead.\u001b[39m\n",
      "Stacktrace:\n",
      " [1] \u001b[1mdepwarn\u001b[22m\u001b[22m\u001b[1m(\u001b[22m\u001b[22m::String, ::Symbol\u001b[1m)\u001b[22m\u001b[22m at \u001b[1m./deprecated.jl:70\u001b[22m\u001b[22m\n",
      " [2] \u001b[1mArray\u001b[22m\u001b[22m\u001b[1m(\u001b[22m\u001b[22m::Type{Float64}, ::Int64\u001b[1m)\u001b[22m\u001b[22m at \u001b[1m./deprecated.jl:57\u001b[22m\u001b[22m\n",
      " [3] \u001b[1mmake_phase_diagram\u001b[22m\u001b[22m\u001b[1m(\u001b[22m\u001b[22m::#Fₗ, ::StepRangeLen{Float64,Base.TwicePrecision{Float64},Base.TwicePrecision{Float64}}, ::StepRangeLen{Float64,Base.TwicePrecision{Float64},Base.TwicePrecision{Float64}}\u001b[1m)\u001b[22m\u001b[22m at \u001b[1m./In[17]:8\u001b[22m\u001b[22m\n",
      " [4] \u001b[1mexecute_request\u001b[22m\u001b[22m\u001b[1m(\u001b[22m\u001b[22m::ZMQ.Socket, ::IJulia.Msg\u001b[1m)\u001b[22m\u001b[22m at \u001b[1m/home/nsmith/.julia/v0.6/IJulia/src/execute_request.jl:160\u001b[22m\u001b[22m\n",
      " [5] \u001b[1meventloop\u001b[22m\u001b[22m\u001b[1m(\u001b[22m\u001b[22m::ZMQ.Socket\u001b[1m)\u001b[22m\u001b[22m at \u001b[1m/home/nsmith/.julia/v0.6/IJulia/src/eventloop.jl:8\u001b[22m\u001b[22m\n",
      " [6] \u001b[1m(::IJulia.##11#14)\u001b[22m\u001b[22m\u001b[1m(\u001b[22m\u001b[22m\u001b[1m)\u001b[22m\u001b[22m at \u001b[1m./task.jl:335\u001b[22m\u001b[22m\n",
      "while loading In[19], in expression starting on line 7\n"
     ]
    },
    {
     "data": {
      "text/plain": [
       "51-element Array{Float64,1}:\n",
       " 0.0 \n",
       " 0.02\n",
       " 0.04\n",
       " 0.06\n",
       " 0.08\n",
       " 0.1 \n",
       " 0.12\n",
       " 0.14\n",
       " 0.16\n",
       " 0.18\n",
       " 0.2 \n",
       " 0.22\n",
       " 0.24\n",
       " ⋮   \n",
       " 0.78\n",
       " 0.8 \n",
       " 0.82\n",
       " 0.84\n",
       " 0.86\n",
       " 0.88\n",
       " 0.9 \n",
       " 0.92\n",
       " 0.94\n",
       " 0.96\n",
       " 0.98\n",
       " 1.0 "
      ]
     },
     "execution_count": 19,
     "metadata": {},
     "output_type": "execute_result"
    }
   ],
   "source": [
    "Fₗ(c, T, η, χ, ϵ₀, T₀, ω, n₀) = F_mix(c, T, n₀, ϵ₀, T₀, ω, 0.5) + F_id(η, χ, n₀, 0.0) \n",
    "Fₗ(c, T) = Fₗ(c, T, η, χχ, ϵ₀, Tc, ω, n₀)\n",
    "\n",
    "crange = 0.001:0.0005:0.999\n",
    "trange = 0.00:0.010:0.60\n",
    "\n",
    "T_b, c_b = make_phase_diagram(Fₗ, crange, trange)\n",
    "\n",
    "function spinodal(c; n₀ = 0.05, ϵ₀=26.6666666666, T₀=Tc)\n",
    "    return 1.0 / ϵ₀ * ((1 + n₀) / (c^2 - c) + 4.0) + T₀\n",
    "end\n",
    "\n",
    "T_s = spinodal.(0.0:0.02:1.0)\n",
    "c_s = collect(0.0:0.02:1.0)"
   ]
  },
  {
   "cell_type": "code",
   "execution_count": 22,
   "metadata": {
    "collapsed": false
   },
   "outputs": [
    {
     "data": {
      "image/png": "[encoded data removed]",
      "text/plain": [
       "PyPlot.Figure(PyObject <matplotlib.figure.Figure object at 0x7f5c02baaf90>)"
      ]
     },
     "execution_count": 22,
     "metadata": {},
     "output_type": "execute_result"
    }
   ],
   "source": [
    "f = figure(figsize=(8, 6))\n",
    "withfig(f) do\n",
    "    scatter(c_vals, T_vals, s=5, label=\"Equilibrium coexistance\")\n",
    "    scatter(c_b, T_b, s=5, label=\"Metastable liquid binodal\")\n",
    "    scatter(c_s, T_s, s=5, label=\"Metastable liquid spinodal\")\n",
    "    legend(loc=0)\n",
    "    grid(false)\n",
    "    xlim(0, 1)\n",
    "    ylim(0, 0.45)\n",
    "    xlabel(L\"Concentration $(c)$\", fontsize=14)\n",
    "    ylabel(L\"Temperature $(T)$\", fontsize=14)\n",
    "end\n",
    "\n",
    "#savefig(\"Eutectic Phase Diagram.svg\")"
   ]
  },
  {
   "cell_type": "code",
   "execution_count": 103,
   "metadata": {
    "collapsed": false
   },
   "outputs": [
    {
     "data": {
      "image/png": "[encoded data removed]",
      "text/plain": [
       "PyPlot.Figure(PyObject <matplotlib.figure.Figure object at 0x7f9acee16f10>)"
      ]
     },
     "metadata": {},
     "output_type": "display_data"
    },
    {
     "data": {
      "text/plain": [
       "PyObject <matplotlib.text.Text object at 0x7f9aceb933d0>"
      ]
     },
     "execution_count": 103,
     "metadata": {},
     "output_type": "execute_result"
    }
   ],
   "source": [
    "scatter(c_vals, T_vals, c=\"k\", s=10)\n",
    "grid(false)\n",
    "xlim(0, 1)\n",
    "ylim(0, 0.38)\n",
    "xlabel(L\"Concentration $(c)$\", fontsize=14)\n",
    "ylabel(L\"Temperature $(T)$\", fontsize=14)\n"
   ]
  },
  {
   "cell_type": "code",
   "execution_count": null,
   "metadata": {
    "collapsed": true
   },
   "outputs": [],
   "source": []
  }
 ],
 "metadata": {
  "anaconda-cloud": {},
  "kernelspec": {
   "display_name": "Julia 0.6.0",
   "language": "julia",
   "name": "julia-0.6"
  },
  "language_info": {
   "file_extension": ".jl",
   "mimetype": "application/julia",
   "name": "julia",
   "version": "0.6.0"
  }
 },
 "nbformat": 4,
 "nbformat_minor": 1
}
