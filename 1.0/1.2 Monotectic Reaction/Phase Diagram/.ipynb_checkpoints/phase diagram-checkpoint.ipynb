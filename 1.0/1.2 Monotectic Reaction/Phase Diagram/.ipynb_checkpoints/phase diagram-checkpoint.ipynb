{
 "cells": [
  {
   "cell_type": "markdown",
   "metadata": {},
   "source": [
    "# Phase Diagram for the Monotectic System\n",
    "\n",
    "Here we develop a free energy functional and phase diagram for a system with a syntectic transition"
   ]
  },
  {
   "cell_type": "markdown",
   "metadata": {},
   "source": [
    "## Ideal Free Energy\n",
    "\n",
    "---\n",
    "\n",
    "The ideal free energy per unit area is of the following form\n",
    "\n",
    "$$\n",
    "\\mathcal{F}_{id}[n] = \\frac{1}{V_{cell}}\\int_{cell} \n",
    "\\frac{1}{2}n(x,y)^2 - \\frac{\\eta}{6} n(x,y)^3 + \\frac{\\chi}{12} n(x,y)^4\n",
    "$$\n",
    "\n",
    "To compute the phase diagram we use a variational method where we expand the reduced density, $n$, in the most general fourier series that is consistent with the symmetry of the bravais lattice.\n",
    "\n",
    "$$\n",
    "n(x,y) = n_0 + A_1 n_1(x,y) + A_2 n_2(x,y) + ...\n",
    "$$\n",
    "\n",
    "We then expand out the ansatz and compute each integral over the unit-cell numerically to find the amplitude equation for the ideal free energy"
   ]
  },
  {
   "cell_type": "code",
   "execution_count": 1,
   "metadata": {
    "collapsed": false
   },
   "outputs": [
    {
     "data": {
      "text/html": [
       "<div id=\"interact-js-shim\">\n",
       "    <script charset=\"utf-8\">\n",
       "(function (IPython, $, _, MathJax) {\n",
       "    $.event.special.destroyed = {\n",
       "\tremove: function(o) {\n",
       "\t    if (o.handler) {\n",
       "\t\to.handler.apply(this, arguments)\n",
       "\t    }\n",
       "\t}\n",
       "    }\n",
       "\n",
       "    var OutputArea = IPython.version >= \"4.0.0\" ? require(\"notebook/js/outputarea\").OutputArea : IPython.OutputArea;\n",
       "\n",
       "    var redrawValue = function (container, type, val) {\n",
       "\tvar selector = $(\"<div/>\");\n",
       "\tvar oa = new OutputArea(_.extend(selector, {\n",
       "\t    selector: selector,\n",
       "\t    prompt_area: true,\n",
       "\t    events: IPython.events,\n",
       "\t    keyboard_manager: IPython.keyboard_manager\n",
       "\t})); // Hack to work with IPython 2.1.0\n",
       "\n",
       "\tswitch (type) {\n",
       "\tcase \"image/png\":\n",
       "            var _src = 'data:' + type + ';base64,' + val;\n",
       "\t    $(container).find(\"img\").attr('src', _src);\n",
       "\t    break;\n",
       "\tdefault:\n",
       "\t    var toinsert = OutputArea.append_map[type].apply(\n",
       "\t\toa, [val, {}, selector]\n",
       "\t    );\n",
       "\t    $(container).empty().append(toinsert.contents());\n",
       "\t    selector.remove();\n",
       "\t}\n",
       "\tif (type === \"text/latex\" && MathJax) {\n",
       "\t    MathJax.Hub.Queue([\"Typeset\", MathJax.Hub, toinsert.get(0)]);\n",
       "\t}\n",
       "    }\n",
       "\n",
       "\n",
       "    $(document).ready(function() {\n",
       "\tfunction initComm(evt, data) {\n",
       "\t    var comm_manager = data.kernel.comm_manager;\n",
       "        //_.extend(comm_manager.targets, require(\"widgets/js/widget\"))\n",
       "\t    comm_manager.register_target(\"Signal\", function (comm) {\n",
       "            comm.on_msg(function (msg) {\n",
       "                //Widgets.log(\"message received\", msg);\n",
       "                var val = msg.content.data.value;\n",
       "                $(\".signal-\" + comm.comm_id).each(function() {\n",
       "                var type = $(this).data(\"type\");\n",
       "                if (val[type]) {\n",
       "                    redrawValue(this, type, val[type], type);\n",
       "                }\n",
       "                });\n",
       "                delete val;\n",
       "                delete msg.content.data.value;\n",
       "            });\n",
       "\t    });\n",
       "\n",
       "\t    // coordingate with Comm and redraw Signals\n",
       "\t    // XXX: Test using Reactive here to improve performance\n",
       "\t    $([IPython.events]).on(\n",
       "\t\t'output_appended.OutputArea', function (event, type, value, md, toinsert) {\n",
       "\t\t    if (md && md.reactive) {\n",
       "                // console.log(md.comm_id);\n",
       "                toinsert.addClass(\"signal-\" + md.comm_id);\n",
       "                toinsert.data(\"type\", type);\n",
       "                // Signal back indicating the mimetype required\n",
       "                var comm_manager = IPython.notebook.kernel.comm_manager;\n",
       "                var comm = comm_manager.comms[md.comm_id];\n",
       "                comm.then(function (c) {\n",
       "                    c.send({action: \"subscribe_mime\",\n",
       "                       mime: type});\n",
       "                    toinsert.bind(\"destroyed\", function() {\n",
       "                        c.send({action: \"unsubscribe_mime\",\n",
       "                               mime: type});\n",
       "                    });\n",
       "                })\n",
       "\t\t    }\n",
       "\t    });\n",
       "\t}\n",
       "\n",
       "\ttry {\n",
       "\t    // try to initialize right away. otherwise, wait on the status_started event.\n",
       "\t    initComm(undefined, IPython.notebook);\n",
       "\t} catch (e) {\n",
       "\t    $([IPython.events]).on('kernel_created.Kernel kernel_created.Session', initComm);\n",
       "\t}\n",
       "    });\n",
       "})(IPython, jQuery, _, MathJax);\n",
       "</script>\n",
       "    <script>\n",
       "        window.interactLoadedFlag = true\n",
       "       $(\"#interact-js-shim\").bind(\"destroyed\", function () {\n",
       "           if (window.interactLoadedFlag) {\n",
       "               console.warn(\"JavaScript required by Interact will be removed if you remove this cell or run using Interact more than once.\")\n",
       "           }\n",
       "       })\n",
       "       $([IPython.events]).on(\"kernel_starting.Kernel kernel_restarting.Kernel\", function () { window.interactLoadedFlag = false })\n",
       "   </script>\n",
       "</div>"
      ]
     },
     "metadata": {},
     "output_type": "display_data"
    },
    {
     "name": "stdout",
     "output_type": "stream",
     "text": [
      "Connecting Maxima to server on port 8080\n"
     ]
    }
   ],
   "source": [
    "using PyPlot\n",
    "using Interact\n",
    "using Maxima\n",
    "using Optim\n",
    "using PhaseDiagrams"
   ]
  },
  {
   "cell_type": "code",
   "execution_count": 2,
   "metadata": {
    "collapsed": false
   },
   "outputs": [
    {
     "data": {
      "text/latex": [
       " \n",
       "$${{n^4\\,χ}\\over{12}}-{{n^3\\,η}\\over{6}}+{{n^2}\\over{2}}$$\n"
      ],
      "text/plain": [
       " \n",
       "                                4      3      2\n",
       "                               n  χ   n  η   n\n",
       "                               ---- - ---- + --\n",
       "                                12     6     2"
      ]
     },
     "execution_count": 2,
     "metadata": {},
     "output_type": "execute_result"
    }
   ],
   "source": [
    "f_ideal = m\"n^2/2 - η*n^3/6 + χ*n^4/12\""
   ]
  },
  {
   "cell_type": "code",
   "execution_count": 3,
   "metadata": {
    "collapsed": false
   },
   "outputs": [
    {
     "data": {
      "text/latex": [
       " \n",
       "$${{\\left(2\\,A\\,{\\it n_1}+{\\it n_0}\\right)^4\\,χ}\\over{12}}-{{\\left(2\n",
       " \\,A\\,{\\it n_1}+{\\it n_0}\\right)^3\\,η}\\over{6}}+{{\\left(2\\,A\\,\n",
       " {\\it n_1}+{\\it n_0}\\right)^2}\\over{2}}$$\n"
      ],
      "text/plain": [
       " \n",
       "                          4                  3                  2\n",
       "             (2 A n1 + n0)  χ   (2 A n1 + n0)  η   (2 A n1 + n0)\n",
       "             ---------------- - ---------------- + --------------\n",
       "                    12                 6                 2"
      ]
     },
     "execution_count": 3,
     "metadata": {},
     "output_type": "execute_result"
    }
   ],
   "source": [
    "n = m\"n0 + 2*A*n1\"            # + A[2]*n2\"\n",
    "\n",
    "f_ideal = subst(n, :n, f_ideal)"
   ]
  },
  {
   "cell_type": "code",
   "execution_count": 4,
   "metadata": {
    "collapsed": false
   },
   "outputs": [
    {
     "data": {
      "text/latex": [
       " \n",
       "$${{4\\,A^4\\,{\\it n_1}^4\\,χ}\\over{3}}+{{8\\,A^3\\,{\\it n_0}\\,{\\it n_1}^3\n",
       " \\,χ}\\over{3}}+2\\,A^2\\,{\\it n_0}^2\\,{\\it n_1}^2\\,χ+{{2\\,A\\,{\\it n_0}^\n",
       " 3\\,{\\it n_1}\\,χ}\\over{3}}+{{{\\it n_0}^4\\,χ}\\over{12}}-{{4\\,A^3\\,\n",
       " {\\it n_1}^3\\,η}\\over{3}}-2\\,A^2\\,{\\it n_0}\\,{\\it n_1}^2\\,η-A\\,\n",
       " {\\it n_0}^2\\,{\\it n_1}\\,η-{{{\\it n_0}^3\\,η}\\over{6}}+2\\,A^2\\,\n",
       " {\\it n_1}^2+2\\,A\\,{\\it n_0}\\,{\\it n_1}+{{{\\it n_0}^2}\\over{2}}$$\n"
      ],
      "text/plain": [
       " \n",
       "    4   4        3      3                            3          4\n",
       " 4 A  n1  χ   8 A  n0 n1  χ      2   2   2     2 A n0  n1 χ   n0  χ\n",
       " ---------- + ------------- + 2 A  n0  n1  χ + ------------ + -----\n",
       "     3              3                               3          12\n",
       "      3   3                                    3                              2\n",
       "   4 A  n1  η      2      2         2        n0  η      2   2               n0\n",
       " - ---------- - 2 A  n0 n1  η - A n0  n1 η - ----- + 2 A  n1  + 2 A n0 n1 + ---\n",
       "       3                                       6                             2"
      ]
     },
     "execution_count": 4,
     "metadata": {},
     "output_type": "execute_result"
    }
   ],
   "source": [
    "f_ideal = expand(f_ideal)"
   ]
  },
  {
   "cell_type": "code",
   "execution_count": 5,
   "metadata": {
    "collapsed": false
   },
   "outputs": [],
   "source": [
    "n1 = m\"cos(4*%pi/sqrt(3)*(sqrt(3)*x/2 - y/2)) + \n",
    "       cos(4*%pi/sqrt(3)*(sqrt(3)*x/2 + y/2)) + \n",
    "       cos(4*%pi/sqrt(3)*y)\"\n",
    "\n",
    "n2 = m\"cos(4*%pi*x) +\n",
    "       cos(4*%pi*(x/2 + sqrt(3)*y/2)) + \n",
    "       cos(4*%pi*(-x/2 + sqrt(3)*y/2))\"\n",
    "\n",
    "f_ideal = subst(n1, :n1, f_ideal)\n",
    "#f_ideal = subst(n2, :n2, f_ideal);"
   ]
  },
  {
   "cell_type": "code",
   "execution_count": 6,
   "metadata": {
    "collapsed": false
   },
   "outputs": [],
   "source": [
    "F_ideal = \"integrate(integrate($f_ideal, x, 0, 1), y, 0, sqrt(3)/2)\" |> MExpr;"
   ]
  },
  {
   "cell_type": "code",
   "execution_count": 7,
   "metadata": {
    "collapsed": false
   },
   "outputs": [
    {
     "data": {
      "text/latex": [
       " \n",
       "$${{-\\left(-2\\,3^{{{3}\\over{2}}}\\,\\pi\\,{\\it n_0}^4-8\\,3^{{{7}\\over{2\n",
       " }}}\\,\\pi\\,A^2\\,{\\it n_0}^2-32\\,3^{{{5}\\over{2}}}\\,\\pi\\,A^3\\,\n",
       " {\\it n_0}-20\\,3^{{{7}\\over{2}}}\\,\\pi\\,A^4\\right)\\,χ-\\left(4\\,3^{{{3\n",
       " }\\over{2}}}\\,\\pi\\,{\\it n_0}^3+8\\,3^{{{7}\\over{2}}}\\,\\pi\\,A^2\\,\n",
       " {\\it n_0}+16\\,3^{{{5}\\over{2}}}\\,\\pi\\,A^3\\right)\\,η+4\\,3^{{{5}\\over{\n",
       " 2}}}\\,\\pi\\,{\\it n_0}^2+8\\,3^{{{7}\\over{2}}}\\,\\pi\\,A^2}\\over{144\\,\\pi\n",
       " }}$$\n"
      ],
      "text/plain": [
       " \n",
       "            3/2       4       7/2      2   2       5/2      3\n",
       " ((- ((- 2 3    %pi n0 ) - 8 3    %pi A  n0  - 32 3    %pi A  n0\n",
       "       7/2      4           3/2       3      7/2      2          5/2      3\n",
       " - 20 3    %pi A ) χ) - (4 3    %pi n0  + 8 3    %pi A  n0 + 16 3    %pi A ) η\n",
       "      5/2       2      7/2      2\n",
       " + 4 3    %pi n0  + 8 3    %pi A )/(144 %pi)"
      ]
     },
     "execution_count": 7,
     "metadata": {},
     "output_type": "execute_result"
    }
   ],
   "source": [
    "F_ideal = mcall(F_ideal)"
   ]
  },
  {
   "cell_type": "code",
   "execution_count": 8,
   "metadata": {
    "collapsed": false
   },
   "outputs": [
    {
     "data": {
      "text/latex": [
       " \n",
       "$$0.08333333333333333\\,{\\it n_0}^4\\,χ+3.0\\,A^2\\,{\\it n_0}^2\\,χ+4.0\\,A\n",
       " ^3\\,{\\it n_0}\\,χ+7.5\\,A^4\\,χ-0.1666666666666667\\,{\\it n_0}^3\\,η-3.0\n",
       " \\,A^2\\,{\\it n_0}\\,η-2.0\\,A^3\\,η+0.5\\,{\\it n_0}^2+3.0\\,A^2$$\n"
      ],
      "text/plain": [
       " \n",
       "                       4          2   2          3             4\n",
       " 0.08333333333333333 n0  χ + 3.0 A  n0  χ + 4.0 A  n0 χ + 7.5 A  χ\n",
       "                                3          2             3           2        2\n",
       "         - 0.1666666666666667 n0  η - 3.0 A  n0 η - 2.0 A  η + 0.5 n0  + 3.0 A"
      ]
     },
     "execution_count": 8,
     "metadata": {},
     "output_type": "execute_result"
    }
   ],
   "source": [
    "F_ideal = ratsimp(F_ideal)\n",
    "F_ideal = \"$F_ideal/(sqrt(3)/2)\" |> MExpr |> mcall\n",
    "F_ideal = ratsimp(F_ideal)\n",
    "F_ideal = float(F_ideal)\n",
    "F_ideal = expand(F_ideal)"
   ]
  },
  {
   "cell_type": "code",
   "execution_count": 9,
   "metadata": {
    "collapsed": false
   },
   "outputs": [
    {
     "data": {
      "text/plain": [
       "F_id (generic function with 1 method)"
      ]
     },
     "execution_count": 9,
     "metadata": {},
     "output_type": "execute_result"
    }
   ],
   "source": [
    "F_id_exp = parse(F_ideal)                # Make julia expression of the ideal free energy\n",
    "@eval F_id(η, χ, n0, A) = $F_id_exp     # Make julia function from the expression"
   ]
  },
  {
   "cell_type": "code",
   "execution_count": 10,
   "metadata": {
    "collapsed": false
   },
   "outputs": [
    {
     "data": {
      "text/html": [],
      "text/plain": [
       "Interact.Slider{Float64}(Signal{Float64}(1.4, nactions=0),\"η\",1.4,1.0:0.1:1.8,true)"
      ]
     },
     "metadata": {},
     "output_type": "display_data"
    },
    {
     "data": {
      "text/html": [],
      "text/plain": [
       "Interact.Slider{Float64}(Signal{Float64}(0.1, nactions=0),\"n0\",0.1,0.0:0.01:0.2,true)"
      ]
     },
     "metadata": {},
     "output_type": "display_data"
    },
    {
     "data": {
      "image/png": "[encoded data removed]",
      "text/plain": [
       "PyPlot.Figure(PyObject <matplotlib.figure.Figure object at 0x7f4c63e89410>)"
      ]
     },
     "execution_count": 10,
     "metadata": {
      "comm_id": "868d8e00-7c93-478e-ae38-9276a42ab925",
      "reactive": true
     },
     "output_type": "execute_result"
    }
   ],
   "source": [
    "let\n",
    "    A = linspace(0.0, 4.0, 1000)\n",
    "    ff = Array(Float64, 1000)\n",
    "    f = figure(figsize=(6, 3))\n",
    "\n",
    "    @manipulate for η in 1.0:0.1:1.8, n0 in 0.0:0.01:0.2\n",
    "        withfig(f) do\n",
    "            for i in 1:1000\n",
    "                ff[i] = F_id(η, 1.0, n0, A[i])\n",
    "            end\n",
    "            plot(A, ff)\n",
    "            ylim(0, 100)\n",
    "            xlabel(\"Amplitude A\")\n",
    "            ylabel(L\"F_{ideal}(A)\")\n",
    "        end\n",
    "    end\n",
    "end"
   ]
  },
  {
   "cell_type": "markdown",
   "metadata": {},
   "source": [
    "## Free Energy of Mixing\n",
    "\n",
    "The free energy of mixing is of the following form:\n",
    "\n",
    "$$\n",
    "    \\mathcal{F}_{mix}[c] = \\frac{1}{V_{cell}}\\int_{cell} \n",
    "    (1 + n_0)\\left(c \\log\\left(\\frac{c}{c_0}\\right) + \n",
    "    (1-c) \\log\\left(\\frac{1-c}{1-c_0}\\right)\\right) + \\frac{\\epsilon(T)}{2}(c-c_0)^2\n",
    "$$\n",
    "\n",
    "In equilibrium we can assume that the concentration is constant so the integral just cancels the factor of the volume of the unit cell. The term $\\epsilon(T)$ is the enthaply of mixing term which we model as, \n",
    "\n",
    "$$\n",
    "\\epsilon(T) = -4 + \\epsilon_0 (T - T_0),\n",
    "$$\n",
    "\n",
    "where $T_0$ is the spinodal temperature of the liquid"
   ]
  },
  {
   "cell_type": "code",
   "execution_count": 11,
   "metadata": {
    "collapsed": false
   },
   "outputs": [
    {
     "data": {
      "text/plain": [
       "F_mix (generic function with 1 method)"
      ]
     },
     "execution_count": 11,
     "metadata": {},
     "output_type": "execute_result"
    }
   ],
   "source": [
    " F_mix(c, T, n₀, ϵ₀, T₀, ω, c₀) = ω*((1+n₀)*(c*log(c/c₀) + (1-c)*log((1-c)/(1-c₀))) + (-4.0 + ϵ₀*(T-T₀))/2*(c-c₀)^2)"
   ]
  },
  {
   "cell_type": "code",
   "execution_count": 12,
   "metadata": {
    "collapsed": false
   },
   "outputs": [
    {
     "data": {
      "text/html": [],
      "text/plain": [
       "Interact.Slider{Float64}(Signal{Float64}(0.2, nactions=0),\"ω\",0.2,0.0:0.01:0.4,true)"
      ]
     },
     "metadata": {},
     "output_type": "display_data"
    },
    {
     "data": {
      "text/html": [],
      "text/plain": [
       "Interact.Slider{Float64}(Signal{Float64}(0.3, nactions=0),\"T\",0.3,0.0:0.01:0.6,true)"
      ]
     },
     "metadata": {},
     "output_type": "display_data"
    },
    {
     "data": {
      "image/png": "[encoded data removed]",
      "text/plain": [
       "PyPlot.Figure(PyObject <matplotlib.figure.Figure object at 0x7f4c63ca8050>)"
      ]
     },
     "execution_count": 12,
     "metadata": {
      "comm_id": "77acf475-01e1-48e9-8d43-2cdb27802831",
      "reactive": true
     },
     "output_type": "execute_result"
    }
   ],
   "source": [
    "let\n",
    "    N = 1000\n",
    "    c = linspace(0.001, 0.999, N)\n",
    "    ff = Array(Float64, N)\n",
    "    f = figure(figsize=[6, 3])\n",
    "    @manipulate for ω in 0.0:0.01:0.4, T in 0.0:0.01:0.60\n",
    "        withfig(f) do\n",
    "            for i in 1:N\n",
    "                ff[i] = F_mix(c[i], T, 0.05, 20.0, 0.30, ω, 0.75)\n",
    "            end\n",
    "            plot(c, ff)\n",
    "            xlim(0, 1)\n",
    "            ylim(-0.1, 0.1)\n",
    "            xlabel(\"Concentration\")\n",
    "            ylabel(L\"F_{mix}(c)\")\n",
    "        end\n",
    "    end\n",
    "end"
   ]
  },
  {
   "cell_type": "markdown",
   "metadata": {},
   "source": [
    "## Correlation functions\n",
    "\n",
    "There are a variety of effective pair correlation functions we can choose from. Here is one of them from the original xpfc paper"
   ]
  },
  {
   "cell_type": "code",
   "execution_count": 13,
   "metadata": {
    "collapsed": false
   },
   "outputs": [
    {
     "data": {
      "text/plain": [
       "find_k (generic function with 1 method)"
      ]
     },
     "execution_count": 13,
     "metadata": {},
     "output_type": "execute_result"
    }
   ],
   "source": [
    "k′ = 2π\n",
    "α = 0.5\n",
    "β = 6.0\n",
    "ρ = sqrt(3)/2.0\n",
    "αc = 0.4\n",
    "\n",
    "C_eff(k, c, T) = exp(-(c)^2/(2*(αc)^2))*exp(-T^2*k′^2/(2*β*ρ))*exp(-(k-k′)^2/(2*α^2))\n",
    "\n",
    "function find_k(c, T)\n",
    "    sol = optimize(k -> -C_eff(k, c, T), 2π, 4π/√3)\n",
    "    k₀ = float(sol.minimum)\n",
    "    return k₀\n",
    "end"
   ]
  },
  {
   "cell_type": "code",
   "execution_count": 14,
   "metadata": {
    "collapsed": false
   },
   "outputs": [
    {
     "data": {
      "text/plain": [
       "6.283185413109935"
      ]
     },
     "execution_count": 14,
     "metadata": {},
     "output_type": "execute_result"
    }
   ],
   "source": [
    "k = find_k(1.0, 0.4)"
   ]
  },
  {
   "cell_type": "code",
   "execution_count": 15,
   "metadata": {
    "collapsed": false
   },
   "outputs": [
    {
     "data": {
      "text/html": [],
      "text/plain": [
       "Interact.Slider{Float64}(Signal{Float64}(0.5, nactions=0),\"c\",0.5,0.0:0.01:1.0,true)"
      ]
     },
     "metadata": {},
     "output_type": "display_data"
    },
    {
     "data": {
      "text/html": [],
      "text/plain": [
       "Interact.Slider{Float64}(Signal{Float64}(0.5, nactions=0),\"T\",0.5,0.0:0.01:1.0,true)"
      ]
     },
     "metadata": {},
     "output_type": "display_data"
    },
    {
     "data": {
      "image/png": "[encoded data removed]",
      "text/plain": [
       "PyPlot.Figure(PyObject <matplotlib.figure.Figure object at 0x7f4c63820f90>)"
      ]
     },
     "execution_count": 15,
     "metadata": {
      "comm_id": "83e56959-b3ec-42df-bc7e-16038b9a5bdd",
      "reactive": true
     },
     "output_type": "execute_result"
    }
   ],
   "source": [
    "let\n",
    "    N = 400\n",
    "    k = linspace(0.0, 10.0, N)\n",
    "    CC = Array(Float64, N)\n",
    "    f = figure(figsize=[6, 3])\n",
    "    @manipulate for c in 0.0:0.01:1.0, T in 0.0:0.01:1.0\n",
    "        withfig(f) do\n",
    "            for i in 1:N\n",
    "                CC[i] = C_eff(k[i], c, T)\n",
    "            end\n",
    "            kmax = find_k(c, T)\n",
    "            plot(k, CC)\n",
    "            vlines(kmax, 0.0, 1.0)\n",
    "            xlim(0, 10)\n",
    "            ylim(0, 1.1)\n",
    "            xlabel(\"Wavenumber k\")\n",
    "            ylabel(L\"$C_{eff}(k)$\")\n",
    "        end \n",
    "    end\n",
    "end"
   ]
  },
  {
   "cell_type": "markdown",
   "metadata": {},
   "source": [
    "## Excess Free Energy\n",
    "\n",
    "The excess free energy term in the binary phase field crystal model is the form\n",
    "\n",
    "$$\n",
    "\\mathcal{F}_{ex}[n, c] = -\\frac{1}{2 V_{cell}}\\int_{cell} dr \\int dr^\\prime n(r) C_{eff}(r, r^\\prime; c) n(r^\\prime)\n",
    "$$\n",
    "\n",
    "Most of the modes in the amplitude expansion cancel out but we're left with the following at the end of the day:\n",
    "\n",
    "$$\n",
    "\\mathcal{F}_{ex}[n, c] = -\\frac{1}{2 V_{cell}}(n_0^2 C_{eff}(k=0, c) + 6 A_1^2 C_{eff}(k=k_1, c) + 6 A_2^2 C_{eff}(k=k_2, c))\n",
    "$$"
   ]
  },
  {
   "cell_type": "code",
   "execution_count": 16,
   "metadata": {
    "collapsed": false
   },
   "outputs": [
    {
     "data": {
      "text/plain": [
       "F_ex (generic function with 1 method)"
      ]
     },
     "execution_count": 16,
     "metadata": {},
     "output_type": "execute_result"
    }
   ],
   "source": [
    "function F_ex(c, T, A)\n",
    "    k = find_k(c, T)\n",
    "    return (-3.0*A^2*C_eff(k, c, T))       # + 6.0*A[2]^2*C_eff(k[2], c, T))\n",
    "end"
   ]
  },
  {
   "cell_type": "code",
   "execution_count": 17,
   "metadata": {
    "collapsed": false
   },
   "outputs": [
    {
     "name": "stdout",
     "output_type": "stream",
     "text": [
      "Vcell = 1.1547004994442778, Vcell = 0.8660254037844386\n"
     ]
    }
   ],
   "source": [
    "## Vcell Hackery\n",
    "k = find_k(1.0, 0.0)\n",
    "Vcell = √3/2*(4π/(k*√3))^2\n",
    "\n",
    "println(\"Vcell = $Vcell, Vcell = $(√3/2)\")"
   ]
  },
  {
   "cell_type": "code",
   "execution_count": 18,
   "metadata": {
    "collapsed": false
   },
   "outputs": [
    {
     "data": {
      "text/html": [],
      "text/plain": [
       "Interact.Slider{Float64}(Signal{Float64}(2.0, nactions=0),\"η\",2.0,1.0:0.1:3.0,true)"
      ]
     },
     "metadata": {},
     "output_type": "display_data"
    },
    {
     "data": {
      "text/html": [],
      "text/plain": [
       "Interact.Slider{Float64}(Signal{Float64}(0.491, nactions=0),\"c\",0.491,0.001:0.01:0.991,true)"
      ]
     },
     "metadata": {},
     "output_type": "display_data"
    },
    {
     "data": {
      "text/html": [],
      "text/plain": [
       "Interact.Slider{Float64}(Signal{Float64}(0.15, nactions=0),\"T\",0.15,0.0:0.01:0.3,true)"
      ]
     },
     "metadata": {},
     "output_type": "display_data"
    },
    {
     "data": {
      "image/png": "[encoded data removed]",
      "text/plain": [
       "PyPlot.Figure(PyObject <matplotlib.figure.Figure object at 0x7f4c636e4b90>)"
      ]
     },
     "execution_count": 18,
     "metadata": {
      "comm_id": "71925359-b2df-4abe-a7e8-85f621280121",
      "reactive": true
     },
     "output_type": "execute_result"
    }
   ],
   "source": [
    "let\n",
    "    N = 1000\n",
    "    A = linspace(-2.0, 2.0, N)\n",
    "    ff = Array(Float64, N)\n",
    "    f = figure(figsize=(6, 3))\n",
    "    n₀ = 0.0\n",
    "    ϵ₀ = 20.0\n",
    "    T₀ = 0.30\n",
    "    ω = 0.02\n",
    "    c₀ = 0.75\n",
    "    @manipulate for η in 1.0:0.1:3.0, c in 0.001:0.01:0.999, T in 0.0:0.01:0.3\n",
    "        withfig(f) do\n",
    "            for i in 1:N\n",
    "                ff[i] = F_ex(c, T, A[i]) + F_id(η, 1.0, 0.01, A[i]) + F_mix(c, T, n₀, ϵ₀, T₀, ω, c₀)\n",
    "            end\n",
    "            plot(A, ff)\n",
    "            ylim(-0.01,0.01)\n",
    "            xlim(-0.2, 0.5)\n",
    "            xlabel(\"Amplitude A\")\n",
    "            ylabel(L\"F(A)\")\n",
    "        end\n",
    "    end\n",
    "end"
   ]
  },
  {
   "cell_type": "markdown",
   "metadata": {},
   "source": [
    "## Total free energy\n",
    "\n",
    "The total free energy is sum of all the above terms"
   ]
  },
  {
   "cell_type": "code",
   "execution_count": 19,
   "metadata": {
    "collapsed": false
   },
   "outputs": [
    {
     "data": {
      "text/plain": [
       "F (generic function with 1 method)"
      ]
     },
     "execution_count": 19,
     "metadata": {},
     "output_type": "execute_result"
    }
   ],
   "source": [
    "F(c, T, η, χ, ϵ₀, T₀, ω, n₀, A, c₀) = F_mix(c, T, n₀, ϵ₀, T₀, ω, c₀) + F_ex(c, T, A)+ F_id(η, χ, n₀, A) "
   ]
  },
  {
   "cell_type": "code",
   "execution_count": 20,
   "metadata": {
    "collapsed": false
   },
   "outputs": [
    {
     "data": {
      "text/plain": [
       "F (generic function with 2 methods)"
      ]
     },
     "execution_count": 20,
     "metadata": {},
     "output_type": "execute_result"
    }
   ],
   "source": [
    "function F(c, T, η, χ, ϵ₀, T₀, ω, n₀, c₀)\n",
    "    sol = optimize(A -> F(c, T, η, χ, ϵ₀, T₀, ω, n₀, A, c₀), 0.0, 10.0)\n",
    "    #println(\"Amplitude at concentation $c and temperature $T is $(sol.minimum)\")\n",
    "    return sol.f_minimum\n",
    "end"
   ]
  },
  {
   "cell_type": "code",
   "execution_count": 21,
   "metadata": {
    "collapsed": false
   },
   "outputs": [
    {
     "data": {
      "text/html": [],
      "text/plain": [
       "Interact.Slider{Float64}(Signal{Float64}(0.4901, nactions=0),\"c\",0.4901,0.0001:0.01:0.9901,true)"
      ]
     },
     "metadata": {},
     "output_type": "display_data"
    },
    {
     "data": {
      "text/html": [],
      "text/plain": [
       "Interact.Slider{Float64}(Signal{Float64}(0.1, nactions=0),\"T\",0.1,0.0:0.001:0.2,true)"
      ]
     },
     "metadata": {},
     "output_type": "display_data"
    },
    {
     "data": {
      "image/png": "[encoded data removed]",
      "text/plain": [
       "PyPlot.Figure(PyObject <matplotlib.figure.Figure object at 0x7f4c637e8050>)"
      ]
     },
     "execution_count": 21,
     "metadata": {
      "comm_id": "224c50d9-e73c-4b72-9122-33306c565e88",
      "reactive": true
     },
     "output_type": "execute_result"
    }
   ],
   "source": [
    "let\n",
    "    N = 1000\n",
    "    A = linspace(-2.0, 3.0, N)\n",
    "    ff = Array(Float64, N)\n",
    "    f = figure(figsize=(6, 3))\n",
    "    η = 2.0\n",
    "    χ = 1.0\n",
    "    local ϵ₀ = 0.0\n",
    "    local T₀ = 0.0\n",
    "    n₀ = 0.05\n",
    "    ω = 0.02\n",
    "    c₀ = 0.75\n",
    "    @manipulate for c in 0.0001:0.01:0.9999, T in 0.0:0.001:0.20\n",
    "        withfig(f) do\n",
    "            for i in 1:N\n",
    "                ff[i] = F(c, T, η, χ, ϵ₀, T₀, ω, n₀, A[i], c₀)\n",
    "            end\n",
    "            A_min = optimize(A -> F(c, T, η, χ, ϵ₀, T₀, ω, n₀, A, c₀), 0.0, 7.0).minimum\n",
    "            plot(A, ff)\n",
    "            vlines(A_min, -1, 1)\n",
    "            ylim(-1,1)\n",
    "            xlim(-1, 1)\n",
    "            xlabel(\"Amplitude A\")\n",
    "            ylabel(L\"F(A)\")\n",
    "        end\n",
    "    end\n",
    "end"
   ]
  },
  {
   "cell_type": "code",
   "execution_count": 22,
   "metadata": {
    "collapsed": false
   },
   "outputs": [
    {
     "data": {
      "text/html": [],
      "text/plain": [
       "Interact.Slider{Float64}(Signal{Float64}(0.2, nactions=0),\"T\",0.2,0.0:0.001:0.4,true)"
      ]
     },
     "metadata": {},
     "output_type": "display_data"
    },
    {
     "data": {
      "text/html": [],
      "text/plain": [
       "Interact.Slider{Float64}(Signal{Float64}(2.0, nactions=0),\"η\",2.0,1.0:0.1:3.0,true)"
      ]
     },
     "metadata": {},
     "output_type": "display_data"
    },
    {
     "data": {
      "image/png": "[encoded data removed]",
      "text/plain": [
       "PyPlot.Figure(PyObject <matplotlib.figure.Figure object at 0x7f4c636faa50>)"
      ]
     },
     "execution_count": 22,
     "metadata": {
      "comm_id": "05930e5f-77aa-4fac-a359-1636a8c54fb9",
      "reactive": true
     },
     "output_type": "execute_result"
    }
   ],
   "source": [
    "let\n",
    "    N = 200\n",
    "    c = linspace(0.001, 0.999, N)\n",
    "    ff = Array(Float64, N)\n",
    "    f = figure(figsize=[6, 3])\n",
    "    const χ = 1.0\n",
    "    const ϵ₀= 10.0\n",
    "    const T₀= 0.350\n",
    "    const n₀ = 0.05\n",
    "    const ω = 0.3\n",
    "    const c₀ = 0.75\n",
    "    @manipulate for T in 0.0:0.001:0.4, η in 1.0:0.1:3.0\n",
    "        withfig(f) do\n",
    "            for i in 1:N\n",
    "                ff[i] = F(c[i], T, η, χ, ϵ₀, T₀, ω, n₀, c₀)\n",
    "            end\n",
    "            plot(c, ff)\n",
    "            xlim(0, 1)\n",
    "            xlabel(\"Concentration\")\n",
    "            ylabel(L\"F(c, T)\")\n",
    "        end\n",
    "    end\n",
    "end"
   ]
  },
  {
   "cell_type": "code",
   "execution_count": 23,
   "metadata": {
    "collapsed": false
   },
   "outputs": [
    {
     "data": {
      "text/html": [],
      "text/plain": [
       "Interact.Slider{Float64}(Signal{Float64}(0.15, nactions=0),\"T\",0.15,0.0:0.01:0.3,true)"
      ]
     },
     "metadata": {},
     "output_type": "display_data"
    },
    {
     "ename": "LoadError",
     "evalue": "LoadError: DomainError:\nwhile loading In[23], in expression starting on line 2",
     "output_type": "error",
     "traceback": [
      "LoadError: DomainError:\nwhile loading In[23], in expression starting on line 2",
      "",
      " [inlined code] from /home/nsmith/.julia/v0.4/PyCall/src/exception.jl:81",
      " in _pycall at /home/nsmith/.julia/v0.4/PyCall/src/PyCall.jl:546",
      " in pycall at /home/nsmith/.julia/v0.4/PyCall/src/PyCall.jl:568",
      " in sca at /home/nsmith/.julia/v0.4/PyPlot/src/PyPlot.jl:399",
      " in withfig at /home/nsmith/.julia/v0.4/PyPlot/src/PyPlot.jl:565",
      " in anonymous at In[23]:11",
      " in anonymous at In[23]:10"
     ]
    }
   ],
   "source": [
    "## Contour Plot\n",
    "let \n",
    "    f = figure(figsize=(6, 6))\n",
    "    n = 200\n",
    "    c = linspace(0, 1, n)\n",
    "    A = linspace(-0.2, 0.5, n)\n",
    "    cgrid = repmat(c', n, 1)\n",
    "    Agrid = repmat(A, 1, n)\n",
    "    ff = zeros(n, n)\n",
    "    @manipulate for T in 0.0:0.01:0.30\n",
    "        withfig(f) do\n",
    "            for i in 1:n\n",
    "                for j in 1:n\n",
    "                    ff[i, j] = F(c[j], T, 2.0, 1.0, 0, 0, 0.02, 0.05, A[i])\n",
    "                end\n",
    "            end\n",
    "            levels = linspace(minimum(ff), maximum(ff), 40) |> collect\n",
    "            contour(cgrid, Agrid, ff, levels=levels)\n",
    "            #imshow(ff)\n",
    "            xlabel(\"concentration\")\n",
    "            ylabel(\"Amplitude\")\n",
    "        end\n",
    "    end\n",
    "end"
   ]
  },
  {
   "cell_type": "code",
   "execution_count": 24,
   "metadata": {
    "collapsed": false
   },
   "outputs": [
    {
     "data": {
      "text/plain": [
       "false"
      ]
     },
     "execution_count": 24,
     "metadata": {},
     "output_type": "execute_result"
    }
   ],
   "source": [
    "pygui(false)"
   ]
  },
  {
   "cell_type": "code",
   "execution_count": 25,
   "metadata": {
    "collapsed": false
   },
   "outputs": [
    {
     "data": {
      "text/plain": [
       "F (generic function with 3 methods)"
      ]
     },
     "execution_count": 25,
     "metadata": {},
     "output_type": "execute_result"
    }
   ],
   "source": [
    "const η = 2.0\n",
    "const χ = 1.0\n",
    "const ϵ₀ = 10.0\n",
    "const T₀ = 0.35\n",
    "const ω = 0.3\n",
    "const n₀ = 0.05\n",
    "c₀ = 0.75\n",
    "\n",
    "F(c, T) = F(c, T, η, χ, ϵ₀, T₀, ω, n₀, c₀)"
   ]
  },
  {
   "cell_type": "code",
   "execution_count": 26,
   "metadata": {
    "collapsed": false
   },
   "outputs": [
    {
     "data": {
      "text/plain": [
       "make_phase_diagram (generic function with 1 method)"
      ]
     },
     "execution_count": 26,
     "metadata": {},
     "output_type": "execute_result"
    }
   ],
   "source": [
    "function make_phase_diagram(crnge, Trnge)\n",
    "    T_vals = Float64[] \n",
    "    c_vals = Float64[]\n",
    "    \n",
    "    c = collect(crnge)\n",
    "    T = collect(Trnge)\n",
    "    \n",
    "    f = Array(Float64, length(c))\n",
    "    \n",
    "    for t in 1:length(T)\n",
    "        for cc in 1:length(c)\n",
    "            f[cc] = F(c[cc], T[t])\n",
    "        end\n",
    "        arr = commontangent(f)\n",
    "        for domain in arr\n",
    "            for point in domain\n",
    "                push!(T_vals, T[t])\n",
    "                push!(c_vals, c[point])\n",
    "            end\n",
    "        end\n",
    "    end\n",
    "    return T_vals, c_vals\n",
    "end"
   ]
  },
  {
   "cell_type": "code",
   "execution_count": 29,
   "metadata": {
    "collapsed": false
   },
   "outputs": [
    {
     "data": {
      "text/plain": [
       "([0.0,0.0,0.01,0.01,0.02,0.02,0.03,0.03,0.04,0.04  …  0.29,0.29,0.29,0.29,0.3,0.3,0.31,0.31,0.32,0.32],[0.034,0.977,0.035,0.975,0.036,0.974,0.038,0.973,0.039,0.971  …  0.02,0.045,0.254,0.746,0.282,0.718,0.319,0.681,0.369,0.631])"
      ]
     },
     "execution_count": 29,
     "metadata": {},
     "output_type": "execute_result"
    }
   ],
   "source": [
    "crnge = 0.001:0.001:0.999\n",
    "Trnge = 0.00:0.010:0.35\n",
    "\n",
    "T_vals, c_vals = make_phase_diagram(crnge, Trnge)"
   ]
  },
  {
   "cell_type": "code",
   "execution_count": 30,
   "metadata": {
    "collapsed": false
   },
   "outputs": [],
   "source": [
    "f = figure()\n",
    "withfig(f) do\n",
    "    scatter(c_vals, T_vals, c=\"k\")\n",
    "    grid(false)\n",
    "    xlim(0, 1)\n",
    "    ylim(0.00, 0.40)\n",
    "    xlabel(L\"Concentration $(c)$\")\n",
    "    ylabel(L\"Temperature $(T)$\")\n",
    "    title(\"Monotectic Phase Diagram\")\n",
    "end\n",
    "\n",
    "savefig(\"Monotectic Phase Diagram.svg\")"
   ]
  },
  {
   "cell_type": "code",
   "execution_count": 31,
   "metadata": {
    "collapsed": false
   },
   "outputs": [
    {
     "data": {
      "image/png": "[encoded data removed]",
      "text/plain": [
       "PyPlot.Figure(PyObject <matplotlib.figure.Figure object at 0x7f4c63171390>)"
      ]
     },
     "metadata": {},
     "output_type": "display_data"
    }
   ],
   "source": [
    "scatter(c_vals, T_vals, c=\"k\")\n",
    "grid(false)"
   ]
  },
  {
   "cell_type": "code",
   "execution_count": null,
   "metadata": {
    "collapsed": true
   },
   "outputs": [],
   "source": []
  }
 ],
 "metadata": {
  "anaconda-cloud": {},
  "kernelspec": {
   "display_name": "Julia 0.4.6",
   "language": "julia",
   "name": "julia-0.4"
  },
  "language_info": {
   "file_extension": ".jl",
   "mimetype": "application/julia",
   "name": "julia",
   "version": "0.4.6"
  },
  "widgets": {
   "state": {
    "0d757702-5afa-4266-b020-8dbdd1dcc90e": {
     "views": [
      {
       "cell_index": 19
      }
     ]
    },
    "21c31bb0-4aa6-4cef-b343-39b187dabbf7": {
     "views": [
      {
       "cell_index": 13
      }
     ]
    },
    "366cc2cf-f42a-4893-8355-7cfac100f511": {
     "views": [
      {
       "cell_index": 10
      }
     ]
    },
    "5ff6329d-9e9e-42bb-a7a2-00563f98d38e": {
     "views": [
      {
       "cell_index": 13
      }
     ]
    },
    "73884890-0bc0-44c4-a5b1-992d83796e4a": {
     "views": [
      {
       "cell_index": 13
      }
     ]
    },
    "896c4a9b-1dd4-4680-a24a-ca7e85fda029": {
     "views": [
      {
       "cell_index": 10
      }
     ]
    },
    "8eedcdfa-a7ea-4efd-8843-362fa3d1f217": {
     "views": [
      {
       "cell_index": 19
      }
     ]
    }
   },
   "version": "1.2.0"
  }
 },
 "nbformat": 4,
 "nbformat_minor": 0
}
