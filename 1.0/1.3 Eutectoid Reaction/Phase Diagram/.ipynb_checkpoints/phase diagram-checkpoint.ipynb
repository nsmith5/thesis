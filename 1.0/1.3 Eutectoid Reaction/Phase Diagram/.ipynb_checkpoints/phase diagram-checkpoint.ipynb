{
 "cells": [
  {
   "cell_type": "markdown",
   "metadata": {},
   "source": [
    "# Phase Diagram for the Eutectoid System\n",
    "\n",
    "Here we develop a free energy functional and phase diagram for a system with a peritectoid transition. The idea is that this system is exactly the eutectic system, but below the eutectic temperature an intermediate square phase is stabilized. "
   ]
  },
  {
   "cell_type": "code",
   "execution_count": 2,
   "metadata": {
    "collapsed": false
   },
   "outputs": [],
   "source": [
    "using PyPlot\n",
    "using Interact\n",
    "using Maxima\n",
    "using Optim\n",
    "using PhaseDiagrams\n",
    "using Parameters"
   ]
  },
  {
   "cell_type": "code",
   "execution_count": 3,
   "metadata": {
    "collapsed": false
   },
   "outputs": [
    {
     "data": {
      "text/plain": [
       "Params(25.0,0.5,0.35,0.1,0.05,2.0,1.0)"
      ]
     },
     "execution_count": 3,
     "metadata": {},
     "output_type": "execute_result"
    }
   ],
   "source": [
    "type Params\n",
    "    # Mixing stuff\n",
    "    ϵ₀::Float64\n",
    "    c₀::Float64\n",
    "    σ₀::Float64\n",
    "    ω::Float64\n",
    "    \n",
    "    # Ideal stuff\n",
    "    n0::Float64\n",
    "    η::Float64\n",
    "    χ::Float64\n",
    "   \n",
    "    # Correlation functions..\n",
    "end\n",
    "\n",
    "ex_p = Params(25.0, 0.50, 0.35, 0.1, 0.05, 2.0, 1.0)"
   ]
  },
  {
   "cell_type": "markdown",
   "metadata": {},
   "source": [
    "# Free Energy of the Liquid State\n",
    "\n",
    "The free energy of the liquid state is very easy to evaluate. It reduces simply to \n",
    "\n",
    "$$\n",
    "\\frac{\\mathcal{F}_{liq}}{V} = \\frac{n_0^2}{2}-\\eta\\frac{n_0^3}{6} + \\chi\\frac{n_0^4}{12} + \n",
    "(1+n_0)\\frac{\\Delta\\mathcal{F}_{mix}}{V}\n",
    "$$"
   ]
  },
  {
   "cell_type": "code",
   "execution_count": 4,
   "metadata": {
    "collapsed": false
   },
   "outputs": [
    {
     "data": {
      "text/plain": [
       "F_liq (generic function with 2 methods)"
      ]
     },
     "execution_count": 4,
     "metadata": {},
     "output_type": "execute_result"
    }
   ],
   "source": [
    "function F_mix(σ::Float64, c::Float64, p::Params)\n",
    "    @unpack ϵ₀, c₀, σ₀, ω, n0 = p\n",
    "    return ω*((1+n0)*(c*log(c/c₀) + (1-c)*log((1-c)/(1-c₀))) + (-4. + ϵ₀*(σ-σ₀))*(c-c₀)^2/2)\n",
    "end\n",
    "\n",
    "function F_mix(σ::Float64, c::Vector{Float64}, p::Params)\n",
    "    return Float64[F_mix(σ, cᵢ, p) for cᵢ in c]\n",
    "end\n",
    "\n",
    "function F_liq(σ::Float64, c::Float64, p::Params) \n",
    "    @unpack n0, η, χ = p\n",
    "    F_ideal =  n0^2/2 - η*n0^3/6 + χ*n0^4/12\n",
    "    return F_ideal + F_mix(σ, c, p)\n",
    "end\n",
    "\n",
    "function F_liq(σ::Float64, c::Array{Float64, 1}, p::Params)\n",
    "    return Float64[F_liq(σ, cᵢ, p) for cᵢ in c]\n",
    "end"
   ]
  },
  {
   "cell_type": "code",
   "execution_count": 5,
   "metadata": {
    "collapsed": false,
    "scrolled": true
   },
   "outputs": [
    {
     "data": {
      "text/html": [],
      "text/plain": [
       "Interact.Slider{Float64}(Signal{Float64}(0.2, nactions=0),\"σ\",0.2,0.0:0.01:0.4,\".3f\",true)"
      ]
     },
     "metadata": {},
     "output_type": "display_data"
    },
    {
     "data": {
      "image/png": "[encoded data removed]",
      "text/plain": [
       "PyPlot.Figure(PyObject <matplotlib.figure.Figure object at 0x7fa0ac2c43d0>)"
      ]
     },
     "execution_count": 5,
     "metadata": {
      "comm_id": "9c9877ec-a5cd-4b73-9b56-a0bee7da3247",
      "reactive": true
     },
     "output_type": "execute_result"
    }
   ],
   "source": [
    "let\n",
    "    p = Params(10.0, 0.5, 0.30, 0.30, 0.05, 2.0, 1.0)\n",
    "    f = figure(figsize=(6, 3))\n",
    "    c = [linspace(0.01, 0.99, 1000)...]\n",
    "    @manipulate for σ in 0.0:0.01:0.40\n",
    "        withfig(f) do\n",
    "            plot(c, F_liq(σ, c, p))\n",
    "        end\n",
    "    end\n",
    "end"
   ]
  },
  {
   "cell_type": "markdown",
   "metadata": {},
   "source": [
    "# Triangle Ideal Free Energy\n",
    "\n",
    "This is needed for both the $\\beta$ and $\\alpha$ phases"
   ]
  },
  {
   "cell_type": "code",
   "execution_count": 95,
   "metadata": {
    "collapsed": false
   },
   "outputs": [
    {
     "data": {
      "text/latex": [
       " \n",
       "$${{n^4\\,χ}\\over{12}}-{{n^3\\,η}\\over{6}}+{{n^2}\\over{2}}$$\n"
      ],
      "text/plain": [
       " \n",
       "                                4      3      2\n",
       "                               n  χ   n  η   n\n",
       "                               ---- - ---- + --\n",
       "                                12     6     2"
      ]
     },
     "execution_count": 95,
     "metadata": {},
     "output_type": "execute_result"
    }
   ],
   "source": [
    "f_ideal = m\"n^2/2 - η*n^3/6 + χ*n^4/12\""
   ]
  },
  {
   "cell_type": "code",
   "execution_count": 96,
   "metadata": {
    "collapsed": false
   },
   "outputs": [
    {
     "data": {
      "text/latex": [
       " \n",
       "$${{\\left(2\\,A\\,{\\it n_1}+{\\it n_0}\\right)^4\\,χ}\\over{12}}-{{\\left(2\n",
       " \\,A\\,{\\it n_1}+{\\it n_0}\\right)^3\\,η}\\over{6}}+{{\\left(2\\,A\\,\n",
       " {\\it n_1}+{\\it n_0}\\right)^2}\\over{2}}$$\n"
      ],
      "text/plain": [
       " \n",
       "                          4                  3                  2\n",
       "             (2 A n1 + n0)  χ   (2 A n1 + n0)  η   (2 A n1 + n0)\n",
       "             ---------------- - ---------------- + --------------\n",
       "                    12                 6                 2"
      ]
     },
     "execution_count": 96,
     "metadata": {},
     "output_type": "execute_result"
    }
   ],
   "source": [
    "n = m\"n0 + 2*A*n1\"            # + A[2]*n2\"\n",
    "\n",
    "f_ideal = subst(n, :n, f_ideal)"
   ]
  },
  {
   "cell_type": "code",
   "execution_count": 97,
   "metadata": {
    "collapsed": false
   },
   "outputs": [
    {
     "data": {
      "text/latex": [
       " \n",
       "$${{4\\,A^4\\,{\\it n_1}^4\\,χ}\\over{3}}+{{8\\,A^3\\,{\\it n_0}\\,{\\it n_1}^3\n",
       " \\,χ}\\over{3}}+2\\,A^2\\,{\\it n_0}^2\\,{\\it n_1}^2\\,χ+{{2\\,A\\,{\\it n_0}^\n",
       " 3\\,{\\it n_1}\\,χ}\\over{3}}+{{{\\it n_0}^4\\,χ}\\over{12}}-{{4\\,A^3\\,\n",
       " {\\it n_1}^3\\,η}\\over{3}}-2\\,A^2\\,{\\it n_0}\\,{\\it n_1}^2\\,η-A\\,\n",
       " {\\it n_0}^2\\,{\\it n_1}\\,η-{{{\\it n_0}^3\\,η}\\over{6}}+2\\,A^2\\,\n",
       " {\\it n_1}^2+2\\,A\\,{\\it n_0}\\,{\\it n_1}+{{{\\it n_0}^2}\\over{2}}$$\n"
      ],
      "text/plain": [
       " \n",
       "    4   4        3      3                            3          4\n",
       " 4 A  n1  χ   8 A  n0 n1  χ      2   2   2     2 A n0  n1 χ   n0  χ\n",
       " ---------- + ------------- + 2 A  n0  n1  χ + ------------ + -----\n",
       "     3              3                               3          12\n",
       "      3   3                                    3                              2\n",
       "   4 A  n1  η      2      2         2        n0  η      2   2               n0\n",
       " - ---------- - 2 A  n0 n1  η - A n0  n1 η - ----- + 2 A  n1  + 2 A n0 n1 + ---\n",
       "       3                                       6                             2"
      ]
     },
     "execution_count": 97,
     "metadata": {},
     "output_type": "execute_result"
    }
   ],
   "source": [
    "f_ideal = expand(f_ideal)"
   ]
  },
  {
   "cell_type": "code",
   "execution_count": 98,
   "metadata": {
    "collapsed": false
   },
   "outputs": [],
   "source": [
    "n1 = m\"cos(4*%pi/sqrt(3)*(sqrt(3)*x/2 - y/2)) + \n",
    "       cos(4*%pi/sqrt(3)*(sqrt(3)*x/2 + y/2)) + \n",
    "       cos(4*%pi/sqrt(3)*y)\"\n",
    "\n",
    "f_ideal = subst(n1, :n1, f_ideal);"
   ]
  },
  {
   "cell_type": "code",
   "execution_count": 99,
   "metadata": {
    "collapsed": false
   },
   "outputs": [],
   "source": [
    "F_ideal = \"integrate(integrate($f_ideal, x, 0, 1), y, 0, sqrt(3)/2)\" |> MExpr;"
   ]
  },
  {
   "cell_type": "code",
   "execution_count": 100,
   "metadata": {
    "collapsed": false
   },
   "outputs": [
    {
     "data": {
      "text/latex": [
       " \n",
       "$${{-\\left(-2\\,3^{{{3}\\over{2}}}\\,\\pi\\,{\\it n_0}^4-8\\,3^{{{7}\\over{2\n",
       " }}}\\,\\pi\\,A^2\\,{\\it n_0}^2-32\\,3^{{{5}\\over{2}}}\\,\\pi\\,A^3\\,\n",
       " {\\it n_0}-20\\,3^{{{7}\\over{2}}}\\,\\pi\\,A^4\\right)\\,χ-\\left(4\\,3^{{{3\n",
       " }\\over{2}}}\\,\\pi\\,{\\it n_0}^3+8\\,3^{{{7}\\over{2}}}\\,\\pi\\,A^2\\,\n",
       " {\\it n_0}+16\\,3^{{{5}\\over{2}}}\\,\\pi\\,A^3\\right)\\,η+4\\,3^{{{5}\\over{\n",
       " 2}}}\\,\\pi\\,{\\it n_0}^2+8\\,3^{{{7}\\over{2}}}\\,\\pi\\,A^2}\\over{144\\,\\pi\n",
       " }}$$\n"
      ],
      "text/plain": [
       " \n",
       "            3/2       4       7/2      2   2       5/2      3\n",
       " ((- ((- 2 3    %pi n0 ) - 8 3    %pi A  n0  - 32 3    %pi A  n0\n",
       "       7/2      4           3/2       3      7/2      2          5/2      3\n",
       " - 20 3    %pi A ) χ) - (4 3    %pi n0  + 8 3    %pi A  n0 + 16 3    %pi A ) η\n",
       "      5/2       2      7/2      2\n",
       " + 4 3    %pi n0  + 8 3    %pi A )/(144 %pi)"
      ]
     },
     "execution_count": 100,
     "metadata": {},
     "output_type": "execute_result"
    }
   ],
   "source": [
    "F_ideal = mcall(F_ideal)"
   ]
  },
  {
   "cell_type": "code",
   "execution_count": 101,
   "metadata": {
    "collapsed": false
   },
   "outputs": [
    {
     "data": {
      "text/latex": [
       " \n",
       "$$0.08333333333333333\\,{\\it n_0}^4\\,χ+3.0\\,A^2\\,{\\it n_0}^2\\,χ+4.0\\,A\n",
       " ^3\\,{\\it n_0}\\,χ+7.5\\,A^4\\,χ-0.1666666666666667\\,{\\it n_0}^3\\,η-3.0\n",
       " \\,A^2\\,{\\it n_0}\\,η-2.0\\,A^3\\,η+0.5\\,{\\it n_0}^2+3.0\\,A^2$$\n"
      ],
      "text/plain": [
       " \n",
       "                       4          2   2          3             4\n",
       " 0.08333333333333333 n0  χ + 3.0 A  n0  χ + 4.0 A  n0 χ + 7.5 A  χ\n",
       "                                3          2             3           2        2\n",
       "         - 0.1666666666666667 n0  η - 3.0 A  n0 η - 2.0 A  η + 0.5 n0  + 3.0 A"
      ]
     },
     "execution_count": 101,
     "metadata": {},
     "output_type": "execute_result"
    }
   ],
   "source": [
    "F_ideal = ratsimp(F_ideal)\n",
    "F_ideal = \"$F_ideal/(sqrt(3)/2)\" |> MExpr |> mcall\n",
    "F_ideal = ratsimp(F_ideal)\n",
    "F_ideal = float(F_ideal)\n",
    "F_ideal = expand(F_ideal)"
   ]
  },
  {
   "cell_type": "code",
   "execution_count": 102,
   "metadata": {
    "collapsed": false
   },
   "outputs": [
    {
     "data": {
      "text/plain": [
       "F_tri_ideal (generic function with 1 method)"
      ]
     },
     "execution_count": 102,
     "metadata": {},
     "output_type": "execute_result"
    }
   ],
   "source": [
    "F_id_exp = parse(F_ideal)                # Make julia expression of the ideal free energy\n",
    "@eval function F_tri_ideal(A::Float64, p::Params)\n",
    "    @unpack η, n0, χ = p\n",
    "    return $F_id_exp\n",
    "end"
   ]
  },
  {
   "cell_type": "markdown",
   "metadata": {},
   "source": [
    "# Square Ideal Free Energy\n",
    "\n",
    "Ideal free energy for the $\\gamma$ solid phase"
   ]
  },
  {
   "cell_type": "code",
   "execution_count": 103,
   "metadata": {
    "collapsed": true
   },
   "outputs": [],
   "source": [
    "f_ideal = m\"n^2/2 - η*n^3/6 + χ*n^4/12\"\n",
    "n = m\"n0 + 2*A1*n1 + 2*A2*n2\"\n",
    "f_ideal = subst(n, :n, f_ideal) |> expand\n",
    "\n",
    "n1 = m\"cos(2*%pi*x) + cos(2*%pi*y)\"\n",
    "n2 = m\"cos(%pi*(x + y)) + cos(%pi*(x-y))\"\n",
    "f_ideal = subst(n1, :n1, f_ideal)\n",
    "f_ideal = subst(n2, :n2, f_ideal);"
   ]
  },
  {
   "cell_type": "code",
   "execution_count": 104,
   "metadata": {
    "collapsed": false
   },
   "outputs": [
    {
     "data": {
      "text/latex": [
       " \n",
       "$${{\\left(3\\,\\pi\\,{\\it n_0}^4+\\left(72\\,\\pi\\,{\\it A_2}^2+72\\,\\pi\\,\n",
       " {\\it A_1}^2\\right)\\,{\\it n_0}^2+288\\,\\pi\\,{\\it A_1}\\,{\\it A_2}^2\\,\n",
       " {\\it n_0}+108\\,\\pi\\,{\\it A_2}^4+432\\,\\pi\\,{\\it A_1}^2\\,{\\it A_2}^2+\n",
       " 108\\,\\pi\\,{\\it A_1}^4\\right)\\,χ+\\left(-6\\,\\pi\\,{\\it n_0}^3+\\left(-72\n",
       " \\,\\pi\\,{\\it A_2}^2-72\\,\\pi\\,{\\it A_1}^2\\right)\\,{\\it n_0}-144\\,\\pi\\,\n",
       " {\\it A_1}\\,{\\it A_2}^2\\right)\\,η+18\\,\\pi\\,{\\it n_0}^2+72\\,\\pi\\,\n",
       " {\\it A_2}^2+72\\,\\pi\\,{\\it A_1}^2}\\over{36\\,\\pi}}$$\n"
      ],
      "text/plain": [
       " \n",
       "           4             2            2    2                2                4\n",
       " ((3 %pi n0  + (72 %pi A2  + 72 %pi A1 ) n0  + 288 %pi A1 A2  n0 + 108 %pi A2\n",
       "             2   2             4                  3\n",
       " + 432 %pi A1  A2  + 108 %pi A1 ) χ + ((- 6 %pi n0 )\n",
       "                2             2                    2               2\n",
       " + ((- 72 %pi A2 ) - 72 %pi A1 ) n0 - 144 %pi A1 A2 ) η + 18 %pi n0\n",
       "            2            2\n",
       " + 72 %pi A2  + 72 %pi A1 )/(36 %pi)"
      ]
     },
     "execution_count": 104,
     "metadata": {},
     "output_type": "execute_result"
    }
   ],
   "source": [
    "F_ideal = \"integrate(integrate($f_ideal, x, 0, 1), y, 0, 1)\" |> MExpr\n",
    "F_ideal = mcall(F_ideal)"
   ]
  },
  {
   "cell_type": "code",
   "execution_count": 105,
   "metadata": {
    "collapsed": false
   },
   "outputs": [
    {
     "data": {
      "text/latex": [
       " \n",
       "$$0.08333333333333333\\,{\\it n_0}^4\\,χ+2.0\\,{\\it A_2}^2\\,{\\it n_0}^2\\,\n",
       " χ+2.0\\,{\\it A_1}^2\\,{\\it n_0}^2\\,χ+8.0\\,{\\it A_1}\\,{\\it A_2}^2\\,\n",
       " {\\it n_0}\\,χ+3.0\\,{\\it A_2}^4\\,χ+12.0\\,{\\it A_1}^2\\,{\\it A_2}^2\\,χ+\n",
       " 3.0\\,{\\it A_1}^4\\,χ-0.1666666666666667\\,{\\it n_0}^3\\,η-2.0\\,\n",
       " {\\it A_2}^2\\,{\\it n_0}\\,η-2.0\\,{\\it A_1}^2\\,{\\it n_0}\\,η-4.0\\,\n",
       " {\\it A_1}\\,{\\it A_2}^2\\,η+0.5\\,{\\it n_0}^2+2.0\\,{\\it A_2}^2+2.0\\,\n",
       " {\\it A_1}^2$$\n"
      ],
      "text/plain": [
       " \n",
       "                       4           2   2           2   2              2\n",
       " 0.08333333333333333 n0  χ + 2.0 A2  n0  χ + 2.0 A1  n0  χ + 8.0 A1 A2  n0 χ\n",
       "         4            2   2           4                          3\n",
       " + 3.0 A2  χ + 12.0 A1  A2  χ + 3.0 A1  χ - 0.1666666666666667 n0  η\n",
       "         2              2                 2           2         2         2\n",
       " - 2.0 A2  n0 η - 2.0 A1  n0 η - 4.0 A1 A2  η + 0.5 n0  + 2.0 A2  + 2.0 A1"
      ]
     },
     "execution_count": 105,
     "metadata": {},
     "output_type": "execute_result"
    }
   ],
   "source": [
    "F_ideal = F_ideal |> ratsimp |> float |> expand "
   ]
  },
  {
   "cell_type": "code",
   "execution_count": 106,
   "metadata": {
    "collapsed": false
   },
   "outputs": [
    {
     "data": {
      "text/plain": [
       "F_sqr_ideal (generic function with 1 method)"
      ]
     },
     "execution_count": 106,
     "metadata": {},
     "output_type": "execute_result"
    }
   ],
   "source": [
    "F_id_exp = parse(F_ideal)\n",
    "@eval function F_sqr_ideal(A1::Float64, A2::Float64, p::Params)\n",
    "    @unpack η, χ, n0 = p\n",
    "    return $F_id_exp\n",
    "end"
   ]
  },
  {
   "cell_type": "markdown",
   "metadata": {},
   "source": [
    "# Excess Free Energy for all Solids\n",
    "---\n",
    "## Correlation functions\n",
    "\n",
    "There are a variety of effective pair correlation functions we can choose from. Here is one of them from the original xpfc paper"
   ]
  },
  {
   "cell_type": "code",
   "execution_count": 107,
   "metadata": {
    "collapsed": false
   },
   "outputs": [
    {
     "data": {
      "text/plain": [
       "find_k (generic function with 1 method)"
      ]
     },
     "execution_count": 107,
     "metadata": {},
     "output_type": "execute_result"
    }
   ],
   "source": [
    "# Triangle α phase!\n",
    "k₁ = 2π\n",
    "α₁ = 0.8\n",
    "β₁ = 6.0\n",
    "ρ₁ = sqrt(3)/2.0\n",
    "\n",
    "Cα(k, σ) = exp(-σ^2*k₁^2/(2*β₁*ρ₁))*exp(-(k-k₁)^2/(2*α₁^2))\n",
    "\n",
    "# Triangle β phase\n",
    "k₂ = 4π/√3\n",
    "α₂ = 0.8\n",
    "β₂ = 6.0\n",
    "ρ₂ = 1.0\n",
    "\n",
    "Cβ(k, σ) = exp(-σ^2*k₂^2/(2*β₂*ρ₂))*exp(-(k-k₂)^2/(2*α₂^2))\n",
    "\n",
    "# Square γ phase\n",
    "k1 = 2π\n",
    "k2 = √2*π\n",
    "α1 = 0.7\n",
    "α2 = 0.7\n",
    "β1 = 4.0\n",
    "β2 = 4.0\n",
    "ρ1 = 1.0\n",
    "ρ2 = √2/2\n",
    "\n",
    "Cγ(k, σ) = exp(-σ^2*k1^2/(2*β1*ρ1))*exp(-(k-k1)^2/(2*α1^2)) + exp(-σ^2*k2^2/(2*β2*ρ2))*exp(-(k-k2)^2/(2*α2^2))\n",
    "\n",
    "# Interpolation functions\n",
    "X(c) = 1.0 - 3.0*c^2 + 2.0*c^3\n",
    "Xα(c) = c < 0.5 ? X(2c) : 0.0\n",
    "Xγ(c) = c < 0.5 ? X(2*(1-c)-1) : X(2c-1)\n",
    "Xβ(c) = c < 0.5 ? 0.0 : X(2*(1-c))\n",
    "\n",
    "C_eff(k::Float64, c::Float64, σ::Float64) = Xα(c)*Cα(k, σ) + Xγ(c)*Cγ(k, σ) + Xβ(c)*Cβ(k, σ) \n",
    "\n",
    "function find_k(c, T)\n",
    "    sol = optimize(k -> -C_eff(k, c, T), 2π, 4π/√3)\n",
    "    k₀ = float(sol.minimum)\n",
    "    return k₀\n",
    "end"
   ]
  },
  {
   "cell_type": "code",
   "execution_count": 108,
   "metadata": {
    "collapsed": false
   },
   "outputs": [
    {
     "data": {
      "text/html": [],
      "text/plain": [
       "Interact.Slider{Float64}(Signal{Float64}(0.5, nactions=0),\"c\",0.5,0.0:0.01:1.0,true)"
      ]
     },
     "metadata": {},
     "output_type": "display_data"
    },
    {
     "data": {
      "text/html": [],
      "text/plain": [
       "Interact.Slider{Float64}(Signal{Float64}(0.5, nactions=0),\"T\",0.5,0.0:0.01:1.0,true)"
      ]
     },
     "metadata": {},
     "output_type": "display_data"
    },
    {
     "data": {
      "image/png": "[encoded data removed]",
      "text/plain": [
       "PyPlot.Figure(PyObject <matplotlib.figure.Figure object at 0x7f65222cb750>)"
      ]
     },
     "execution_count": 108,
     "metadata": {
      "comm_id": "4e776daa-4704-428d-baaa-24578fe841ac",
      "reactive": true
     },
     "output_type": "execute_result"
    }
   ],
   "source": [
    "let\n",
    "    N = 400\n",
    "    k = linspace(0.0, 10.0, N)\n",
    "    CC = Array(Float64, N)\n",
    "    f = figure(figsize=[6, 3])\n",
    "    @manipulate for c in 0.0:0.01:1.0, T in 0.0:0.01:1.0\n",
    "        withfig(f) do\n",
    "            for i in 1:N\n",
    "                CC[i] = C_eff(k[i], c, T)\n",
    "            end\n",
    "            kmax = find_k(c, T)\n",
    "            plot(k, CC)\n",
    "            vlines(kmax, 0.0, 1.0)\n",
    "            xlim(0, 10)\n",
    "            ylim(0, 1.1)\n",
    "            xlabel(\"Wavenumber k\")\n",
    "            ylabel(L\"$C_{eff}(k)$\")\n",
    "        end \n",
    "    end\n",
    "end"
   ]
  },
  {
   "cell_type": "markdown",
   "metadata": {},
   "source": [
    "## Excess Free Energy\n",
    "\n",
    "The excess free energy term in the binary phase field crystal model is the form\n",
    "\n",
    "$$\n",
    "\\mathcal{F}_{ex}[n, c] = -\\frac{1}{2 V_{cell}}\\int_{cell} dr \\int dr^\\prime n(r) C_{eff}(r, r^\\prime; c) n(r^\\prime)\n",
    "$$\n",
    "\n",
    "Most of the modes in the amplitude expansion cancel out but we're left with the following at the end of the day:\n",
    "\n",
    "$$\n",
    "\\mathcal{F}_{ex}[n, c] = -\\frac{1}{2 V_{cell}}(n_0^2 C_{eff}(k=0, c) + 6 A_1^2 C_{eff}(k=k_1, c) + 6 A_2^2 C_{eff}(k=k_2, c))\n",
    "$$"
   ]
  },
  {
   "cell_type": "code",
   "execution_count": 109,
   "metadata": {
    "collapsed": false
   },
   "outputs": [
    {
     "data": {
      "text/plain": [
       "F_ex_γ (generic function with 1 method)"
      ]
     },
     "execution_count": 109,
     "metadata": {},
     "output_type": "execute_result"
    }
   ],
   "source": [
    "function F_ex_α(c, T, A)\n",
    "    return -3.0*A^2*C_eff(k₁, c, T)\n",
    "end\n",
    "\n",
    "function F_ex_β(c, T, A)\n",
    "    return -3.0*A^2*C_eff(k₂, c, T)\n",
    "end\n",
    "\n",
    "function F_ex_γ(c, T, A1, A2)\n",
    "    return -2.0*A1^2*C_eff(k1, c, T) - 2.0*A2^2*C_eff(k2, c, T)\n",
    "end"
   ]
  },
  {
   "cell_type": "code",
   "execution_count": 110,
   "metadata": {
    "collapsed": false
   },
   "outputs": [
    {
     "data": {
      "text/html": [],
      "text/plain": [
       "Interact.Slider{Float64}(Signal{Float64}(0.491, nactions=0),\"c\",0.491,0.001:0.01:0.991,true)"
      ]
     },
     "metadata": {},
     "output_type": "display_data"
    },
    {
     "data": {
      "text/html": [],
      "text/plain": [
       "Interact.Slider{Float64}(Signal{Float64}(0.25, nactions=0),\"T\",0.25,0.0:0.01:0.5,true)"
      ]
     },
     "metadata": {},
     "output_type": "display_data"
    },
    {
     "data": {
      "image/png": "[encoded data removed]",
      "text/plain": [
       "PyPlot.Figure(PyObject <matplotlib.figure.Figure object at 0x7f6524aea450>)"
      ]
     },
     "execution_count": 110,
     "metadata": {
      "comm_id": "0b59834c-bd5b-4947-8265-c817d68bdced",
      "reactive": true
     },
     "output_type": "execute_result"
    }
   ],
   "source": [
    "let\n",
    "    N = 1000\n",
    "    A = linspace(-2.0, 2.0, N)\n",
    "    fα = Array(Float64, N)\n",
    "    fβ = Array(Float64, N)\n",
    "    fγ = Array(Float64, N)\n",
    "    f = figure(figsize=(6, 3))\n",
    "    @manipulate for c in 0.001:0.01:0.999, T in 0.0:0.01:0.5\n",
    "        withfig(f) do\n",
    "            for i in 1:N\n",
    "                fα[i] = F_ex_α(c, T, A[i]) + F_tri_ideal(A[i], ex_p) + F_mix(T, c, ex_p)\n",
    "                fβ[i] = F_ex_β(c, T, A[i]) + F_tri_ideal(A[i], ex_p) + F_mix(T, c, ex_p)\n",
    "            end\n",
    "            plot(A, fα)\n",
    "            plot(A, fβ)\n",
    "            ylim(-0.01,0.03)\n",
    "            xlim(-0.2, 0.5)\n",
    "            xlabel(\"Amplitude A\")\n",
    "            ylabel(L\"F(A)\")\n",
    "        end\n",
    "    end\n",
    "end"
   ]
  },
  {
   "cell_type": "markdown",
   "metadata": {},
   "source": [
    "## Total free energy\n",
    "\n",
    "The total free energy is sum of all the above terms"
   ]
  },
  {
   "cell_type": "code",
   "execution_count": 114,
   "metadata": {
    "collapsed": false
   },
   "outputs": [
    {
     "data": {
      "text/plain": [
       "F_liq (generic function with 3 methods)"
      ]
     },
     "execution_count": 114,
     "metadata": {},
     "output_type": "execute_result"
    }
   ],
   "source": [
    "F_α(c, σ, A, p) = F_mix(σ, c, p) + F_tri_ideal(A, p) + F_ex_α(c, σ, A)\n",
    "F_β(c, σ, A, p) = F_mix(σ, c, p) + F_tri_ideal(A, p) + F_ex_β(c, σ, A)\n",
    "F_γ(c, σ, A1, A2, p) = F_mix(σ, c, p) + F_sqr_ideal(A1, A2, p) + F_ex_γ(c, σ, A1, A2)\n",
    "\n",
    "function F_α(c, σ, p)\n",
    "    if c < 0.3\n",
    "        sol = optimize(A -> F_α(c, σ, A, p), 0.0, 10.0)\n",
    "        return sol.f_minimum\n",
    "    else\n",
    "        return F_α(c, σ, 0.0, p)\n",
    "    end\n",
    "end\n",
    "\n",
    "function F_β(c, σ, p)\n",
    "    sol = optimize(A -> F_β(c, σ, A, p), 0.0, 10.0)\n",
    "    return sol.f_minimum\n",
    "end\n",
    "\n",
    "function F_γ(c, σ, p)\n",
    "    sol = optimize(A -> F_γ(c, σ, A[1], A[2], p), [0.3, 0.3])\n",
    "    return sol.f_minimum\n",
    "end\n",
    "\n",
    "F_α(c, σ) = F_α(c, σ, ex_p)\n",
    "F_β(c, σ) = F_β(c, σ, ex_p)\n",
    "F_γ(c, σ) = F_γ(c, σ, ex_p)\n",
    "F_liq(σ, c) = F_liq(σ, c, ex_p)"
   ]
  },
  {
   "cell_type": "code",
   "execution_count": 115,
   "metadata": {
    "collapsed": false
   },
   "outputs": [
    {
     "data": {
      "text/html": [],
      "text/plain": [
       "Interact.Slider{Float64}(Signal{Float64}(0.25, nactions=0),\"T\",0.25,0.0:0.01:0.5,true)"
      ]
     },
     "metadata": {},
     "output_type": "display_data"
    },
    {
     "data": {
      "image/png": "[encoded data removed]",
      "text/plain": [
       "PyPlot.Figure(PyObject <matplotlib.figure.Figure object at 0x7f65220e4850>)"
      ]
     },
     "execution_count": 115,
     "metadata": {
      "comm_id": "35345fa3-1559-429c-8474-99460df3fce2",
      "reactive": true
     },
     "output_type": "execute_result"
    }
   ],
   "source": [
    "let\n",
    "    N = 200\n",
    "    c = linspace(0.001, 0.999, N)\n",
    "    f_l = Array(Float64, N)\n",
    "    f_γ = Array(Float64, N)\n",
    "    f_α = Array(Float64, N)\n",
    "    f_β = Array(Float64, N)\n",
    "    f = figure(figsize=[6, 3])\n",
    "    @manipulate for T in 0.0:0.01:0.5\n",
    "        withfig(f) do\n",
    "            for i in 1:N\n",
    "                f_l[i] = F_liq(T, c[i])\n",
    "                f_γ[i] = F_γ(c[i], T)\n",
    "                f_α[i] = F_α(c[i], T)\n",
    "                f_β[i] = F_β(c[i], T)\n",
    "            end\n",
    "            plot(c, min(f_l, f_α, f_β, f_γ))\n",
    "            #plot(c, f_α)\n",
    "            #plot(c, f_β)\n",
    "            #plot(c, f_γ)\n",
    "            xlim(0, 1)\n",
    "            xlabel(\"Concentration\")\n",
    "            ylabel(L\"F(c, T)\")\n",
    "        end\n",
    "    end\n",
    "end"
   ]
  },
  {
   "cell_type": "code",
   "execution_count": 116,
   "metadata": {
    "collapsed": false
   },
   "outputs": [
    {
     "data": {
      "text/plain": [
       "make_phase_diagram (generic function with 1 method)"
      ]
     },
     "execution_count": 116,
     "metadata": {},
     "output_type": "execute_result"
    }
   ],
   "source": [
    "function make_phase_diagram(crnge, Trnge)\n",
    "    T_vals = Float64[] \n",
    "    c_vals = Float64[]\n",
    "    \n",
    "    c = collect(crnge)\n",
    "    T = collect(Trnge)\n",
    "    \n",
    "    f_l = Array(Float64, length(c))\n",
    "    f_α = Array(Float64, length(c))\n",
    "    f_β = Array(Float64, length(c))\n",
    "    f_γ = Array(Float64, length(c))\n",
    "    f_tot = Array(Float64, length(c))\n",
    "    \n",
    "    for t in 1:length(T)\n",
    "        for i in 1:length(c)\n",
    "            f_l[i] = F_liq(T[t], c[i])\n",
    "            f_α[i] = F_α(c[i], T[t])\n",
    "            f_β[i] = F_β(c[i], T[t])\n",
    "            f_γ[i] = F_γ(c[i], T[t])\n",
    "        end\n",
    "        f_tot[:] = min(f_l, f_α, f_β, f_γ)\n",
    "        arr = commontangent(f_tot)\n",
    "        for domain in arr\n",
    "            for point in domain\n",
    "                push!(T_vals, T[t])\n",
    "                push!(c_vals, c[point])\n",
    "            end\n",
    "        end\n",
    "    end\n",
    "    return T_vals, c_vals\n",
    "end"
   ]
  },
  {
   "cell_type": "code",
   "execution_count": 117,
   "metadata": {
    "collapsed": false
   },
   "outputs": [
    {
     "data": {
      "text/plain": [
       "([0.0,0.0,0.005,0.005,0.01,0.01,0.015,0.015,0.02,0.02  …  0.33,0.33,0.33,0.33,0.335,0.335,0.335,0.335,0.34,0.34],[0.001,0.991,0.001,0.991,0.001,0.991,0.001,0.991,0.001,0.991  …  0.171,0.491,0.501,0.831,0.201,0.491,0.501,0.791,0.381,0.621])"
      ]
     },
     "execution_count": 117,
     "metadata": {},
     "output_type": "execute_result"
    }
   ],
   "source": [
    "crnge = 0.001:0.01:0.999\n",
    "Trnge = 0.00:0.005:0.35\n",
    "\n",
    "T_vals, c_vals = make_phase_diagram(crnge, Trnge)"
   ]
  },
  {
   "cell_type": "code",
   "execution_count": 25,
   "metadata": {
    "collapsed": false
   },
   "outputs": [],
   "source": [
    "f = figure()\n",
    "withfig(f) do\n",
    "    scatter(c_vals, T_vals, c=\"k\")\n",
    "    grid(false)\n",
    "    xlim(0, 1)\n",
    "    ylim(0.00, 0.40)\n",
    "    xlabel(L\"Concentration $(c)$\")\n",
    "    ylabel(L\"Temperature $(T)$\")\n",
    "    title(\"Syntectic Phase Diagram\")\n",
    "end\n",
    "\n",
    "savefig(\"Sytectic Phase Diagram.svg\")"
   ]
  },
  {
   "cell_type": "code",
   "execution_count": 118,
   "metadata": {
    "collapsed": false
   },
   "outputs": [
    {
     "data": {
      "image/png": "[encoded data removed]",
      "text/plain": [
       "PyPlot.Figure(PyObject <matplotlib.figure.Figure object at 0x7f651f7de350>)"
      ]
     },
     "metadata": {},
     "output_type": "display_data"
    }
   ],
   "source": [
    "scatter(c_vals, T_vals, c=\"k\")\n",
    "xlim(0, 1)\n",
    "grid(false)"
   ]
  },
  {
   "cell_type": "code",
   "execution_count": null,
   "metadata": {
    "collapsed": true
   },
   "outputs": [],
   "source": []
  }
 ],
 "metadata": {
  "anaconda-cloud": {},
  "kernelspec": {
   "display_name": "Julia 0.4.7",
   "language": "julia",
   "name": "julia-0.4"
  },
  "language_info": {
   "file_extension": ".jl",
   "mimetype": "application/julia",
   "name": "julia",
   "version": "0.4.7"
  },
  "widgets": {
   "state": {
    "7e9e167b-5453-41c5-877a-b5092710ca1c": {
     "views": [
      {
       "cell_index": 5
      }
     ]
    }
   },
   "version": "1.2.0"
  }
 },
 "nbformat": 4,
 "nbformat_minor": 0
}
