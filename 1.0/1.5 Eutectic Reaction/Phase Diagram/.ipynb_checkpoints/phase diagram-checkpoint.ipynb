{
 "cells": [
  {
   "cell_type": "markdown",
   "metadata": {},
   "source": [
    "# Phase Diagram for the Eutectic System\n",
    "\n",
    "Here we develop a free energy functional and phase diagram for a system with a eutectic reaction $l \\rightarrow \\alpha + \\beta$. The idea here is just to show that eutectic can still be done with this new model."
   ]
  },
  {
   "cell_type": "markdown",
   "metadata": {},
   "source": [
    "## Ideal Free Energy\n",
    "\n",
    "---\n",
    "\n",
    "The ideal free energy per unit area is of the following form\n",
    "\n",
    "$$\n",
    "\\mathcal{F}_{id}[n] = \\frac{1}{V_{cell}}\\int_{cell} \n",
    "\\frac{1}{2}n(x,y)^2 - \\frac{\\eta}{6} n(x,y)^3 + \\frac{\\chi}{12} n(x,y)^4\n",
    "$$\n",
    "\n",
    "To compute the phase diagram we use a variational method where we expand the reduced density, $n$, in the most general fourier series that is consistent with the symmetry of the bravais lattice.\n",
    "\n",
    "$$\n",
    "n(x,y) = n_0 + A_1 n_1(x,y) + A_2 n_2(x,y) + ...\n",
    "$$\n",
    "\n",
    "We then expand out the ansatz and compute each integral over the unit-cell numerically to find the amplitude equation for the ideal free energy"
   ]
  },
  {
   "cell_type": "code",
   "execution_count": 1,
   "metadata": {
    "collapsed": false
   },
   "outputs": [
    {
     "data": {
      "text/html": [
       "<div id=\"interact-js-shim\">\n",
       "    <script charset=\"utf-8\">\n",
       "(function (IPython, $, _, MathJax) {\n",
       "    $.event.special.destroyed = {\n",
       "\tremove: function(o) {\n",
       "\t    if (o.handler) {\n",
       "\t\to.handler.apply(this, arguments)\n",
       "\t    }\n",
       "\t}\n",
       "    }\n",
       "\n",
       "    var OutputArea = IPython.version >= \"4.0.0\" ? require(\"notebook/js/outputarea\").OutputArea : IPython.OutputArea;\n",
       "\n",
       "    var redrawValue = function (container, type, val) {\n",
       "\tvar selector = $(\"<div/>\");\n",
       "\tvar oa = new OutputArea(_.extend(selector, {\n",
       "\t    selector: selector,\n",
       "\t    prompt_area: true,\n",
       "\t    events: IPython.events,\n",
       "\t    keyboard_manager: IPython.keyboard_manager\n",
       "\t})); // Hack to work with IPython 2.1.0\n",
       "\n",
       "\tswitch (type) {\n",
       "\tcase \"image/png\":\n",
       "            var _src = 'data:' + type + ';base64,' + val;\n",
       "\t    $(container).find(\"img\").attr('src', _src);\n",
       "\t    break;\n",
       "\tcase \"text/latex\":\n",
       "\t\tif (MathJax){\n",
       "\t\t\tvar math = MathJax.Hub.getAllJax(container)[0];\n",
       "\t\t\tMathJax.Hub.Queue([\"Text\", math, val.replace(/^\\${1,2}|\\${1,2}$/g, '')]);\n",
       "\t\t\tbreak;\n",
       "\t\t}\n",
       "\tdefault:\n",
       "\t    var toinsert = OutputArea.append_map[type].apply(\n",
       "\t\toa, [val, {}, selector]\n",
       "\t    );\n",
       "\t    $(container).empty().append(toinsert.contents());\n",
       "\t    selector.remove();\n",
       "\t}\n",
       "    }\n",
       "\n",
       "\n",
       "    $(document).ready(function() {\n",
       "\tfunction initComm(evt, data) {\n",
       "\t    var comm_manager = data.kernel.comm_manager;\n",
       "        //_.extend(comm_manager.targets, require(\"widgets/js/widget\"))\n",
       "\t    comm_manager.register_target(\"Signal\", function (comm) {\n",
       "            comm.on_msg(function (msg) {\n",
       "                var val = msg.content.data.value;\n",
       "                $(\".signal-\" + comm.comm_id).each(function() {\n",
       "                var type = $(this).data(\"type\");\n",
       "                if (typeof(val[type]) !== \"undefined\" && val[type] !== null) {\n",
       "                    redrawValue(this, type, val[type], type);\n",
       "                }\n",
       "                });\n",
       "                delete val;\n",
       "                delete msg.content.data.value;\n",
       "            });\n",
       "\t    });\n",
       "\n",
       "\t    // coordingate with Comm and redraw Signals\n",
       "\t    // XXX: Test using Reactive here to improve performance\n",
       "\t    $([IPython.events]).on(\n",
       "\t\t'output_appended.OutputArea', function (event, type, value, md, toinsert) {\n",
       "\t\t    if (md && md.reactive) {\n",
       "                // console.log(md.comm_id);\n",
       "                toinsert.addClass(\"signal-\" + md.comm_id);\n",
       "                toinsert.data(\"type\", type);\n",
       "                // Signal back indicating the mimetype required\n",
       "                var comm_manager = IPython.notebook.kernel.comm_manager;\n",
       "                var comm = comm_manager.comms[md.comm_id];\n",
       "                comm.then(function (c) {\n",
       "                    c.send({action: \"subscribe_mime\",\n",
       "                       mime: type});\n",
       "                    toinsert.bind(\"destroyed\", function() {\n",
       "                        c.send({action: \"unsubscribe_mime\",\n",
       "                               mime: type});\n",
       "                    });\n",
       "                })\n",
       "\t\t    }\n",
       "\t    });\n",
       "\t}\n",
       "\n",
       "\ttry {\n",
       "\t    // try to initialize right away. otherwise, wait on the status_started event.\n",
       "\t    initComm(undefined, IPython.notebook);\n",
       "\t} catch (e) {\n",
       "\t    $([IPython.events]).on('kernel_created.Kernel kernel_created.Session', initComm);\n",
       "\t}\n",
       "    });\n",
       "})(IPython, jQuery, _, MathJax);\n",
       "</script>\n",
       "    <script>\n",
       "        window.interactLoadedFlag = true\n",
       "       $(\"#interact-js-shim\").bind(\"destroyed\", function () {\n",
       "           if (window.interactLoadedFlag) {\n",
       "               console.warn(\"JavaScript required by Interact will be removed if you remove this cell or run using Interact more than once.\")\n",
       "           }\n",
       "       })\n",
       "       $([IPython.events]).on(\"kernel_starting.Kernel kernel_restarting.Kernel\", function () { window.interactLoadedFlag = false })\n",
       "   </script>\n",
       "</div>"
      ]
     },
     "metadata": {},
     "output_type": "display_data"
    }
   ],
   "source": [
    "using PyPlot\n",
    "using Interact\n",
    "using Maxima\n",
    "using Optim\n",
    "using PhaseDiagrams"
   ]
  },
  {
   "cell_type": "code",
   "execution_count": 2,
   "metadata": {
    "collapsed": false
   },
   "outputs": [
    {
     "data": {
      "text/latex": [
       " \n",
       "$${{n^4\\,χ}\\over{12}}-{{n^3\\,η}\\over{6}}+{{n^2}\\over{2}}$$\n"
      ],
      "text/plain": [
       " \n",
       "                                4      3      2\n",
       "                               n  χ   n  η   n\n",
       "                               ---- - ---- + --\n",
       "                                12     6     2"
      ]
     },
     "execution_count": 2,
     "metadata": {},
     "output_type": "execute_result"
    }
   ],
   "source": [
    "f_ideal = m\"n^2/2 - η*n^3/6 + χ*n^4/12\""
   ]
  },
  {
   "cell_type": "code",
   "execution_count": 3,
   "metadata": {
    "collapsed": false
   },
   "outputs": [
    {
     "data": {
      "text/latex": [
       " \n",
       "$${{\\left(2\\,A\\,{\\it n_1}+{\\it n_0}\\right)^4\\,χ}\\over{12}}-{{\\left(2\n",
       " \\,A\\,{\\it n_1}+{\\it n_0}\\right)^3\\,η}\\over{6}}+{{\\left(2\\,A\\,\n",
       " {\\it n_1}+{\\it n_0}\\right)^2}\\over{2}}$$\n"
      ],
      "text/plain": [
       " \n",
       "                          4                  3                  2\n",
       "             (2 A n1 + n0)  χ   (2 A n1 + n0)  η   (2 A n1 + n0)\n",
       "             ---------------- - ---------------- + --------------\n",
       "                    12                 6                 2"
      ]
     },
     "execution_count": 3,
     "metadata": {},
     "output_type": "execute_result"
    }
   ],
   "source": [
    "n = m\"n0 + 2*A*n1\"            # + A[2]*n2\"\n",
    "\n",
    "f_ideal = subst(n, :n, f_ideal)"
   ]
  },
  {
   "cell_type": "code",
   "execution_count": 4,
   "metadata": {
    "collapsed": false
   },
   "outputs": [
    {
     "data": {
      "text/latex": [
       " \n",
       "$${{4\\,A^4\\,{\\it n_1}^4\\,χ}\\over{3}}+{{8\\,A^3\\,{\\it n_0}\\,{\\it n_1}^3\n",
       " \\,χ}\\over{3}}+2\\,A^2\\,{\\it n_0}^2\\,{\\it n_1}^2\\,χ+{{2\\,A\\,{\\it n_0}^\n",
       " 3\\,{\\it n_1}\\,χ}\\over{3}}+{{{\\it n_0}^4\\,χ}\\over{12}}-{{4\\,A^3\\,\n",
       " {\\it n_1}^3\\,η}\\over{3}}-2\\,A^2\\,{\\it n_0}\\,{\\it n_1}^2\\,η-A\\,\n",
       " {\\it n_0}^2\\,{\\it n_1}\\,η-{{{\\it n_0}^3\\,η}\\over{6}}+2\\,A^2\\,\n",
       " {\\it n_1}^2+2\\,A\\,{\\it n_0}\\,{\\it n_1}+{{{\\it n_0}^2}\\over{2}}$$\n"
      ],
      "text/plain": [
       " \n",
       "    4   4        3      3                            3          4\n",
       " 4 A  n1  χ   8 A  n0 n1  χ      2   2   2     2 A n0  n1 χ   n0  χ\n",
       " ---------- + ------------- + 2 A  n0  n1  χ + ------------ + -----\n",
       "     3              3                               3          12\n",
       "      3   3                                    3                              2\n",
       "   4 A  n1  η      2      2         2        n0  η      2   2               n0\n",
       " - ---------- - 2 A  n0 n1  η - A n0  n1 η - ----- + 2 A  n1  + 2 A n0 n1 + ---\n",
       "       3                                       6                             2"
      ]
     },
     "execution_count": 4,
     "metadata": {},
     "output_type": "execute_result"
    }
   ],
   "source": [
    "f_ideal = expand(f_ideal)"
   ]
  },
  {
   "cell_type": "code",
   "execution_count": 5,
   "metadata": {
    "collapsed": false
   },
   "outputs": [],
   "source": [
    "n1 = m\"cos(4*%pi/sqrt(3)*(sqrt(3)*x/2 - y/2)) + \n",
    "       cos(4*%pi/sqrt(3)*(sqrt(3)*x/2 + y/2)) + \n",
    "       cos(4*%pi/sqrt(3)*y)\"\n",
    "\n",
    "n2 = m\"cos(4*%pi*x) +\n",
    "       cos(4*%pi*(x/2 + sqrt(3)*y/2)) + \n",
    "       cos(4*%pi*(-x/2 + sqrt(3)*y/2))\"\n",
    "\n",
    "f_ideal = subst(n1, :n1, f_ideal)\n",
    "#f_ideal = subst(n2, :n2, f_ideal);"
   ]
  },
  {
   "cell_type": "code",
   "execution_count": 6,
   "metadata": {
    "collapsed": false
   },
   "outputs": [],
   "source": [
    "F_ideal = \"integrate(integrate($f_ideal, x, 0, 1), y, 0, sqrt(3)/2)\" |> MExpr;"
   ]
  },
  {
   "cell_type": "code",
   "execution_count": 7,
   "metadata": {
    "collapsed": false
   },
   "outputs": [
    {
     "data": {
      "text/latex": [
       " \n",
       "$${{-\\left(-2\\,3^{{{3}\\over{2}}}\\,\\pi\\,{\\it n_0}^4-8\\,3^{{{7}\\over{2\n",
       " }}}\\,\\pi\\,A^2\\,{\\it n_0}^2-32\\,3^{{{5}\\over{2}}}\\,\\pi\\,A^3\\,\n",
       " {\\it n_0}-20\\,3^{{{7}\\over{2}}}\\,\\pi\\,A^4\\right)\\,χ-\\left(4\\,3^{{{3\n",
       " }\\over{2}}}\\,\\pi\\,{\\it n_0}^3+8\\,3^{{{7}\\over{2}}}\\,\\pi\\,A^2\\,\n",
       " {\\it n_0}+16\\,3^{{{5}\\over{2}}}\\,\\pi\\,A^3\\right)\\,η+4\\,3^{{{5}\\over{\n",
       " 2}}}\\,\\pi\\,{\\it n_0}^2+8\\,3^{{{7}\\over{2}}}\\,\\pi\\,A^2}\\over{144\\,\\pi\n",
       " }}$$\n"
      ],
      "text/plain": [
       " \n",
       "            3/2       4       7/2      2   2       5/2      3\n",
       " ((- ((- 2 3    %pi n0 ) - 8 3    %pi A  n0  - 32 3    %pi A  n0\n",
       "       7/2      4           3/2       3      7/2      2          5/2      3\n",
       " - 20 3    %pi A ) χ) - (4 3    %pi n0  + 8 3    %pi A  n0 + 16 3    %pi A ) η\n",
       "      5/2       2      7/2      2\n",
       " + 4 3    %pi n0  + 8 3    %pi A )/(144 %pi)"
      ]
     },
     "execution_count": 7,
     "metadata": {},
     "output_type": "execute_result"
    }
   ],
   "source": [
    "F_ideal = mcall(F_ideal)"
   ]
  },
  {
   "cell_type": "code",
   "execution_count": 8,
   "metadata": {
    "collapsed": false
   },
   "outputs": [
    {
     "data": {
      "text/latex": [
       " \n",
       "$$0.08333333333333333\\,{\\it n_0}^4\\,χ+3.0\\,A^2\\,{\\it n_0}^2\\,χ+4.0\\,A\n",
       " ^3\\,{\\it n_0}\\,χ+7.5\\,A^4\\,χ-0.1666666666666667\\,{\\it n_0}^3\\,η-3.0\n",
       " \\,A^2\\,{\\it n_0}\\,η-2.0\\,A^3\\,η+0.5\\,{\\it n_0}^2+3.0\\,A^2$$\n"
      ],
      "text/plain": [
       " \n",
       "                       4          2   2          3             4\n",
       " 0.08333333333333333 n0  χ + 3.0 A  n0  χ + 4.0 A  n0 χ + 7.5 A  χ\n",
       "                                3          2             3           2        2\n",
       "         - 0.1666666666666667 n0  η - 3.0 A  n0 η - 2.0 A  η + 0.5 n0  + 3.0 A"
      ]
     },
     "execution_count": 8,
     "metadata": {},
     "output_type": "execute_result"
    }
   ],
   "source": [
    "F_ideal = ratsimp(F_ideal)\n",
    "F_ideal = \"$F_ideal/(sqrt(3)/2)\" |> MExpr |> mcall\n",
    "F_ideal = ratsimp(F_ideal)\n",
    "F_ideal = float(F_ideal)\n",
    "F_ideal = expand(F_ideal)"
   ]
  },
  {
   "cell_type": "code",
   "execution_count": 9,
   "metadata": {
    "collapsed": false
   },
   "outputs": [
    {
     "data": {
      "text/plain": [
       "F_id (generic function with 1 method)"
      ]
     },
     "execution_count": 9,
     "metadata": {},
     "output_type": "execute_result"
    }
   ],
   "source": [
    "F_id_exp = parse(F_ideal)                # Make julia expression of the ideal free energy\n",
    "@eval F_id(η, χ, n0, A) = $F_id_exp     # Make julia function from the expression"
   ]
  },
  {
   "cell_type": "code",
   "execution_count": 10,
   "metadata": {
    "collapsed": false
   },
   "outputs": [
    {
     "data": {
      "text/html": [],
      "text/plain": [
       "Interact.Options{:SelectionSlider,Float64}(Signal{Float64}(1.4, nactions=1),\"η\",1.4,\"1.4\",Interact.OptionDict(DataStructures.OrderedDict(\"1.0\"=>1.0,\"1.1\"=>1.1,\"1.2\"=>1.2,\"1.3\"=>1.3,\"1.4\"=>1.4,\"1.5\"=>1.5,\"1.6\"=>1.6,\"1.7\"=>1.7,\"1.8\"=>1.8),Dict(1.4=>\"1.4\",1.2=>\"1.2\",1.1=>\"1.1\",1.3=>\"1.3\",1.5=>\"1.5\",1.6=>\"1.6\",1.8=>\"1.8\",1.7=>\"1.7\",1.0=>\"1.0\")),Any[],Any[],true,\"horizontal\")"
      ]
     },
     "metadata": {},
     "output_type": "display_data"
    },
    {
     "data": {
      "text/html": [],
      "text/plain": [
       "Interact.Options{:SelectionSlider,Float64}(Signal{Float64}(0.1, nactions=1),\"n0\",0.1,\"0.1\",Interact.OptionDict(DataStructures.OrderedDict(\"0.0\"=>0.0,\"0.01\"=>0.01,\"0.02\"=>0.02,\"0.03\"=>0.03,\"0.04\"=>0.04,\"0.05\"=>0.05,\"0.06\"=>0.06,\"0.07\"=>0.07,\"0.08\"=>0.08,\"0.09\"=>0.09…),Dict(0.04=>\"0.04\",0.16=>\"0.16\",0.09=>\"0.09\",0.08=>\"0.08\",0.0=>\"0.0\",0.15=>\"0.15\",0.01=>\"0.01\",0.2=>\"0.2\",0.07=>\"0.07\",0.06=>\"0.06\"…)),Any[],Any[],true,\"horizontal\")"
      ]
     },
     "metadata": {},
     "output_type": "display_data"
    },
    {
     "data": {
      "image/png": "[encoded data removed]",
      "text/plain": [
       "PyPlot.Figure(PyObject <matplotlib.figure.Figure object at 0x7fcf2773f650>)"
      ]
     },
     "execution_count": 10,
     "metadata": {
      "comm_id": "5d64beb3-ba81-497a-ba35-11168ebfcdc2",
      "reactive": true
     },
     "output_type": "execute_result"
    }
   ],
   "source": [
    "let\n",
    "    A = linspace(0.0, 4.0, 1000)\n",
    "    ff = Array(Float64, 1000)\n",
    "    f = figure(figsize=(6, 3))\n",
    "\n",
    "    @manipulate for η in 1.0:0.1:1.8, n0 in 0.0:0.01:0.2\n",
    "        withfig(f) do\n",
    "            for i in 1:1000\n",
    "                ff[i] = F_id(η, 1.0, n0, A[i])\n",
    "            end\n",
    "            plot(A, ff)\n",
    "            ylim(0, 100)\n",
    "            xlabel(\"Amplitude A\")\n",
    "            ylabel(L\"F_{ideal}(A)\")\n",
    "        end\n",
    "    end\n",
    "end"
   ]
  },
  {
   "cell_type": "markdown",
   "metadata": {},
   "source": [
    "## Free Energy of Mixing\n",
    "\n",
    "The free energy of mixing is of the following form:\n",
    "\n",
    "$$\n",
    "    \\mathcal{F}_{mix}[c] = \\frac{1}{V_{cell}}\\int_{cell} \n",
    "    (1 + n_0)\\left(c \\log\\left(\\frac{c}{c_0}\\right) + \n",
    "    (1-c) \\log\\left(\\frac{1-c}{1-c_0}\\right)\\right) + \\frac{\\epsilon(T)}{2}(c-c_0)^2\n",
    "$$\n",
    "\n",
    "In equilibrium we can assume that the concentration is constant so the integral just cancels the factor of the volume of the unit cell. The term $\\epsilon(T)$ is the enthaply of mixing term which we model as, \n",
    "\n",
    "$$\n",
    "\\epsilon(T) = -4 + \\epsilon_0 (T - T_0),\n",
    "$$\n",
    "\n",
    "where $T_0$ is the spinodal temperature of the liquid"
   ]
  },
  {
   "cell_type": "code",
   "execution_count": 11,
   "metadata": {
    "collapsed": false
   },
   "outputs": [
    {
     "data": {
      "text/plain": [
       "F_mix (generic function with 1 method)"
      ]
     },
     "execution_count": 11,
     "metadata": {},
     "output_type": "execute_result"
    }
   ],
   "source": [
    " F_mix(c, T, n₀, ϵ₀, T₀, ω, c₀) = ω*((1+n₀)*(c*log(c/c₀) + (1-c)*log((1-c)/(1-c₀))) + (-4.0 + ϵ₀*(T-T₀))/2*(c-c₀)^2)"
   ]
  },
  {
   "cell_type": "code",
   "execution_count": 12,
   "metadata": {
    "collapsed": false
   },
   "outputs": [
    {
     "data": {
      "text/html": [],
      "text/plain": [
       "Interact.Options{:SelectionSlider,Float64}(Signal{Float64}(0.2, nactions=1),\"ω\",0.2,\"0.2\",Interact.OptionDict(DataStructures.OrderedDict(\"0.0\"=>0.0,\"0.01\"=>0.01,\"0.02\"=>0.02,\"0.03\"=>0.03,\"0.04\"=>0.04,\"0.05\"=>0.05,\"0.06\"=>0.06,\"0.07\"=>0.07,\"0.08\"=>0.08,\"0.09\"=>0.09…),Dict(0.3=>\"0.3\",0.04=>\"0.04\",0.32=>\"0.32\",0.26=>\"0.26\",0.16=>\"0.16\",0.09=>\"0.09\",0.08=>\"0.08\",0.25=>\"0.25\",0.35=>\"0.35\",0.0=>\"0.0\"…)),Any[],Any[],true,\"horizontal\")"
      ]
     },
     "metadata": {},
     "output_type": "display_data"
    },
    {
     "data": {
      "text/html": [],
      "text/plain": [
       "Interact.Options{:SelectionSlider,Float64}(Signal{Float64}(0.3, nactions=1),\"T\",0.3,\"0.3\",Interact.OptionDict(DataStructures.OrderedDict(\"0.0\"=>0.0,\"0.01\"=>0.01,\"0.02\"=>0.02,\"0.03\"=>0.03,\"0.04\"=>0.04,\"0.05\"=>0.05,\"0.06\"=>0.06,\"0.07\"=>0.07,\"0.08\"=>0.08,\"0.09\"=>0.09…),Dict(0.54=>\"0.54\",0.09=>\"0.09\",0.35=>\"0.35\",0.22=>\"0.22\",0.38=>\"0.38\",0.56=>\"0.56\",0.2=>\"0.2\",0.06=>\"0.06\",0.05=>\"0.05\",0.48=>\"0.48\"…)),Any[],Any[],true,\"horizontal\")"
      ]
     },
     "metadata": {},
     "output_type": "display_data"
    },
    {
     "data": {
      "image/png": "[encoded data removed]",
      "text/plain": [
       "PyPlot.Figure(PyObject <matplotlib.figure.Figure object at 0x7fcef736ad50>)"
      ]
     },
     "execution_count": 12,
     "metadata": {
      "comm_id": "dd28e43b-5fcd-4ec4-a916-865182c3b817",
      "reactive": true
     },
     "output_type": "execute_result"
    }
   ],
   "source": [
    "let\n",
    "    N = 1000\n",
    "    c = linspace(0.001, 0.999, N)\n",
    "    ff = Array(Float64, N)\n",
    "    f = figure(figsize=[6, 3])\n",
    "    @manipulate for ω in 0.0:0.01:0.4, T in 0.0:0.01:0.60\n",
    "        withfig(f) do\n",
    "            for i in 1:N\n",
    "                ff[i] = F_mix(c[i], T, 0.05, 20.0, 0.30, ω, 0.50)\n",
    "            end\n",
    "            plot(c, ff)\n",
    "            xlim(0, 1)\n",
    "            ylim(-0.1, 0.1)\n",
    "            xlabel(\"Concentration\")\n",
    "            ylabel(L\"F_{mix}(c)\")\n",
    "            title(\"Free Energy of Mixing\")\n",
    "        end\n",
    "    end\n",
    "end"
   ]
  },
  {
   "cell_type": "markdown",
   "metadata": {},
   "source": [
    "## Correlation functions\n",
    "\n",
    "Appropriate choice of $C_{nn}(k)$ for a eutectic model needs to be constructed. Using Nana's paper for the window functions and additions from Ken papers about ordered crystals for the temperature model"
   ]
  },
  {
   "cell_type": "code",
   "execution_count": 13,
   "metadata": {
    "collapsed": false
   },
   "outputs": [
    {
     "data": {
      "text/plain": [
       "find_k (generic function with 1 method)"
      ]
     },
     "execution_count": 13,
     "metadata": {},
     "output_type": "execute_result"
    }
   ],
   "source": [
    "# Temperature \n",
    "T₀ = 1 / 1\n",
    "\n",
    "kₐ = 2π\n",
    "αₐ = 0.8\n",
    "\n",
    "kᵦ = 4π/√3\n",
    "αᵦ = 0.8\n",
    "\n",
    "CA(k, T) = exp(- T / T₀) * exp(- (k - kₐ)^2 / (2 * αₐ^2))\n",
    "CB(k, T) = exp(- T / T₀) * exp(- (k - kᵦ)^2 / (2 * αᵦ^2))\n",
    "χ(c) = 2c^3 - 3c^2 + 1\n",
    "\n",
    "Cₙₙ(k, c, T) = χ(c) * CA(k, T) + χ(1 - c) * CB(k, T)\n",
    "\n",
    "function find_k(c, T)\n",
    "    sol = optimize(k -> -Cₙₙ(k, c, T), 2π, 4π/√3)\n",
    "    k₀ = float(sol.minimizer)\n",
    "    return k₀\n",
    "end"
   ]
  },
  {
   "cell_type": "code",
   "execution_count": 14,
   "metadata": {
    "collapsed": false
   },
   "outputs": [
    {
     "data": {
      "text/html": [],
      "text/plain": [
       "Interact.Options{:SelectionSlider,Float64}(Signal{Float64}(0.5, nactions=1),\"c\",0.5,\"0.5\",Interact.OptionDict(DataStructures.OrderedDict(\"0.0\"=>0.0,\"0.01\"=>0.01,\"0.02\"=>0.02,\"0.03\"=>0.03,\"0.04\"=>0.04,\"0.05\"=>0.05,\"0.06\"=>0.06,\"0.07\"=>0.07,\"0.08\"=>0.08,\"0.09\"=>0.09…),Dict(0.54=>\"0.54\",0.86=>\"0.86\",0.09=>\"0.09\",0.35=>\"0.35\",0.22=>\"0.22\",0.38=>\"0.38\",0.56=>\"0.56\",0.2=>\"0.2\",0.89=>\"0.89\",0.06=>\"0.06\"…)),Any[],Any[],true,\"horizontal\")"
      ]
     },
     "metadata": {},
     "output_type": "display_data"
    },
    {
     "data": {
      "text/html": [],
      "text/plain": [
       "Interact.Options{:SelectionSlider,Float64}(Signal{Float64}(0.5, nactions=1),\"T\",0.5,\"0.5\",Interact.OptionDict(DataStructures.OrderedDict(\"0.0\"=>0.0,\"0.01\"=>0.01,\"0.02\"=>0.02,\"0.03\"=>0.03,\"0.04\"=>0.04,\"0.05\"=>0.05,\"0.06\"=>0.06,\"0.07\"=>0.07,\"0.08\"=>0.08,\"0.09\"=>0.09…),Dict(0.54=>\"0.54\",0.86=>\"0.86\",0.09=>\"0.09\",0.35=>\"0.35\",0.22=>\"0.22\",0.38=>\"0.38\",0.56=>\"0.56\",0.2=>\"0.2\",0.89=>\"0.89\",0.06=>\"0.06\"…)),Any[],Any[],true,\"horizontal\")"
      ]
     },
     "metadata": {},
     "output_type": "display_data"
    },
    {
     "data": {
      "text/plain": [
       "6.769191382058229"
      ]
     },
     "execution_count": 14,
     "metadata": {
      "comm_id": "642f4e42-1d40-46b3-aeda-46544bc3a952",
      "reactive": true
     },
     "output_type": "execute_result"
    }
   ],
   "source": [
    "@manipulate for c in 0.0:0.01:1.0, T in 0.0:0.01:1.0\n",
    "    find_k(c, T)\n",
    "end"
   ]
  },
  {
   "cell_type": "code",
   "execution_count": 15,
   "metadata": {
    "collapsed": false
   },
   "outputs": [
    {
     "data": {
      "text/html": [],
      "text/plain": [
       "Interact.Options{:SelectionSlider,Float64}(Signal{Float64}(0.5, nactions=1),\"c\",0.5,\"0.5\",Interact.OptionDict(DataStructures.OrderedDict(\"0.0\"=>0.0,\"0.01\"=>0.01,\"0.02\"=>0.02,\"0.03\"=>0.03,\"0.04\"=>0.04,\"0.05\"=>0.05,\"0.06\"=>0.06,\"0.07\"=>0.07,\"0.08\"=>0.08,\"0.09\"=>0.09…),Dict(0.54=>\"0.54\",0.86=>\"0.86\",0.09=>\"0.09\",0.35=>\"0.35\",0.22=>\"0.22\",0.38=>\"0.38\",0.56=>\"0.56\",0.2=>\"0.2\",0.89=>\"0.89\",0.06=>\"0.06\"…)),Any[],Any[],true,\"horizontal\")"
      ]
     },
     "metadata": {},
     "output_type": "display_data"
    },
    {
     "data": {
      "text/html": [],
      "text/plain": [
       "Interact.Options{:SelectionSlider,Float64}(Signal{Float64}(0.5, nactions=1),\"T\",0.5,\"0.5\",Interact.OptionDict(DataStructures.OrderedDict(\"0.0\"=>0.0,\"0.01\"=>0.01,\"0.02\"=>0.02,\"0.03\"=>0.03,\"0.04\"=>0.04,\"0.05\"=>0.05,\"0.06\"=>0.06,\"0.07\"=>0.07,\"0.08\"=>0.08,\"0.09\"=>0.09…),Dict(0.54=>\"0.54\",0.86=>\"0.86\",0.09=>\"0.09\",0.35=>\"0.35\",0.22=>\"0.22\",0.38=>\"0.38\",0.56=>\"0.56\",0.2=>\"0.2\",0.89=>\"0.89\",0.06=>\"0.06\"…)),Any[],Any[],true,\"horizontal\")"
      ]
     },
     "metadata": {},
     "output_type": "display_data"
    },
    {
     "data": {
      "image/png": "[encoded data removed]",
      "text/plain": [
       "PyPlot.Figure(PyObject <matplotlib.figure.Figure object at 0x7fcef736aa10>)"
      ]
     },
     "execution_count": 15,
     "metadata": {
      "comm_id": "13f41037-91fb-4d90-b0e6-593ec55875c4",
      "reactive": true
     },
     "output_type": "execute_result"
    }
   ],
   "source": [
    "let\n",
    "    N = 400\n",
    "    k = linspace(0.0, 10.0, N)\n",
    "    CC = Array(Float64, N)\n",
    "    f = figure(figsize=[6, 3])\n",
    "    @manipulate for c in 0.0:0.01:1.0, T in 0.0:0.01:1.0\n",
    "        withfig(f) do\n",
    "            for i in 1:N\n",
    "                CC[i] = Cₙₙ(k[i], c, T)\n",
    "            end\n",
    "            kmax = find_k(c, T)\n",
    "            plot(k, CC)\n",
    "            vlines(kmax, 0.0, 1.0)\n",
    "            xlim(0, 10)\n",
    "            ylim(0, 1.1)\n",
    "            xlabel(\"Wavenumber k\")\n",
    "            ylabel(L\"$C_{nn}(k)$\")\n",
    "        end \n",
    "    end\n",
    "end"
   ]
  },
  {
   "cell_type": "markdown",
   "metadata": {},
   "source": [
    "## Excess Free Energy\n",
    "\n",
    "The excess free energy term in the binary phase field crystal model is the form\n",
    "\n",
    "$$\n",
    "\\mathcal{F}_{ex}[n, c] = -\\frac{1}{2 V_{cell}}\\int_{cell} dr \\int dr^\\prime n(r) C_{eff}(r, r^\\prime; c) n(r^\\prime)\n",
    "$$\n",
    "\n",
    "Most of the modes in the amplitude expansion cancel out but we're left with the following at the end of the day:\n",
    "\n",
    "$$\n",
    "\\mathcal{F}_{ex}[n, c] = -\\frac{1}{2}(n_0^2 C_{eff}(k=0, c) + 6 A_1^2 C_{eff}(k=k_1, c) + 6 A_2^2 C_{eff}(k=k_2, c))\n",
    "$$"
   ]
  },
  {
   "cell_type": "code",
   "execution_count": 16,
   "metadata": {
    "collapsed": false
   },
   "outputs": [
    {
     "data": {
      "text/plain": [
       "F_ex (generic function with 1 method)"
      ]
     },
     "execution_count": 16,
     "metadata": {},
     "output_type": "execute_result"
    }
   ],
   "source": [
    "function F_ex(c, T, A)\n",
    "    k = c < 0.5 ? 2π : 4π/√3\n",
    "    return (-3.0*A^2*Cₙₙ(k, c, T))       # + 6.0*A[2]^2*C_eff(k[2], c, T))\n",
    "end"
   ]
  },
  {
   "cell_type": "code",
   "execution_count": 17,
   "metadata": {
    "collapsed": false
   },
   "outputs": [
    {
     "data": {
      "text/html": [],
      "text/plain": [
       "Interact.Options{:SelectionSlider,Float64}(Signal{Float64}(2.0, nactions=1),\"η\",2.0,\"2.0\",Interact.OptionDict(DataStructures.OrderedDict(\"1.0\"=>1.0,\"1.1\"=>1.1,\"1.2\"=>1.2,\"1.3\"=>1.3,\"1.4\"=>1.4,\"1.5\"=>1.5,\"1.6\"=>1.6,\"1.7\"=>1.7,\"1.8\"=>1.8,\"1.9\"=>1.9…),Dict(1.2=>\"1.2\",2.8=>\"2.8\",2.0=>\"2.0\",1.5=>\"1.5\",2.2=>\"2.2\",2.1=>\"2.1\",1.4=>\"1.4\",2.6=>\"2.6\",2.3=>\"2.3\",2.9=>\"2.9\"…)),Any[],Any[],true,\"horizontal\")"
      ]
     },
     "metadata": {},
     "output_type": "display_data"
    },
    {
     "data": {
      "text/html": [],
      "text/plain": [
       "Interact.Options{:SelectionSlider,Float64}(Signal{Float64}(0.491, nactions=1),\"c\",0.491,\"0.491\",Interact.OptionDict(DataStructures.OrderedDict(\"0.001\"=>0.001,\"0.011\"=>0.011,\"0.021\"=>0.021,\"0.031\"=>0.031,\"0.041\"=>0.041,\"0.051000000000000004\"=>0.051,\"0.061\"=>0.061,\"0.07100000000000001\"=>0.071,\"0.081\"=>0.081,\"0.091\"=>0.091…),Dict(0.411=>\"0.41100000000000003\",0.921=>\"0.921\",0.431=>\"0.431\",0.211=>\"0.211\",0.231=>\"0.231\",0.151=>\"0.151\",0.051=>\"0.051000000000000004\",0.041=>\"0.041\",0.011=>\"0.011\",0.791=>\"0.791\"…)),Any[],Any[],true,\"horizontal\")"
      ]
     },
     "metadata": {},
     "output_type": "display_data"
    },
    {
     "data": {
      "text/html": [],
      "text/plain": [
       "Interact.Options{:SelectionSlider,Float64}(Signal{Float64}(0.15, nactions=1),\"T\",0.15,\"0.15\",Interact.OptionDict(DataStructures.OrderedDict(\"0.0\"=>0.0,\"0.01\"=>0.01,\"0.02\"=>0.02,\"0.03\"=>0.03,\"0.04\"=>0.04,\"0.05\"=>0.05,\"0.06\"=>0.06,\"0.07\"=>0.07,\"0.08\"=>0.08,\"0.09\"=>0.09…),Dict(0.3=>\"0.3\",0.04=>\"0.04\",0.26=>\"0.26\",0.16=>\"0.16\",0.09=>\"0.09\",0.08=>\"0.08\",0.25=>\"0.25\",0.0=>\"0.0\",0.28=>\"0.28\",0.22=>\"0.22\"…)),Any[],Any[],true,\"horizontal\")"
      ]
     },
     "metadata": {},
     "output_type": "display_data"
    },
    {
     "data": {
      "image/png": "[encoded data removed]",
      "text/plain": [
       "PyPlot.Figure(PyObject <matplotlib.figure.Figure object at 0x7fcef3c8c150>)"
      ]
     },
     "execution_count": 17,
     "metadata": {
      "comm_id": "cac6583d-e32a-4d09-a9f2-90d83a31c582",
      "reactive": true
     },
     "output_type": "execute_result"
    }
   ],
   "source": [
    "let\n",
    "    N = 1000\n",
    "    A = linspace(-2.0, 2.0, N)\n",
    "    ff = Array(Float64, N)\n",
    "    f = figure(figsize=(6, 3))\n",
    "    n₀ = 0.0\n",
    "    ϵ₀ = 20.0\n",
    "    Tc = 0.30\n",
    "    ω = 0.02\n",
    "    c₀ = 0.75\n",
    "    @manipulate for η in 1.0:0.1:3.0, c in 0.001:0.01:0.999, T in 0.0:0.01:0.3\n",
    "        withfig(f) do\n",
    "            for i in 1:N\n",
    "                ff[i] = F_ex(c, T, A[i]) + F_id(η, 1.0, 0.01, A[i]) + F_mix(c, T, n₀, ϵ₀, Tc, ω, c₀)\n",
    "            end\n",
    "            plot(A, ff)\n",
    "            ylim(-0.01,0.01)\n",
    "            xlim(-0.2, 0.5)\n",
    "            xlabel(\"Amplitude A\")\n",
    "            ylabel(L\"F(A)\")\n",
    "        end\n",
    "    end\n",
    "end"
   ]
  },
  {
   "cell_type": "markdown",
   "metadata": {},
   "source": [
    "## Total free energy\n",
    "\n",
    "The total free energy is sum of all the above terms"
   ]
  },
  {
   "cell_type": "code",
   "execution_count": 18,
   "metadata": {
    "collapsed": false
   },
   "outputs": [
    {
     "data": {
      "text/plain": [
       "F (generic function with 1 method)"
      ]
     },
     "execution_count": 18,
     "metadata": {},
     "output_type": "execute_result"
    }
   ],
   "source": [
    "F(c, T, η, χ, ϵ₀, T₀, ω, n₀, A, c₀) = F_mix(c, T, n₀, ϵ₀, T₀, ω, c₀) + F_ex(c, T, A)+ F_id(η, χ, n₀, A) "
   ]
  },
  {
   "cell_type": "code",
   "execution_count": 19,
   "metadata": {
    "collapsed": false
   },
   "outputs": [
    {
     "data": {
      "text/plain": [
       "F (generic function with 2 methods)"
      ]
     },
     "execution_count": 19,
     "metadata": {},
     "output_type": "execute_result"
    }
   ],
   "source": [
    "function F(c, T, η, χ, ϵ₀, T₀, ω, n₀, c₀)\n",
    "    sol = optimize(A -> F(c, T, η, χ, ϵ₀, T₀, ω, n₀, A, c₀), 0.0, 10.0)\n",
    "    #println(\"Amplitude at concentation $c and temperature $T is $(sol.minimum)\")\n",
    "    return sol.minimum\n",
    "end"
   ]
  },
  {
   "cell_type": "code",
   "execution_count": 20,
   "metadata": {
    "collapsed": false
   },
   "outputs": [
    {
     "data": {
      "text/plain": [
       "false"
      ]
     },
     "execution_count": 20,
     "metadata": {},
     "output_type": "execute_result"
    }
   ],
   "source": [
    "pygui(false)"
   ]
  },
  {
   "cell_type": "code",
   "execution_count": 21,
   "metadata": {
    "collapsed": false
   },
   "outputs": [
    {
     "data": {
      "text/plain": [
       "F (generic function with 3 methods)"
      ]
     },
     "execution_count": 21,
     "metadata": {},
     "output_type": "execute_result"
    }
   ],
   "source": [
    "const η = 2.0\n",
    "const χχ = 1.0\n",
    "const ϵ₀ = 3.0\n",
    "const Tc = 0.01\n",
    "const ω = 0.3\n",
    "const n₀ = 0.05\n",
    "const c₀ = 0.50\n",
    "\n",
    "F(c, T) = F(c, T, η, χχ, ϵ₀, Tc, ω, n₀, c₀)"
   ]
  },
  {
   "cell_type": "code",
   "execution_count": 22,
   "metadata": {
    "collapsed": false
   },
   "outputs": [
    {
     "data": {
      "text/plain": [
       "make_phase_diagram (generic function with 1 method)"
      ]
     },
     "execution_count": 22,
     "metadata": {},
     "output_type": "execute_result"
    }
   ],
   "source": [
    "function make_phase_diagram(crnge, Trnge)\n",
    "    T_vals = Float64[] \n",
    "    c_vals = Float64[]\n",
    "    \n",
    "    c = collect(crnge)\n",
    "    T = collect(Trnge)\n",
    "    \n",
    "    f = Array(Float64, length(c))\n",
    "    \n",
    "    for t in 1:length(T)\n",
    "        for cc in 1:length(c)\n",
    "            f[cc] = F(c[cc], T[t])\n",
    "        end\n",
    "        arr = commontangent(f)\n",
    "        for domain in arr\n",
    "            for point in domain\n",
    "                push!(T_vals, T[t])\n",
    "                push!(c_vals, c[point])\n",
    "            end\n",
    "        end\n",
    "    end\n",
    "    return T_vals, c_vals\n",
    "end"
   ]
  },
  {
   "cell_type": "code",
   "execution_count": 23,
   "metadata": {
    "collapsed": false
   },
   "outputs": [
    {
     "data": {
      "text/plain": [
       "([0.0,0.0,0.01,0.01,0.02,0.02,0.03,0.03,0.04,0.04  …  0.3,0.3,0.31,0.31,0.31,0.31,0.32,0.32,0.32,0.32],[0.119,0.881,0.122,0.878,0.125,0.875,0.128,0.872,0.131,0.869  …  0.866,0.915,0.062,0.104,0.896,0.938,0.032,0.062,0.938,0.968])"
      ]
     },
     "execution_count": 23,
     "metadata": {},
     "output_type": "execute_result"
    }
   ],
   "source": [
    "crnge = 0.001:0.001:0.999\n",
    "Trnge = 0.00:0.010:1.0\n",
    "\n",
    "T_vals, c_vals = make_phase_diagram(crnge, Trnge)"
   ]
  },
  {
   "cell_type": "code",
   "execution_count": 27,
   "metadata": {
    "collapsed": false
   },
   "outputs": [],
   "source": [
    "f = figure()\n",
    "withfig(f) do\n",
    "    scatter(c_vals, T_vals, c=\"k\", s=10)\n",
    "    grid(false)\n",
    "    xlim(0, 1)\n",
    "    ylim(0.00, 0.35)\n",
    "    xlabel(L\"Concentration $(c)$\")\n",
    "    ylabel(L\"Temperature $(T)$\")\n",
    "    #title(\"Eutectic Phase Diagram\")\n",
    "end\n",
    "\n",
    "savefig(\"Eutectic Phase Diagram.svg\")"
   ]
  },
  {
   "cell_type": "code",
   "execution_count": 28,
   "metadata": {
    "collapsed": false
   },
   "outputs": [
    {
     "data": {
      "image/png": "[encoded data removed]",
      "text/plain": [
       "PyPlot.Figure(PyObject <matplotlib.figure.Figure object at 0x7fcef35feb50>)"
      ]
     },
     "metadata": {},
     "output_type": "display_data"
    }
   ],
   "source": [
    "scatter(c_vals, T_vals, c=\"k\", s=10)\n",
    "grid(false)"
   ]
  },
  {
   "cell_type": "code",
   "execution_count": null,
   "metadata": {
    "collapsed": true
   },
   "outputs": [],
   "source": []
  }
 ],
 "metadata": {
  "anaconda-cloud": {},
  "kernelspec": {
   "display_name": "Julia 0.5.1",
   "language": "julia",
   "name": "julia-0.5"
  },
  "language_info": {
   "file_extension": ".jl",
   "mimetype": "application/julia",
   "name": "julia",
   "version": "0.5.1"
  },
  "widgets": {
   "state": {
    "00baad91-897e-4d44-b6cd-a9e8fe1cadbc": {
     "views": [
      {
       "cell_index": 21
      }
     ]
    },
    "0268b2bc-7124-4828-be8e-281e9a01035a": {
     "views": [
      {
       "cell_index": 21
      }
     ]
    },
    "038c148f-f9b3-4b25-b7b4-37a19a20054f": {
     "views": [
      {
       "cell_index": 21
      }
     ]
    },
    "0589029d-9222-4376-a849-5b2e49a16cb0": {
     "views": [
      {
       "cell_index": 21
      }
     ]
    },
    "065e7b30-5977-40cf-b287-b7e291c07421": {
     "views": [
      {
       "cell_index": 18
      }
     ]
    },
    "0ae26eff-50d0-42d8-9569-6ccf78f19117": {
     "views": [
      {
       "cell_index": 26
      }
     ]
    },
    "0b36e0b3-7ac6-4626-81f6-a49e87068c12": {
     "views": [
      {
       "cell_index": 17
      }
     ]
    },
    "1521a5b4-dc48-4cce-9471-7abc101610d2": {
     "views": [
      {
       "cell_index": 18
      }
     ]
    },
    "1aed9cba-3063-4501-a1ac-3d0ee1f5cd5f": {
     "views": [
      {
       "cell_index": 17
      }
     ]
    },
    "1b698c94-71da-44b2-8d0f-a8a2ef7330f5": {
     "views": [
      {
       "cell_index": 17
      }
     ]
    },
    "210a167b-788d-427e-b3a8-6e55358afb88": {
     "views": [
      {
       "cell_index": 18
      }
     ]
    },
    "27f47384-7f5a-40b4-9ec0-61ffdada9086": {
     "views": [
      {
       "cell_index": 17
      }
     ]
    },
    "32811a20-71ce-4470-a4db-b75a115fd024": {
     "views": [
      {
       "cell_index": 14
      }
     ]
    },
    "3616fe00-98d5-48b1-9cb9-9c00c6a02e88": {
     "views": [
      {
       "cell_index": 11
      }
     ]
    },
    "3cb67c47-b264-4009-9bbf-369c48297183": {
     "views": [
      {
       "cell_index": 17
      }
     ]
    },
    "3e7041f3-df05-40bc-9e00-d752400dd27f": {
     "views": [
      {
       "cell_index": 21
      }
     ]
    },
    "48b84099-fc84-481d-82fe-555647df74b0": {
     "views": [
      {
       "cell_index": 18
      }
     ]
    },
    "4e187a6b-a965-4e1f-9db6-9a79593ae74e": {
     "views": [
      {
       "cell_index": 14
      }
     ]
    },
    "50947494-66f7-4bf8-8e74-04c4ef33ab6b": {
     "views": [
      {
       "cell_index": 14
      }
     ]
    },
    "50a73b04-f409-4f81-9196-5309d7c6286f": {
     "views": [
      {
       "cell_index": 18
      }
     ]
    },
    "548d27d8-0408-434d-8c0c-2964ab9d3130": {
     "views": [
      {
       "cell_index": 18
      }
     ]
    },
    "594108be-ed54-4fba-9868-31e60124b22a": {
     "views": [
      {
       "cell_index": 11
      }
     ]
    },
    "5df3e61b-10bb-475a-adc3-1a35c4139d82": {
     "views": [
      {
       "cell_index": 14
      }
     ]
    },
    "65fe3b97-356b-4073-84c8-c67319123094": {
     "views": [
      {
       "cell_index": 14
      }
     ]
    },
    "65fea645-9c1f-4e8b-bd67-6e5c836e8cec": {
     "views": [
      {
       "cell_index": 18
      }
     ]
    },
    "67fb0841-1ac9-4a6e-ac5d-6c6bc47bd86c": {
     "views": [
      {
       "cell_index": 21
      }
     ]
    },
    "76d2f8b8-cab4-49cc-bc3c-648d66ea02b9": {
     "views": [
      {
       "cell_index": 11
      }
     ]
    },
    "7d62cda9-7b68-443e-9f04-c82ab94baa4c": {
     "views": [
      {
       "cell_index": 17
      }
     ]
    },
    "802d19c7-7ab8-4aa0-88f5-d6aadc589a08": {
     "views": [
      {
       "cell_index": 21
      }
     ]
    },
    "86ac1c81-e5a8-470e-b088-fd458455a5fc": {
     "views": [
      {
       "cell_index": 21
      }
     ]
    },
    "97310d61-8f07-4bc2-ae80-8f9554dbf8a5": {
     "views": [
      {
       "cell_index": 14
      }
     ]
    },
    "98b63839-445a-42f0-973e-92b74ff4f152": {
     "views": [
      {
       "cell_index": 14
      }
     ]
    },
    "a253c9d4-661f-4e75-80fe-705e94c72f61": {
     "views": [
      {
       "cell_index": 11
      }
     ]
    },
    "ad857529-bb98-4cd9-9d20-e10635257dd5": {
     "views": [
      {
       "cell_index": 18
      }
     ]
    },
    "b523b340-0ce9-406f-8836-cd79d58ecc23": {
     "views": [
      {
       "cell_index": 21
      }
     ]
    },
    "b553c790-e361-40b1-8441-363061e69259": {
     "views": [
      {
       "cell_index": 17
      }
     ]
    },
    "ba3184ae-24be-4216-9719-502fbffe8294": {
     "views": [
      {
       "cell_index": 17
      }
     ]
    },
    "ba79b995-26e7-49b5-9a95-54acc4af9a1a": {
     "views": [
      {
       "cell_index": 11
      }
     ]
    },
    "c14faee8-9984-4a23-9747-bb6c58cbabc8": {
     "views": [
      {
       "cell_index": 18
      }
     ]
    },
    "c2ee9551-a918-4bce-a2fc-36a36d4e9ed5": {
     "views": [
      {
       "cell_index": 21
      }
     ]
    },
    "c3a11125-211a-4422-9a36-648077f5c426": {
     "views": [
      {
       "cell_index": 21
      }
     ]
    },
    "c49a8dd1-df13-4760-b38a-95cf3ce51f4f": {
     "views": [
      {
       "cell_index": 21
      }
     ]
    },
    "d27fadde-adce-4d1e-bfe5-d90898127ee3": {
     "views": [
      {
       "cell_index": 21
      }
     ]
    },
    "d90a57d7-1c44-4cbc-bfb6-801e19811985": {
     "views": [
      {
       "cell_index": 18
      }
     ]
    },
    "ef04e8c7-67ef-4585-a5f6-121671463e99": {
     "views": [
      {
       "cell_index": 18
      }
     ]
    },
    "f036a10a-11a4-47a0-a594-a14f39bc3ae8": {
     "views": [
      {
       "cell_index": 14
      }
     ]
    }
   },
   "version": "1.2.0"
  }
 },
 "nbformat": 4,
 "nbformat_minor": 0
}
