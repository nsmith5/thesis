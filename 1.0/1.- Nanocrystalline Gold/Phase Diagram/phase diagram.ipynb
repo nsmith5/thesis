{
 "cells": [
  {
   "cell_type": "markdown",
   "metadata": {},
   "source": [
    "# Phase Diagram for the Syntectic System\n",
    "\n",
    "Here we develop a free energy functional and phase diagram for a system with a syntectic transition"
   ]
  },
  {
   "cell_type": "markdown",
   "metadata": {},
   "source": [
    "## Ideal Free Energy\n",
    "\n",
    "---\n",
    "\n",
    "The ideal free energy per unit area is of the following form\n",
    "\n",
    "$$\n",
    "\\mathcal{F}_{id}[n] = \\frac{1}{V_{cell}}\\int_{cell} \n",
    "\\frac{1}{2}n(x,y)^2 - \\frac{\\eta}{6} n(x,y)^3 + \\frac{\\chi}{12} n(x,y)^4\n",
    "$$\n",
    "\n",
    "To compute the phase diagram we use a variational method where we expand the reduced density, $n$, in the most general fourier series that is consistent with the symmetry of the bravais lattice.\n",
    "\n",
    "$$\n",
    "n(x,y) = n_0 + A_1 n_1(x,y) + A_2 n_2(x,y) + ...\n",
    "$$\n",
    "\n",
    "We then expand out the ansatz and compute each integral over the unit-cell numerically to find the amplitude equation for the ideal free energy"
   ]
  },
  {
   "cell_type": "code",
   "execution_count": 1,
   "metadata": {
    "collapsed": false
   },
   "outputs": [
    {
     "data": {
      "text/html": [
       "<div id=\"interact-js-shim\">\n",
       "    <script charset=\"utf-8\">\n",
       "(function (IPython, $, _, MathJax) {\n",
       "    $.event.special.destroyed = {\n",
       "\tremove: function(o) {\n",
       "\t    if (o.handler) {\n",
       "\t\to.handler.apply(this, arguments)\n",
       "\t    }\n",
       "\t}\n",
       "    }\n",
       "\n",
       "    var OutputArea = IPython.version >= \"4.0.0\" ? require(\"notebook/js/outputarea\").OutputArea : IPython.OutputArea;\n",
       "\n",
       "    var redrawValue = function (container, type, val) {\n",
       "\tvar selector = $(\"<div/>\");\n",
       "\tvar oa = new OutputArea(_.extend(selector, {\n",
       "\t    selector: selector,\n",
       "\t    prompt_area: true,\n",
       "\t    events: IPython.events,\n",
       "\t    keyboard_manager: IPython.keyboard_manager\n",
       "\t})); // Hack to work with IPython 2.1.0\n",
       "\n",
       "\tswitch (type) {\n",
       "\tcase \"image/png\":\n",
       "            var _src = 'data:' + type + ';base64,' + val;\n",
       "\t    $(container).find(\"img\").attr('src', _src);\n",
       "\t    break;\n",
       "\tcase \"text/latex\":\n",
       "\t\tif (MathJax){\n",
       "\t\t\tvar math = MathJax.Hub.getAllJax(container)[0];\n",
       "\t\t\tMathJax.Hub.Queue([\"Text\", math, val.replace(/^\\${1,2}|\\${1,2}$/g, '')]);\n",
       "\t\t\tbreak;\n",
       "\t\t}\n",
       "\tdefault:\n",
       "\t    var toinsert = OutputArea.append_map[type].apply(\n",
       "\t\toa, [val, {}, selector]\n",
       "\t    );\n",
       "\t    $(container).empty().append(toinsert.contents());\n",
       "\t    selector.remove();\n",
       "\t}\n",
       "    }\n",
       "\n",
       "\n",
       "    $(document).ready(function() {\n",
       "\tfunction initComm(evt, data) {\n",
       "\t    var comm_manager = data.kernel.comm_manager;\n",
       "        //_.extend(comm_manager.targets, require(\"widgets/js/widget\"))\n",
       "\t    comm_manager.register_target(\"Signal\", function (comm) {\n",
       "            comm.on_msg(function (msg) {\n",
       "                var val = msg.content.data.value;\n",
       "                $(\".signal-\" + comm.comm_id).each(function() {\n",
       "                var type = $(this).data(\"type\");\n",
       "                if (typeof(val[type]) !== \"undefined\" && val[type] !== null) {\n",
       "                    redrawValue(this, type, val[type], type);\n",
       "                }\n",
       "                });\n",
       "                delete val;\n",
       "                delete msg.content.data.value;\n",
       "            });\n",
       "\t    });\n",
       "\n",
       "\t    // coordingate with Comm and redraw Signals\n",
       "\t    // XXX: Test using Reactive here to improve performance\n",
       "\t    $([IPython.events]).on(\n",
       "\t\t'output_appended.OutputArea', function (event, type, value, md, toinsert) {\n",
       "\t\t    if (md && md.reactive) {\n",
       "                // console.log(md.comm_id);\n",
       "                toinsert.addClass(\"signal-\" + md.comm_id);\n",
       "                toinsert.data(\"type\", type);\n",
       "                // Signal back indicating the mimetype required\n",
       "                var comm_manager = IPython.notebook.kernel.comm_manager;\n",
       "                var comm = comm_manager.comms[md.comm_id];\n",
       "                comm.then(function (c) {\n",
       "                    c.send({action: \"subscribe_mime\",\n",
       "                       mime: type});\n",
       "                    toinsert.bind(\"destroyed\", function() {\n",
       "                        c.send({action: \"unsubscribe_mime\",\n",
       "                               mime: type});\n",
       "                    });\n",
       "                })\n",
       "\t\t    }\n",
       "\t    });\n",
       "\t}\n",
       "\n",
       "\ttry {\n",
       "\t    // try to initialize right away. otherwise, wait on the status_started event.\n",
       "\t    initComm(undefined, IPython.notebook);\n",
       "\t} catch (e) {\n",
       "\t    $([IPython.events]).on('kernel_created.Kernel kernel_created.Session', initComm);\n",
       "\t}\n",
       "    });\n",
       "})(IPython, jQuery, _, MathJax);\n",
       "</script>\n",
       "    <script>\n",
       "        window.interactLoadedFlag = true\n",
       "       $(\"#interact-js-shim\").bind(\"destroyed\", function () {\n",
       "           if (window.interactLoadedFlag) {\n",
       "               console.warn(\"JavaScript required by Interact will be removed if you remove this cell or run using Interact more than once.\")\n",
       "           }\n",
       "       })\n",
       "       $([IPython.events]).on(\"kernel_starting.Kernel kernel_restarting.Kernel\", function () { window.interactLoadedFlag = false })\n",
       "   </script>\n",
       "</div>"
      ]
     },
     "metadata": {},
     "output_type": "display_data"
    },
    {
     "name": "stdout",
     "output_type": "stream",
     "text": [
      "Connecting Maxima to server on port 8081\n"
     ]
    }
   ],
   "source": [
    "using PyPlot\n",
    "using Interact\n",
    "using Maxima\n",
    "using Optim\n",
    "using PhaseDiagrams"
   ]
  },
  {
   "cell_type": "code",
   "execution_count": 2,
   "metadata": {
    "collapsed": false
   },
   "outputs": [
    {
     "data": {
      "text/latex": [
       " \n",
       "$${{n^4\\,χ}\\over{12}}-{{n^3\\,η}\\over{6}}+{{n^2}\\over{2}}$$\n"
      ],
      "text/plain": [
       " \n",
       "                                4      3      2\n",
       "                               n  χ   n  η   n\n",
       "                               ---- - ---- + --\n",
       "                                12     6     2"
      ]
     },
     "execution_count": 2,
     "metadata": {},
     "output_type": "execute_result"
    }
   ],
   "source": [
    "f_ideal = m\"n^2/2 - η*n^3/6 + χ*n^4/12\""
   ]
  },
  {
   "cell_type": "code",
   "execution_count": 3,
   "metadata": {
    "collapsed": false
   },
   "outputs": [
    {
     "data": {
      "text/latex": [
       " \n",
       "$${{\\left(2\\,A\\,{\\it n_1}+{\\it n_0}\\right)^4\\,χ}\\over{12}}-{{\\left(2\n",
       " \\,A\\,{\\it n_1}+{\\it n_0}\\right)^3\\,η}\\over{6}}+{{\\left(2\\,A\\,\n",
       " {\\it n_1}+{\\it n_0}\\right)^2}\\over{2}}$$\n"
      ],
      "text/plain": [
       " \n",
       "                          4                  3                  2\n",
       "             (2 A n1 + n0)  χ   (2 A n1 + n0)  η   (2 A n1 + n0)\n",
       "             ---------------- - ---------------- + --------------\n",
       "                    12                 6                 2"
      ]
     },
     "execution_count": 3,
     "metadata": {},
     "output_type": "execute_result"
    }
   ],
   "source": [
    "n = m\"n0 + 2*A*n1\"            # + A[2]*n2\"\n",
    "\n",
    "f_ideal = subst(n, :n, f_ideal)"
   ]
  },
  {
   "cell_type": "code",
   "execution_count": 4,
   "metadata": {
    "collapsed": false
   },
   "outputs": [
    {
     "data": {
      "text/latex": [
       " \n",
       "$${{4\\,A^4\\,{\\it n_1}^4\\,χ}\\over{3}}+{{8\\,A^3\\,{\\it n_0}\\,{\\it n_1}^3\n",
       " \\,χ}\\over{3}}+2\\,A^2\\,{\\it n_0}^2\\,{\\it n_1}^2\\,χ+{{2\\,A\\,{\\it n_0}^\n",
       " 3\\,{\\it n_1}\\,χ}\\over{3}}+{{{\\it n_0}^4\\,χ}\\over{12}}-{{4\\,A^3\\,\n",
       " {\\it n_1}^3\\,η}\\over{3}}-2\\,A^2\\,{\\it n_0}\\,{\\it n_1}^2\\,η-A\\,\n",
       " {\\it n_0}^2\\,{\\it n_1}\\,η-{{{\\it n_0}^3\\,η}\\over{6}}+2\\,A^2\\,\n",
       " {\\it n_1}^2+2\\,A\\,{\\it n_0}\\,{\\it n_1}+{{{\\it n_0}^2}\\over{2}}$$\n"
      ],
      "text/plain": [
       " \n",
       "    4   4        3      3                            3          4\n",
       " 4 A  n1  χ   8 A  n0 n1  χ      2   2   2     2 A n0  n1 χ   n0  χ\n",
       " ---------- + ------------- + 2 A  n0  n1  χ + ------------ + -----\n",
       "     3              3                               3          12\n",
       "      3   3                                    3                              2\n",
       "   4 A  n1  η      2      2         2        n0  η      2   2               n0\n",
       " - ---------- - 2 A  n0 n1  η - A n0  n1 η - ----- + 2 A  n1  + 2 A n0 n1 + ---\n",
       "       3                                       6                             2"
      ]
     },
     "execution_count": 4,
     "metadata": {},
     "output_type": "execute_result"
    }
   ],
   "source": [
    "f_ideal = expand(f_ideal)"
   ]
  },
  {
   "cell_type": "code",
   "execution_count": 5,
   "metadata": {
    "collapsed": false
   },
   "outputs": [],
   "source": [
    "n1 = m\"cos(4*%pi/sqrt(3)*(sqrt(3)*x/2 - y/2)) + \n",
    "       cos(4*%pi/sqrt(3)*(sqrt(3)*x/2 + y/2)) + \n",
    "       cos(4*%pi/sqrt(3)*y)\"\n",
    "\n",
    "n2 = m\"cos(4*%pi*x) +\n",
    "       cos(4*%pi*(x/2 + sqrt(3)*y/2)) + \n",
    "       cos(4*%pi*(-x/2 + sqrt(3)*y/2))\"\n",
    "\n",
    "f_ideal = subst(n1, :n1, f_ideal)\n",
    "#f_ideal = subst(n2, :n2, f_ideal);"
   ]
  },
  {
   "cell_type": "code",
   "execution_count": 6,
   "metadata": {
    "collapsed": false
   },
   "outputs": [],
   "source": [
    "F_ideal = \"integrate(integrate($f_ideal, x, 0, 1), y, 0, sqrt(3)/2)\" |> MExpr;"
   ]
  },
  {
   "cell_type": "code",
   "execution_count": 7,
   "metadata": {
    "collapsed": false
   },
   "outputs": [
    {
     "data": {
      "text/latex": [
       " \n",
       "$${{-\\left(-2\\,3^{{{3}\\over{2}}}\\,\\pi\\,{\\it n_0}^4-8\\,3^{{{7}\\over{2\n",
       " }}}\\,\\pi\\,A^2\\,{\\it n_0}^2-32\\,3^{{{5}\\over{2}}}\\,\\pi\\,A^3\\,\n",
       " {\\it n_0}-20\\,3^{{{7}\\over{2}}}\\,\\pi\\,A^4\\right)\\,χ-\\left(4\\,3^{{{3\n",
       " }\\over{2}}}\\,\\pi\\,{\\it n_0}^3+8\\,3^{{{7}\\over{2}}}\\,\\pi\\,A^2\\,\n",
       " {\\it n_0}+16\\,3^{{{5}\\over{2}}}\\,\\pi\\,A^3\\right)\\,η+4\\,3^{{{5}\\over{\n",
       " 2}}}\\,\\pi\\,{\\it n_0}^2+8\\,3^{{{7}\\over{2}}}\\,\\pi\\,A^2}\\over{144\\,\\pi\n",
       " }}$$\n"
      ],
      "text/plain": [
       " \n",
       "            3/2       4       7/2      2   2       5/2      3\n",
       " ((- ((- 2 3    %pi n0 ) - 8 3    %pi A  n0  - 32 3    %pi A  n0\n",
       "       7/2      4           3/2       3      7/2      2          5/2      3\n",
       " - 20 3    %pi A ) χ) - (4 3    %pi n0  + 8 3    %pi A  n0 + 16 3    %pi A ) η\n",
       "      5/2       2      7/2      2\n",
       " + 4 3    %pi n0  + 8 3    %pi A )/(144 %pi)"
      ]
     },
     "execution_count": 7,
     "metadata": {},
     "output_type": "execute_result"
    }
   ],
   "source": [
    "F_ideal = mcall(F_ideal)"
   ]
  },
  {
   "cell_type": "code",
   "execution_count": 8,
   "metadata": {
    "collapsed": false
   },
   "outputs": [
    {
     "data": {
      "text/latex": [
       " \n",
       "$$0.08333333333333333\\,{\\it n_0}^4\\,χ+3.0\\,A^2\\,{\\it n_0}^2\\,χ+4.0\\,A\n",
       " ^3\\,{\\it n_0}\\,χ+7.5\\,A^4\\,χ-0.1666666666666667\\,{\\it n_0}^3\\,η-3.0\n",
       " \\,A^2\\,{\\it n_0}\\,η-2.0\\,A^3\\,η+0.5\\,{\\it n_0}^2+3.0\\,A^2$$\n"
      ],
      "text/plain": [
       " \n",
       "                       4          2   2          3             4\n",
       " 0.08333333333333333 n0  χ + 3.0 A  n0  χ + 4.0 A  n0 χ + 7.5 A  χ\n",
       "                                3          2             3           2        2\n",
       "         - 0.1666666666666667 n0  η - 3.0 A  n0 η - 2.0 A  η + 0.5 n0  + 3.0 A"
      ]
     },
     "execution_count": 8,
     "metadata": {},
     "output_type": "execute_result"
    }
   ],
   "source": [
    "F_ideal = ratsimp(F_ideal)\n",
    "F_ideal = \"$F_ideal/(sqrt(3)/2)\" |> MExpr |> mcall\n",
    "F_ideal = ratsimp(F_ideal)\n",
    "F_ideal = float(F_ideal)\n",
    "F_ideal = expand(F_ideal)"
   ]
  },
  {
   "cell_type": "code",
   "execution_count": 9,
   "metadata": {
    "collapsed": false
   },
   "outputs": [
    {
     "data": {
      "text/plain": [
       "F_id (generic function with 1 method)"
      ]
     },
     "execution_count": 9,
     "metadata": {},
     "output_type": "execute_result"
    }
   ],
   "source": [
    "F_id_exp = parse(F_ideal)                # Make julia expression of the ideal free energy\n",
    "@eval F_id(η, χ, n0, A) = $F_id_exp     # Make julia function from the expression"
   ]
  },
  {
   "cell_type": "code",
   "execution_count": 10,
   "metadata": {
    "collapsed": false
   },
   "outputs": [
    {
     "data": {
      "text/html": [],
      "text/plain": [
       "Interact.Options{:SelectionSlider,Float64}(Signal{Float64}(1.4, nactions=1),\"η\",1.4,\"1.4\",Interact.OptionDict(DataStructures.OrderedDict(\"1.0\"=>1.0,\"1.1\"=>1.1,\"1.2\"=>1.2,\"1.3\"=>1.3,\"1.4\"=>1.4,\"1.5\"=>1.5,\"1.6\"=>1.6,\"1.7\"=>1.7,\"1.8\"=>1.8),Dict(1.4=>\"1.4\",1.2=>\"1.2\",1.1=>\"1.1\",1.3=>\"1.3\",1.5=>\"1.5\",1.6=>\"1.6\",1.8=>\"1.8\",1.7=>\"1.7\",1.0=>\"1.0\")),Any[],Any[],true,\"horizontal\")"
      ]
     },
     "metadata": {},
     "output_type": "display_data"
    },
    {
     "data": {
      "text/html": [],
      "text/plain": [
       "Interact.Options{:SelectionSlider,Float64}(Signal{Float64}(0.1, nactions=1),\"n0\",0.1,\"0.1\",Interact.OptionDict(DataStructures.OrderedDict(\"0.0\"=>0.0,\"0.01\"=>0.01,\"0.02\"=>0.02,\"0.03\"=>0.03,\"0.04\"=>0.04,\"0.05\"=>0.05,\"0.06\"=>0.06,\"0.07\"=>0.07,\"0.08\"=>0.08,\"0.09\"=>0.09…),Dict(0.04=>\"0.04\",0.16=>\"0.16\",0.09=>\"0.09\",0.08=>\"0.08\",0.0=>\"0.0\",0.15=>\"0.15\",0.01=>\"0.01\",0.2=>\"0.2\",0.07=>\"0.07\",0.06=>\"0.06\"…)),Any[],Any[],true,\"horizontal\")"
      ]
     },
     "metadata": {},
     "output_type": "display_data"
    },
    {
     "data": {
      "image/png": "[encoded data removed]",
      "text/plain": [
       "PyPlot.Figure(PyObject <matplotlib.figure.Figure object at 0x7f55b2d470d0>)"
      ]
     },
     "execution_count": 10,
     "metadata": {
      "comm_id": "bd70151d-f3df-4f04-a63d-9bca605a0354",
      "reactive": true
     },
     "output_type": "execute_result"
    }
   ],
   "source": [
    "let\n",
    "    A = linspace(0.0, 4.0, 1000)\n",
    "    ff = Array(Float64, 1000)\n",
    "    f = figure(figsize=(6, 3))\n",
    "\n",
    "    @manipulate for η in 1.0:0.1:1.8, n0 in 0.0:0.01:0.2\n",
    "        withfig(f) do\n",
    "            for i in 1:1000\n",
    "                ff[i] = F_id(η, 1.0, n0, A[i])\n",
    "            end\n",
    "            plot(A, ff)\n",
    "            ylim(0, 100)\n",
    "            xlabel(\"Amplitude A\")\n",
    "            ylabel(L\"F_{ideal}(A)\")\n",
    "        end\n",
    "    end\n",
    "end"
   ]
  },
  {
   "cell_type": "markdown",
   "metadata": {},
   "source": [
    "## Free Energy of Mixing\n",
    "\n",
    "The free energy of mixing is of the following form:\n",
    "\n",
    "$$\n",
    "    \\mathcal{F}_{mix}[c] = \\frac{\\omega}{V_{cell}}\\int_{cell} \n",
    "    (1 + n_0)\\left(c \\log\\left(\\frac{c}{c_0}\\right) + \n",
    "    (1-c) \\log\\left(\\frac{1-c}{1-c_0}\\right)\\right) + \\frac{\\epsilon(T)}{2}(c-c_0)^2\n",
    "$$\n",
    "\n",
    "In equilibrium we can assume that the concentration is constant so the integral just cancels the factor of the volume of the unit cell. The term $\\epsilon(T)$ is the enthaply of mixing term which we model as, \n",
    "\n",
    "$$\n",
    "\\epsilon(T) = -4 + \\epsilon_0 (T - T_0),\n",
    "$$\n",
    "\n",
    "where $T_0$ is the spinodal temperature of the liquid"
   ]
  },
  {
   "cell_type": "code",
   "execution_count": 11,
   "metadata": {
    "collapsed": false
   },
   "outputs": [
    {
     "data": {
      "text/plain": [
       "F_mix (generic function with 1 method)"
      ]
     },
     "execution_count": 11,
     "metadata": {},
     "output_type": "execute_result"
    }
   ],
   "source": [
    " F_mix(c, T, n₀, ϵ₀, T₀, ω) = ω*((1+n₀)*(c*log(2.0*c) + (1-c)*log(2.0*(1-c))) + (-4.0 + ϵ₀*(T-T₀))/2*(c-0.5)^2)"
   ]
  },
  {
   "cell_type": "code",
   "execution_count": 12,
   "metadata": {
    "collapsed": false
   },
   "outputs": [
    {
     "data": {
      "text/html": [],
      "text/plain": [
       "Interact.Options{:SelectionSlider,Float64}(Signal{Float64}(0.2, nactions=1),\"ω\",0.2,\"0.2\",Interact.OptionDict(DataStructures.OrderedDict(\"0.0\"=>0.0,\"0.01\"=>0.01,\"0.02\"=>0.02,\"0.03\"=>0.03,\"0.04\"=>0.04,\"0.05\"=>0.05,\"0.06\"=>0.06,\"0.07\"=>0.07,\"0.08\"=>0.08,\"0.09\"=>0.09…),Dict(0.3=>\"0.3\",0.04=>\"0.04\",0.32=>\"0.32\",0.26=>\"0.26\",0.16=>\"0.16\",0.09=>\"0.09\",0.08=>\"0.08\",0.25=>\"0.25\",0.35=>\"0.35\",0.0=>\"0.0\"…)),Any[],Any[],true,\"horizontal\")"
      ]
     },
     "metadata": {},
     "output_type": "display_data"
    },
    {
     "data": {
      "text/html": [],
      "text/plain": [
       "Interact.Options{:SelectionSlider,Float64}(Signal{Float64}(0.3, nactions=1),\"T\",0.3,\"0.3\",Interact.OptionDict(DataStructures.OrderedDict(\"0.0\"=>0.0,\"0.01\"=>0.01,\"0.02\"=>0.02,\"0.03\"=>0.03,\"0.04\"=>0.04,\"0.05\"=>0.05,\"0.06\"=>0.06,\"0.07\"=>0.07,\"0.08\"=>0.08,\"0.09\"=>0.09…),Dict(0.54=>\"0.54\",0.09=>\"0.09\",0.35=>\"0.35\",0.22=>\"0.22\",0.38=>\"0.38\",0.56=>\"0.56\",0.2=>\"0.2\",0.06=>\"0.06\",0.05=>\"0.05\",0.48=>\"0.48\"…)),Any[],Any[],true,\"horizontal\")"
      ]
     },
     "metadata": {},
     "output_type": "display_data"
    },
    {
     "data": {
      "image/png": "[encoded data removed]",
      "text/plain": [
       "PyPlot.Figure(PyObject <matplotlib.figure.Figure object at 0x7f55b2bbdd90>)"
      ]
     },
     "execution_count": 12,
     "metadata": {
      "comm_id": "95bf1df7-a2e6-4929-a345-b3337e587c24",
      "reactive": true
     },
     "output_type": "execute_result"
    }
   ],
   "source": [
    "let\n",
    "    N = 1000\n",
    "    c = linspace(0.001, 0.999, N)\n",
    "    ff = Array(Float64, N)\n",
    "    f = figure(figsize=[6, 3])\n",
    "    @manipulate for ω in 0.0:0.01:0.4, T in 0.0:0.01:0.60\n",
    "        withfig(f) do\n",
    "            for i in 1:N\n",
    "                ff[i] = F_mix(c[i], T, 0.05, 20.0, 0.30, ω)\n",
    "            end\n",
    "            plot(c, ff)\n",
    "            xlim(0, 1)\n",
    "            ylim(-0.1, 0.1)\n",
    "            xlabel(\"Concentration\")\n",
    "            ylabel(L\"F_{mix}(c)\")\n",
    "        end\n",
    "    end\n",
    "end"
   ]
  },
  {
   "cell_type": "markdown",
   "metadata": {},
   "source": [
    "## Correlation functions\n",
    "\n",
    "There are a variety of effective pair correlation functions we can choose from. Here is one of them from the original xpfc paper"
   ]
  },
  {
   "cell_type": "code",
   "execution_count": 13,
   "metadata": {
    "collapsed": false
   },
   "outputs": [
    {
     "data": {
      "text/plain": [
       "C_eff (generic function with 1 method)"
      ]
     },
     "execution_count": 13,
     "metadata": {},
     "output_type": "execute_result"
    }
   ],
   "source": [
    "k′ = 2π\n",
    "α = 0.8\n",
    "β = 6.0\n",
    "ρ = sqrt(3)/2.0\n",
    "αc = 0.5\n",
    "c₀ = 0.5\n",
    "\n",
    "C_eff(k, c, T) = c^2*exp(-T^2*k′^2/(2*β*ρ))*exp(-(k-k′)^2/(2*α^2))"
   ]
  },
  {
   "cell_type": "code",
   "execution_count": 14,
   "metadata": {
    "collapsed": false
   },
   "outputs": [
    {
     "data": {
      "text/html": [],
      "text/plain": [
       "Interact.Options{:SelectionSlider,Float64}(Signal{Float64}(0.5, nactions=1),\"c\",0.5,\"0.5\",Interact.OptionDict(DataStructures.OrderedDict(\"0.0\"=>0.0,\"0.01\"=>0.01,\"0.02\"=>0.02,\"0.03\"=>0.03,\"0.04\"=>0.04,\"0.05\"=>0.05,\"0.06\"=>0.06,\"0.07\"=>0.07,\"0.08\"=>0.08,\"0.09\"=>0.09…),Dict(0.54=>\"0.54\",0.86=>\"0.86\",0.09=>\"0.09\",0.35=>\"0.35\",0.22=>\"0.22\",0.38=>\"0.38\",0.56=>\"0.56\",0.2=>\"0.2\",0.89=>\"0.89\",0.06=>\"0.06\"…)),Any[],Any[],true,\"horizontal\")"
      ]
     },
     "metadata": {},
     "output_type": "display_data"
    },
    {
     "data": {
      "text/html": [],
      "text/plain": [
       "Interact.Options{:SelectionSlider,Float64}(Signal{Float64}(0.5, nactions=1),\"T\",0.5,\"0.5\",Interact.OptionDict(DataStructures.OrderedDict(\"0.0\"=>0.0,\"0.01\"=>0.01,\"0.02\"=>0.02,\"0.03\"=>0.03,\"0.04\"=>0.04,\"0.05\"=>0.05,\"0.06\"=>0.06,\"0.07\"=>0.07,\"0.08\"=>0.08,\"0.09\"=>0.09…),Dict(0.54=>\"0.54\",0.86=>\"0.86\",0.09=>\"0.09\",0.35=>\"0.35\",0.22=>\"0.22\",0.38=>\"0.38\",0.56=>\"0.56\",0.2=>\"0.2\",0.89=>\"0.89\",0.06=>\"0.06\"…)),Any[],Any[],true,\"horizontal\")"
      ]
     },
     "metadata": {},
     "output_type": "display_data"
    },
    {
     "data": {
      "image/png": "[encoded data removed]",
      "text/plain": [
       "PyPlot.Figure(PyObject <matplotlib.figure.Figure object at 0x7f55b2d5ab50>)"
      ]
     },
     "execution_count": 14,
     "metadata": {
      "comm_id": "55a7d660-1bb8-405f-a035-fd48d6ce40bd",
      "reactive": true
     },
     "output_type": "execute_result"
    }
   ],
   "source": [
    "let\n",
    "    N = 400\n",
    "    k = linspace(0.0, 10.0, N)\n",
    "    CC = Array(Float64, N)\n",
    "    f = figure(figsize=[6, 3])\n",
    "    @manipulate for c in 0.0:0.01:1.0, T in 0.0:0.01:1.0\n",
    "        withfig(f) do\n",
    "            for i in 1:N\n",
    "                CC[i] = C_eff(k[i], c, T)\n",
    "            end\n",
    "            kmax = 2π\n",
    "            plot(k, CC)\n",
    "            vlines(kmax, 0.0, 1.0)\n",
    "            xlim(0, 10)\n",
    "            ylim(0, 1.1)\n",
    "            xlabel(\"Wavenumber k\")\n",
    "            ylabel(L\"$C_{eff}(k)$\")\n",
    "        end \n",
    "    end\n",
    "end"
   ]
  },
  {
   "cell_type": "markdown",
   "metadata": {},
   "source": [
    "## Excess Free Energy\n",
    "\n",
    "The excess free energy term in the binary phase field crystal model is the form\n",
    "\n",
    "$$\n",
    "\\mathcal{F}_{ex}[n, c] = -\\frac{1}{2 V_{cell}}\\int_{cell} dr \\int dr^\\prime n(r) C_{eff}(r, r^\\prime; c) n(r^\\prime)\n",
    "$$\n",
    "\n",
    "Most of the modes in the amplitude expansion cancel out but we're left with the following at the end of the day:\n",
    "\n",
    "$$\n",
    "\\mathcal{F}_{ex}[n, c] = -\\frac{1}{2 V_{cell}}(n_0^2 C_{eff}(k=0, c) + 6 A_1^2 C_{eff}(k=k_1, c) + 6 A_2^2 C_{eff}(k=k_2, c))\n",
    "$$"
   ]
  },
  {
   "cell_type": "code",
   "execution_count": 17,
   "metadata": {
    "collapsed": false
   },
   "outputs": [
    {
     "name": "stderr",
     "output_type": "stream",
     "text": [
      "WARNING: Method definition F_ex(Any, Any, Any) in module Main at In[16]:2 overwritten at In[17]:2.\n"
     ]
    },
    {
     "data": {
      "text/plain": [
       "F_ex (generic function with 1 method)"
      ]
     },
     "execution_count": 17,
     "metadata": {},
     "output_type": "execute_result"
    }
   ],
   "source": [
    "function F_ex(c, T, A)\n",
    "    k = k′\n",
    "    return (-3.0*A^2*C_eff(k, c, T))       # + 6.0*A[2]^2*C_eff(k[2], c, T))\n",
    "end"
   ]
  },
  {
   "cell_type": "code",
   "execution_count": 18,
   "metadata": {
    "collapsed": false
   },
   "outputs": [
    {
     "data": {
      "text/html": [],
      "text/plain": [
       "Interact.Options{:SelectionSlider,Float64}(Signal{Float64}(2.0, nactions=1),\"η\",2.0,\"2.0\",Interact.OptionDict(DataStructures.OrderedDict(\"1.0\"=>1.0,\"1.1\"=>1.1,\"1.2\"=>1.2,\"1.3\"=>1.3,\"1.4\"=>1.4,\"1.5\"=>1.5,\"1.6\"=>1.6,\"1.7\"=>1.7,\"1.8\"=>1.8,\"1.9\"=>1.9…),Dict(1.2=>\"1.2\",2.8=>\"2.8\",2.0=>\"2.0\",1.5=>\"1.5\",2.2=>\"2.2\",2.1=>\"2.1\",1.4=>\"1.4\",2.6=>\"2.6\",2.3=>\"2.3\",2.9=>\"2.9\"…)),Any[],Any[],true,\"horizontal\")"
      ]
     },
     "metadata": {},
     "output_type": "display_data"
    },
    {
     "data": {
      "text/html": [],
      "text/plain": [
       "Interact.Options{:SelectionSlider,Float64}(Signal{Float64}(0.491, nactions=1),\"c\",0.491,\"0.491\",Interact.OptionDict(DataStructures.OrderedDict(\"0.001\"=>0.001,\"0.011\"=>0.011,\"0.021\"=>0.021,\"0.031\"=>0.031,\"0.041\"=>0.041,\"0.051000000000000004\"=>0.051,\"0.061\"=>0.061,\"0.07100000000000001\"=>0.071,\"0.081\"=>0.081,\"0.091\"=>0.091…),Dict(0.411=>\"0.41100000000000003\",0.921=>\"0.921\",0.431=>\"0.431\",0.211=>\"0.211\",0.231=>\"0.231\",0.151=>\"0.151\",0.051=>\"0.051000000000000004\",0.041=>\"0.041\",0.011=>\"0.011\",0.791=>\"0.791\"…)),Any[],Any[],true,\"horizontal\")"
      ]
     },
     "metadata": {},
     "output_type": "display_data"
    },
    {
     "data": {
      "text/html": [],
      "text/plain": [
       "Interact.Options{:SelectionSlider,Float64}(Signal{Float64}(0.15, nactions=1),\"T\",0.15,\"0.15\",Interact.OptionDict(DataStructures.OrderedDict(\"0.0\"=>0.0,\"0.01\"=>0.01,\"0.02\"=>0.02,\"0.03\"=>0.03,\"0.04\"=>0.04,\"0.05\"=>0.05,\"0.06\"=>0.06,\"0.07\"=>0.07,\"0.08\"=>0.08,\"0.09\"=>0.09…),Dict(0.3=>\"0.3\",0.04=>\"0.04\",0.26=>\"0.26\",0.16=>\"0.16\",0.09=>\"0.09\",0.08=>\"0.08\",0.25=>\"0.25\",0.0=>\"0.0\",0.28=>\"0.28\",0.22=>\"0.22\"…)),Any[],Any[],true,\"horizontal\")"
      ]
     },
     "metadata": {},
     "output_type": "display_data"
    },
    {
     "data": {
      "image/png": "[encoded data removed]",
      "text/plain": [
       "PyPlot.Figure(PyObject <matplotlib.figure.Figure object at 0x7f55dcdf7410>)"
      ]
     },
     "execution_count": 18,
     "metadata": {
      "comm_id": "f6687486-d0a7-488d-82ae-5f1391f6163b",
      "reactive": true
     },
     "output_type": "execute_result"
    }
   ],
   "source": [
    "let\n",
    "    N = 1000\n",
    "    A = linspace(-2.0, 2.0, N)\n",
    "    ff = Array(Float64, N)\n",
    "    f = figure(figsize=(6, 3))\n",
    "    n₀ = 0.0\n",
    "    ϵ₀ = 20.0\n",
    "    T₀ = 0.30\n",
    "    ω = 0.02\n",
    "    @manipulate for η in 1.0:0.1:3.0, c in 0.001:0.01:0.999, T in 0.0:0.01:0.3\n",
    "        withfig(f) do\n",
    "            for i in 1:N\n",
    "                ff[i] = F_ex(c, T, A[i]) + F_id(η, 1.0, 0.01, A[i]) + F_mix(c, T, n₀, ϵ₀, T₀, ω)\n",
    "            end\n",
    "            plot(A, ff)\n",
    "            ylim(-0.01,0.01)\n",
    "            xlim(-0.2, 0.5)\n",
    "            xlabel(\"Amplitude A\")\n",
    "            ylabel(L\"F(A)\")\n",
    "        end\n",
    "    end\n",
    "end"
   ]
  },
  {
   "cell_type": "markdown",
   "metadata": {},
   "source": [
    "## Total free energy\n",
    "\n",
    "The total free energy is sum of all the above terms"
   ]
  },
  {
   "cell_type": "code",
   "execution_count": 19,
   "metadata": {
    "collapsed": false
   },
   "outputs": [
    {
     "data": {
      "text/plain": [
       "F (generic function with 1 method)"
      ]
     },
     "execution_count": 19,
     "metadata": {},
     "output_type": "execute_result"
    }
   ],
   "source": [
    "F(c, T, η, χ, ϵ₀, T₀, ω, n₀, A) = F_mix(c, T, n₀, ϵ₀, T₀, ω) + F_ex(c, T, A)+ F_id(η, χ, n₀, A) "
   ]
  },
  {
   "cell_type": "code",
   "execution_count": 26,
   "metadata": {
    "collapsed": false
   },
   "outputs": [
    {
     "name": "stderr",
     "output_type": "stream",
     "text": [
      "WARNING: Method definition F(Any, Any, Any, Any, Any, Any, Any, Any) in module Main at In[20]:2 overwritten at In[26]:2.\n"
     ]
    },
    {
     "data": {
      "text/plain": [
       "F (generic function with 3 methods)"
      ]
     },
     "execution_count": 26,
     "metadata": {},
     "output_type": "execute_result"
    }
   ],
   "source": [
    "function F(c, T, η, χ, ϵ₀, T₀, ω, n₀)\n",
    "    sol = optimize(A -> F(c, T, η, χ, ϵ₀, T₀, ω, n₀, A), 0.0, 10.0)\n",
    "    #println(\"Amplitude at concentation $c and temperature $T is $(sol.minimum)\")\n",
    "    return sol.minimum\n",
    "end"
   ]
  },
  {
   "cell_type": "code",
   "execution_count": 27,
   "metadata": {
    "collapsed": false
   },
   "outputs": [
    {
     "data": {
      "text/html": [],
      "text/plain": [
       "Interact.Options{:SelectionSlider,Float64}(Signal{Float64}(0.4901, nactions=1),\"c\",0.4901,\"0.4901\",Interact.OptionDict(DataStructures.OrderedDict(\"0.0001\"=>0.0001,\"0.0101\"=>0.0101,\"0.0201\"=>0.0201,\"0.0301\"=>0.0301,\"0.040100000000000004\"=>0.0401,\"0.050100000000000006\"=>0.0501,\"0.0601\"=>0.0601,\"0.07010000000000001\"=>0.0701,\"0.0801\"=>0.0801,\"0.0901\"=>0.0901…),Dict(0.3201=>\"0.3201\",0.9401=>\"0.9401\",0.3301=>\"0.3301\",0.4801=>\"0.48009999999999997\",0.5101=>\"0.5101\",0.8601=>\"0.8601\",0.7101=>\"0.7101\",0.9701=>\"0.9701\",0.0701=>\"0.07010000000000001\",0.1901=>\"0.1901\"…)),Any[],Any[],true,\"horizontal\")"
      ]
     },
     "metadata": {},
     "output_type": "display_data"
    },
    {
     "data": {
      "text/html": [],
      "text/plain": [
       "Interact.Options{:SelectionSlider,Float64}(Signal{Float64}(0.1, nactions=1),\"T\",0.1,\"0.1\",Interact.OptionDict(DataStructures.OrderedDict(\"0.0\"=>0.0,\"0.001\"=>0.001,\"0.002\"=>0.002,\"0.003\"=>0.003,\"0.004\"=>0.004,\"0.005\"=>0.005,\"0.006\"=>0.006,\"0.007\"=>0.007,\"0.008\"=>0.008,\"0.009\"=>0.009…),Dict(0.117=>\"0.117\",0.2=>\"0.2\",0.192=>\"0.192\",0.022=>\"0.022\",0.004=>\"0.004\",0.11=>\"0.11\",0.189=>\"0.189\",0.171=>\"0.171\",0.036=>\"0.036\",0.145=>\"0.145\"…)),Any[],Any[],true,\"horizontal\")"
      ]
     },
     "metadata": {},
     "output_type": "display_data"
    },
    {
     "name": "stderr",
     "output_type": "stream",
     "text": [
      "WARNING: redefining constant ω\n"
     ]
    },
    {
     "data": {
      "image/png": "[encoded data removed]",
      "text/plain": [
       "PyPlot.Figure(PyObject <matplotlib.figure.Figure object at 0x7f55b21d2690>)"
      ]
     },
     "execution_count": 27,
     "metadata": {
      "comm_id": "105ba6a8-a51c-43b6-a790-222305c686d3",
      "reactive": true
     },
     "output_type": "execute_result"
    }
   ],
   "source": [
    "let\n",
    "    N = 1000\n",
    "    A = linspace(-2.0, 3.0, N)\n",
    "    ff = Array(Float64, N)\n",
    "    f = figure(figsize=(6, 3))\n",
    "    η = 2.0\n",
    "    χ = 1.0\n",
    "    local ϵ₀ = 0.0\n",
    "    local T₀ = 0.0\n",
    "    n₀ = 0.05\n",
    "    ω = 0.02\n",
    "    @manipulate for c in 0.0001:0.01:0.9999, T in 0.0:0.001:0.20\n",
    "        withfig(f) do\n",
    "            for i in 1:N\n",
    "                ff[i] = F(c, T, η, χ, ϵ₀, T₀, ω, n₀, A[i])\n",
    "            end\n",
    "            A_min = optimize(A -> F(c, T, η, χ, ϵ₀, T₀, ω, n₀, A), 0.0, 7.0).minimizer\n",
    "            plot(A, ff)\n",
    "            vlines(A_min, -1, 1)\n",
    "            ylim(-1,1)\n",
    "            xlim(-1, 1)\n",
    "            xlabel(\"Amplitude A\")\n",
    "            ylabel(L\"F(A)\")\n",
    "        end\n",
    "    end\n",
    "end"
   ]
  },
  {
   "cell_type": "code",
   "execution_count": 28,
   "metadata": {
    "collapsed": false
   },
   "outputs": [
    {
     "data": {
      "text/html": [],
      "text/plain": [
       "Interact.Options{:SelectionSlider,Float64}(Signal{Float64}(0.2, nactions=1),\"T\",0.2,\"0.2\",Interact.OptionDict(DataStructures.OrderedDict(\"0.0\"=>0.0,\"0.001\"=>0.001,\"0.002\"=>0.002,\"0.003\"=>0.003,\"0.004\"=>0.004,\"0.005\"=>0.005,\"0.006\"=>0.006,\"0.007\"=>0.007,\"0.008\"=>0.008,\"0.009\"=>0.009…),Dict(0.259=>\"0.259\",0.117=>\"0.117\",0.265=>\"0.265\",0.22=>\"0.22\",0.207=>\"0.207\",0.2=>\"0.2\",0.293=>\"0.293\",0.272=>\"0.272\",0.392=>\"0.392\",0.221=>\"0.221\"…)),Any[],Any[],true,\"horizontal\")"
      ]
     },
     "metadata": {},
     "output_type": "display_data"
    },
    {
     "data": {
      "text/html": [],
      "text/plain": [
       "Interact.Options{:SelectionSlider,Float64}(Signal{Float64}(2.0, nactions=1),\"η\",2.0,\"2.0\",Interact.OptionDict(DataStructures.OrderedDict(\"1.0\"=>1.0,\"1.1\"=>1.1,\"1.2\"=>1.2,\"1.3\"=>1.3,\"1.4\"=>1.4,\"1.5\"=>1.5,\"1.6\"=>1.6,\"1.7\"=>1.7,\"1.8\"=>1.8,\"1.9\"=>1.9…),Dict(1.2=>\"1.2\",2.8=>\"2.8\",2.0=>\"2.0\",1.5=>\"1.5\",2.2=>\"2.2\",2.1=>\"2.1\",1.4=>\"1.4\",2.6=>\"2.6\",2.3=>\"2.3\",2.9=>\"2.9\"…)),Any[],Any[],true,\"horizontal\")"
      ]
     },
     "metadata": {},
     "output_type": "display_data"
    },
    {
     "data": {
      "image/png": "[encoded data removed]",
      "text/plain": [
       "PyPlot.Figure(PyObject <matplotlib.figure.Figure object at 0x7f55b2054490>)"
      ]
     },
     "execution_count": 28,
     "metadata": {
      "comm_id": "88f34c69-2aea-412e-90df-34c231b5576b",
      "reactive": true
     },
     "output_type": "execute_result"
    }
   ],
   "source": [
    "let\n",
    "    N = 200\n",
    "    c = linspace(0.001, 0.999, N)\n",
    "    ff = Array(Float64, N)\n",
    "    f = figure(figsize=[6, 3])\n",
    "    const χ = 1.0\n",
    "    const ϵ₀= 10.0\n",
    "    const T₀= 0.20\n",
    "    const n₀ = 0.05\n",
    "    const ω = 1.0\n",
    "    @manipulate for T in 0.0:0.001:0.4, η in 1.0:0.1:3.0\n",
    "        withfig(f) do\n",
    "            for i in 1:N\n",
    "                ff[i] = F(c[i], T, η, χ, ϵ₀, T₀, ω, n₀)\n",
    "            end\n",
    "            plot(c, ff)\n",
    "            xlim(0, 1)\n",
    "            xlabel(\"Concentration\")\n",
    "            ylabel(L\"F(c, T)\")\n",
    "        end\n",
    "    end\n",
    "end"
   ]
  },
  {
   "cell_type": "code",
   "execution_count": 29,
   "metadata": {
    "collapsed": false
   },
   "outputs": [
    {
     "data": {
      "text/plain": [
       "false"
      ]
     },
     "execution_count": 29,
     "metadata": {},
     "output_type": "execute_result"
    }
   ],
   "source": [
    "pygui(false)"
   ]
  },
  {
   "cell_type": "code",
   "execution_count": 30,
   "metadata": {
    "collapsed": false
   },
   "outputs": [
    {
     "name": "stderr",
     "output_type": "stream",
     "text": [
      "WARNING: redefining constant ω\n",
      "WARNING: Method definition F(Any, Any) in module Main at In[22]:8 overwritten at In[30]:8.\n"
     ]
    },
    {
     "data": {
      "text/plain": [
       "F (generic function with 3 methods)"
      ]
     },
     "execution_count": 30,
     "metadata": {},
     "output_type": "execute_result"
    }
   ],
   "source": [
    "const η = 2.0\n",
    "const χ = 1.0\n",
    "const ϵ₀ = 30.0\n",
    "const T₀ = 0.15\n",
    "const ω = 0.3\n",
    "const n₀ = 0.05\n",
    "\n",
    "F(c, T) = F(c, T, η, χ, ϵ₀, T₀, ω, n₀)"
   ]
  },
  {
   "cell_type": "code",
   "execution_count": 31,
   "metadata": {
    "collapsed": false
   },
   "outputs": [
    {
     "name": "stderr",
     "output_type": "stream",
     "text": [
      "WARNING: Method definition make_phase_diagram(Any, Any) in module Main at In[23]:2 overwritten at In[31]:2.\n"
     ]
    },
    {
     "data": {
      "text/plain": [
       "make_phase_diagram (generic function with 1 method)"
      ]
     },
     "execution_count": 31,
     "metadata": {},
     "output_type": "execute_result"
    }
   ],
   "source": [
    "function make_phase_diagram(crnge, Trnge)\n",
    "    T_vals = Float64[] \n",
    "    c_vals = Float64[]\n",
    "    \n",
    "    c = collect(crnge)\n",
    "    T = collect(Trnge)\n",
    "    \n",
    "    f = Array(Float64, length(c))\n",
    "    \n",
    "    for t in 1:length(T)\n",
    "        for cc in 1:length(c)\n",
    "            f[cc] = F(c[cc], T[t])\n",
    "        end\n",
    "        arr = commontangent(f)\n",
    "        for domain in arr\n",
    "            for point in domain\n",
    "                push!(T_vals, T[t])\n",
    "                push!(c_vals, c[point])\n",
    "            end\n",
    "        end\n",
    "    end\n",
    "    return T_vals, c_vals\n",
    "end"
   ]
  },
  {
   "cell_type": "code",
   "execution_count": 32,
   "metadata": {
    "collapsed": false
   },
   "outputs": [
    {
     "data": {
      "text/plain": [
       "([0.0,0.0,0.01,0.01,0.02,0.02,0.03,0.03,0.04,0.04  …  0.25,0.25,0.26,0.26,0.27,0.27,0.28,0.28,0.29,0.29],[0.014,0.999,0.017,0.999,0.02,0.999,0.023,0.999,0.027,0.999  …  0.951,0.985,0.966,0.989,0.975,0.993,0.986,0.997,0.996,0.999])"
      ]
     },
     "execution_count": 32,
     "metadata": {},
     "output_type": "execute_result"
    }
   ],
   "source": [
    "crnge = 0.001:0.001:0.999\n",
    "Trnge = 0.00:0.010:0.35\n",
    "\n",
    "T_vals, c_vals = make_phase_diagram(crnge, Trnge)"
   ]
  },
  {
   "cell_type": "code",
   "execution_count": null,
   "metadata": {
    "collapsed": false
   },
   "outputs": [],
   "source": [
    "f = figure()\n",
    "withfig(f) do\n",
    "    scatter(c_vals, T_vals, c=\"k\")\n",
    "    grid(false)\n",
    "    xlim(0, 1)\n",
    "    ylim(0.00, 0.40)\n",
    "    xlabel(L\"Concentration $(c)$\")\n",
    "    ylabel(L\"Temperature $(T)$\")\n",
    "    title(\"Nanocrystalline Phase Diagram\")\n",
    "end\n",
    "\n",
    "savefig(\"Nanocrystalline Phase Diagram.svg\")"
   ]
  },
  {
   "cell_type": "code",
   "execution_count": 33,
   "metadata": {
    "collapsed": false
   },
   "outputs": [
    {
     "data": {
      "image/png": "[encoded data removed]",
      "text/plain": [
       "PyPlot.Figure(PyObject <matplotlib.figure.Figure object at 0x7f55b2b4ead0>)"
      ]
     },
     "metadata": {},
     "output_type": "display_data"
    }
   ],
   "source": [
    "scatter(c_vals, T_vals, c=\"k\")\n",
    "xlim(0, 1)\n",
    "grid(false)"
   ]
  },
  {
   "cell_type": "code",
   "execution_count": null,
   "metadata": {
    "collapsed": true
   },
   "outputs": [],
   "source": []
  }
 ],
 "metadata": {
  "anaconda-cloud": {},
  "kernelspec": {
   "display_name": "Julia 0.5.0",
   "language": "julia",
   "name": "julia-0.5"
  },
  "language_info": {
   "file_extension": ".jl",
   "mimetype": "application/julia",
   "name": "julia",
   "version": "0.5.0"
  },
  "widgets": {
   "state": {
    "0b372010-5206-477b-a815-8bc26c996295": {
     "views": [
      {
       "cell_index": 17
      }
     ]
    },
    "11251ead-dd38-42b1-9df6-45c97d3d523b": {
     "views": [
      {
       "cell_index": 20
      }
     ]
    },
    "1cf7eab7-373c-45ce-a929-12a1b354dbe5": {
     "views": [
      {
       "cell_index": 11
      }
     ]
    },
    "25d83280-c161-480e-be51-c0da285c099f": {
     "views": [
      {
       "cell_index": 22
      }
     ]
    },
    "3932198f-be46-4c7f-85ad-4923dd93c6b0": {
     "views": [
      {
       "cell_index": 11
      }
     ]
    },
    "53ce6689-07bc-4636-8cf1-dfdada56ffb9": {
     "views": [
      {
       "cell_index": 14
      }
     ]
    },
    "65c4ed9b-ce6a-4b47-8a78-41722837aa85": {
     "views": [
      {
       "cell_index": 26
      }
     ]
    },
    "6611f7cb-6d49-4e4a-8723-b158a0d5a907": {
     "views": [
      {
       "cell_index": 20
      }
     ]
    },
    "675d4865-44c0-4c09-800a-df6d5ecf3832": {
     "views": [
      {
       "cell_index": 17
      }
     ]
    },
    "6d5e14b1-8b06-45a4-b4a8-eb2f2844e34a": {
     "views": [
      {
       "cell_index": 27
      }
     ]
    },
    "876ef219-46a2-4a78-93f7-18e7bd92d341": {
     "views": [
      {
       "cell_index": 18
      }
     ]
    },
    "8cfc7ac5-3c7b-4f05-a932-cb7a57cd0250": {
     "views": [
      {
       "cell_index": 26
      }
     ]
    },
    "a95b3b90-ecfd-4af8-9688-f5e602dcead2": {
     "views": [
      {
       "cell_index": 14
      }
     ]
    },
    "b7c10301-d107-4760-8280-db74711e1e2b": {
     "views": [
      {
       "cell_index": 27
      }
     ]
    },
    "ba5743aa-5483-4e6d-9ed3-5833d81599a4": {
     "views": [
      {
       "cell_index": 27
      }
     ]
    },
    "c6c029c8-36ef-427c-aab8-71a494295cb1": {
     "views": [
      {
       "cell_index": 26
      }
     ]
    },
    "d012908b-4ff5-43ab-802e-86ed9e8895cb": {
     "views": [
      {
       "cell_index": 11
      }
     ]
    },
    "d8d80b29-9d13-4ee6-8a4d-644e336113ca": {
     "views": [
      {
       "cell_index": 11
      }
     ]
    },
    "d93c6469-22b5-4373-87f0-1676ab0081f4": {
     "views": [
      {
       "cell_index": 20
      }
     ]
    },
    "ed8c4d83-2c89-4052-8c8a-54c2f820013d": {
     "views": [
      {
       "cell_index": 14
      }
     ]
    },
    "f479da58-aa3f-4474-a960-ed3a321247af": {
     "views": [
      {
       "cell_index": 14
      }
     ]
    },
    "fb4509f1-aec6-423d-a4a8-acc2e99cf2fe": {
     "views": [
      {
       "cell_index": 26
      }
     ]
    }
   },
   "version": "1.2.0"
  }
 },
 "nbformat": 4,
 "nbformat_minor": 0
}
